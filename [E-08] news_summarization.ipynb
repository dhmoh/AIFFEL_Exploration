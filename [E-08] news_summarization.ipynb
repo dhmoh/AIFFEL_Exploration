{
 "cells": [
  {
   "cell_type": "markdown",
   "id": "edadb1f7",
   "metadata": {},
   "source": [
    "# 8. 프로젝트 : 뉴스 요약봇 만들기\n",
    "\n",
    "\n",
    "## 목차\n",
    "\n",
    "> <p style=\"font-size:17px\">8.1 데이터 수집하기</p>\n",
    "  <p style=\"font-size:17px\">8.2 데이터 전처리하가기 (추상적 요약)</p> \n",
    "  <p style=\"font-size:17px\">8.3 어텐션 메커니즘 사용하기 (추상적 요약)</p>\n",
    "  <p style=\"font-size:17px\">8.4 실제 결과와 요약문 비교하기 (추상적 요약)</p>\n",
    "  <p style=\"font-size:17px\">8.5 Summa을 이용해서 추출적 요약해보기</p>\n",
    "\n",
    "\n",
    "## 루브릭 (프로젝트 평가 기준)\n",
    "\n",
    "> |<p style=\"font-size:15px\"> 평가문항 </p>                                |<p style=\"font-size:15px\"> 상세기준 </p>        |\n",
    "  |------------------------------------------------------------------------|------------------------------------------------|\n",
    "  | 1. Abstractive 모델 구성을 위한 텍스트 전처리 단계가 체계적으로 진행되었다. |분석단계, 정제단계, 정규화와 불용어 제거, 데이터셋 분리, 인코딩 과정이 빠짐없이 체계적으로 진행되었다.\n",
    "           |\n",
    "  | 2. 텍스트 요약모델이 성공적으로 학습되었음을 확인하였다. |모델학습이 안정적으로 수렴되었음을 그래프를 통해 확인하였으며, 실제 요약문과 유사한 요약문장을 얻을 수 있었다.|\n",
    "  | 3. Extractive 요약을 시도해 보고 Abstractive 요약 결과과 함께 비교해 보았다.            |두 요약 결과를 문법완성도 측면과 핵심단어 포함 측면으로 나누어 비교분석 결과를 제시하였다.|"
   ]
  },
  {
   "cell_type": "markdown",
   "id": "25aa7d6f",
   "metadata": {},
   "source": [
    "# 8.1 데이터 수집하기"
   ]
  },
  {
   "cell_type": "code",
   "execution_count": 1,
   "id": "30b0cef8",
   "metadata": {},
   "outputs": [
    {
     "name": "stderr",
     "output_type": "stream",
     "text": [
      "[nltk_data] Downloading package stopwords to /aiffel/nltk_data...\n",
      "[nltk_data]   Package stopwords is already up-to-date!\n"
     ]
    }
   ],
   "source": [
    "import nltk\n",
    "nltk.download('stopwords')\n",
    "\n",
    "import numpy as np\n",
    "import pandas as pd\n",
    "import os\n",
    "import re\n",
    "import matplotlib.pyplot as plt\n",
    "from nltk.corpus import stopwords\n",
    "from bs4 import BeautifulSoup \n",
    "from tensorflow.keras.preprocessing.text import Tokenizer \n",
    "from tensorflow.keras.preprocessing.sequence import pad_sequences\n",
    "import urllib.request"
   ]
  },
  {
   "cell_type": "code",
   "execution_count": 2,
   "id": "a89f6db8",
   "metadata": {},
   "outputs": [],
   "source": [
    "import urllib.request\n",
    "urllib.request.urlretrieve(\"https://raw.githubusercontent.com/sunnysai12345/News_Summary/master/news_summary_more.csv\", filename=\"news_summary_more.csv\")\n",
    "data = pd.read_csv('news_summary_more.csv', encoding='iso-8859-1')"
   ]
  },
  {
   "cell_type": "markdown",
   "id": "28004193",
   "metadata": {},
   "source": [
    "* 10개의 샘플을 확인합니다. \n",
    "    * 헤드라인과 텍스트로 이루어져있습니다. "
   ]
  },
  {
   "cell_type": "code",
   "execution_count": 9,
   "id": "5a2760fa",
   "metadata": {},
   "outputs": [
    {
     "data": {
      "text/html": [
       "<div>\n",
       "<style scoped>\n",
       "    .dataframe tbody tr th:only-of-type {\n",
       "        vertical-align: middle;\n",
       "    }\n",
       "\n",
       "    .dataframe tbody tr th {\n",
       "        vertical-align: top;\n",
       "    }\n",
       "\n",
       "    .dataframe thead th {\n",
       "        text-align: right;\n",
       "    }\n",
       "</style>\n",
       "<table border=\"1\" class=\"dataframe\">\n",
       "  <thead>\n",
       "    <tr style=\"text-align: right;\">\n",
       "      <th></th>\n",
       "      <th>headlines</th>\n",
       "      <th>text</th>\n",
       "    </tr>\n",
       "  </thead>\n",
       "  <tbody>\n",
       "    <tr>\n",
       "      <th>46342</th>\n",
       "      <td>Steve still delivered on promises, Musk never ...</td>\n",
       "      <td>Apple Co-founder Steve Wozniak has said while ...</td>\n",
       "    </tr>\n",
       "    <tr>\n",
       "      <th>17828</th>\n",
       "      <td>Iraq replaces Saudi as India's largest oil sup...</td>\n",
       "      <td>Ahead of US sanctions on Iranian oil, Iraq has...</td>\n",
       "    </tr>\n",
       "    <tr>\n",
       "      <th>96999</th>\n",
       "      <td>Mom gets call from school after kid takes vodk...</td>\n",
       "      <td>A woman from Queensland, Australia received a ...</td>\n",
       "    </tr>\n",
       "    <tr>\n",
       "      <th>28334</th>\n",
       "      <td>If someone asks me to audition, I leave that f...</td>\n",
       "      <td>Actress Mahie Gill has revealed that she feels...</td>\n",
       "    </tr>\n",
       "    <tr>\n",
       "      <th>33166</th>\n",
       "      <td>6 candidates share top score in JEE (Main) exa...</td>\n",
       "      <td>As many as six candidates shared the top score...</td>\n",
       "    </tr>\n",
       "    <tr>\n",
       "      <th>35556</th>\n",
       "      <td>Shooting gun more fun than ads: Dhoni on shoot...</td>\n",
       "      <td>Former India captain MS Dhoni took to Instagra...</td>\n",
       "    </tr>\n",
       "    <tr>\n",
       "      <th>92916</th>\n",
       "      <td>People compete to kiss car for longest time to...</td>\n",
       "      <td>In a contest held on Facebook Live, participan...</td>\n",
       "    </tr>\n",
       "    <tr>\n",
       "      <th>35720</th>\n",
       "      <td>Get back soon, says Sunil Grover to Kapil Sharma</td>\n",
       "      <td>Sunil Grover has said that Kapil Sharma should...</td>\n",
       "    </tr>\n",
       "    <tr>\n",
       "      <th>84470</th>\n",
       "      <td>Drones being used to drop drugs, porn into US ...</td>\n",
       "      <td>Drones were used over a dozen times in the las...</td>\n",
       "    </tr>\n",
       "    <tr>\n",
       "      <th>59005</th>\n",
       "      <td>Fiji resort villas come with own private strip...</td>\n",
       "      <td>There is a luxury private resort on an island ...</td>\n",
       "    </tr>\n",
       "  </tbody>\n",
       "</table>\n",
       "</div>"
      ],
      "text/plain": [
       "                                               headlines  \\\n",
       "46342  Steve still delivered on promises, Musk never ...   \n",
       "17828  Iraq replaces Saudi as India's largest oil sup...   \n",
       "96999  Mom gets call from school after kid takes vodk...   \n",
       "28334  If someone asks me to audition, I leave that f...   \n",
       "33166  6 candidates share top score in JEE (Main) exa...   \n",
       "35556  Shooting gun more fun than ads: Dhoni on shoot...   \n",
       "92916  People compete to kiss car for longest time to...   \n",
       "35720   Get back soon, says Sunil Grover to Kapil Sharma   \n",
       "84470  Drones being used to drop drugs, porn into US ...   \n",
       "59005  Fiji resort villas come with own private strip...   \n",
       "\n",
       "                                                    text  \n",
       "46342  Apple Co-founder Steve Wozniak has said while ...  \n",
       "17828  Ahead of US sanctions on Iranian oil, Iraq has...  \n",
       "96999  A woman from Queensland, Australia received a ...  \n",
       "28334  Actress Mahie Gill has revealed that she feels...  \n",
       "33166  As many as six candidates shared the top score...  \n",
       "35556  Former India captain MS Dhoni took to Instagra...  \n",
       "92916  In a contest held on Facebook Live, participan...  \n",
       "35720  Sunil Grover has said that Kapil Sharma should...  \n",
       "84470  Drones were used over a dozen times in the las...  \n",
       "59005  There is a luxury private resort on an island ...  "
      ]
     },
     "execution_count": 9,
     "metadata": {},
     "output_type": "execute_result"
    }
   ],
   "source": [
    "data.sample(10)"
   ]
  },
  {
   "cell_type": "markdown",
   "id": "d267a22c",
   "metadata": {},
   "source": [
    "* 전체 샘플 수 는 98401개입니다. "
   ]
  },
  {
   "cell_type": "code",
   "execution_count": 14,
   "id": "f1d71ce2",
   "metadata": {},
   "outputs": [
    {
     "name": "stdout",
     "output_type": "stream",
     "text": [
      "전체 샘플수 : 98401\n"
     ]
    }
   ],
   "source": [
    "print('전체 샘플수 :', (len(data)))"
   ]
  },
  {
   "cell_type": "markdown",
   "id": "9cec390d",
   "metadata": {},
   "source": [
    "# 8.2 데이터 전처리하가기 (추상적 요약)"
   ]
  },
  {
   "cell_type": "markdown",
   "id": "41fa9ae5",
   "metadata": {},
   "source": [
    "* 중복된 데이터르 배제한 text와 headlines의 샘플 수를 확인합니다."
   ]
  },
  {
   "cell_type": "code",
   "execution_count": 17,
   "id": "43d61975",
   "metadata": {},
   "outputs": [
    {
     "name": "stdout",
     "output_type": "stream",
     "text": [
      "text 열에서 중복을 배제한 유일한 샘플의 수 : 98360\n",
      "headlines 열에서 중복을 배제한 유일한 샘플의 수 : 98280\n"
     ]
    }
   ],
   "source": [
    "print('text 열에서 중복을 배제한 유일한 샘플의 수 :', data['text'].nunique())\n",
    "print('headlines 열에서 중복을 배제한 유일한 샘플의 수 :', data['headlines'].nunique())"
   ]
  },
  {
   "cell_type": "markdown",
   "id": "d0514dc4",
   "metadata": {},
   "source": [
    "* null 데이터를 확인합니다."
   ]
  },
  {
   "cell_type": "code",
   "execution_count": 18,
   "id": "ea3ae453",
   "metadata": {},
   "outputs": [
    {
     "name": "stdout",
     "output_type": "stream",
     "text": [
      "headlines    0\n",
      "text         0\n",
      "dtype: int64\n"
     ]
    }
   ],
   "source": [
    "print(data.isnull().sum())"
   ]
  },
  {
   "cell_type": "markdown",
   "id": "1de85223",
   "metadata": {},
   "source": [
    "* text 샘플들을 정규화 시키는 사전을 만듭니다."
   ]
  },
  {
   "cell_type": "code",
   "execution_count": 19,
   "id": "ecdc8bb9",
   "metadata": {},
   "outputs": [
    {
     "name": "stdout",
     "output_type": "stream",
     "text": [
      "정규화 사전의 수:  120\n"
     ]
    }
   ],
   "source": [
    "contractions = {\"ain't\": \"is not\", \"aren't\": \"are not\",\"can't\": \"cannot\", \"'cause\": \"because\", \"could've\": \"could have\", \"couldn't\": \"could not\",\n",
    "                           \"didn't\": \"did not\",  \"doesn't\": \"does not\", \"don't\": \"do not\", \"hadn't\": \"had not\", \"hasn't\": \"has not\", \"haven't\": \"have not\",\n",
    "                           \"he'd\": \"he would\",\"he'll\": \"he will\", \"he's\": \"he is\", \"how'd\": \"how did\", \"how'd'y\": \"how do you\", \"how'll\": \"how will\", \"how's\": \"how is\",\n",
    "                           \"I'd\": \"I would\", \"I'd've\": \"I would have\", \"I'll\": \"I will\", \"I'll've\": \"I will have\",\"I'm\": \"I am\", \"I've\": \"I have\", \"i'd\": \"i would\",\n",
    "                           \"i'd've\": \"i would have\", \"i'll\": \"i will\",  \"i'll've\": \"i will have\",\"i'm\": \"i am\", \"i've\": \"i have\", \"isn't\": \"is not\", \"it'd\": \"it would\",\n",
    "                           \"it'd've\": \"it would have\", \"it'll\": \"it will\", \"it'll've\": \"it will have\",\"it's\": \"it is\", \"let's\": \"let us\", \"ma'am\": \"madam\",\n",
    "                           \"mayn't\": \"may not\", \"might've\": \"might have\",\"mightn't\": \"might not\",\"mightn't've\": \"might not have\", \"must've\": \"must have\",\n",
    "                           \"mustn't\": \"must not\", \"mustn't've\": \"must not have\", \"needn't\": \"need not\", \"needn't've\": \"need not have\",\"o'clock\": \"of the clock\",\n",
    "                           \"oughtn't\": \"ought not\", \"oughtn't've\": \"ought not have\", \"shan't\": \"shall not\", \"sha'n't\": \"shall not\", \"shan't've\": \"shall not have\",\n",
    "                           \"she'd\": \"she would\", \"she'd've\": \"she would have\", \"she'll\": \"she will\", \"she'll've\": \"she will have\", \"she's\": \"she is\",\n",
    "                           \"should've\": \"should have\", \"shouldn't\": \"should not\", \"shouldn't've\": \"should not have\", \"so've\": \"so have\",\"so's\": \"so as\",\n",
    "                           \"this's\": \"this is\",\"that'd\": \"that would\", \"that'd've\": \"that would have\", \"that's\": \"that is\", \"there'd\": \"there would\",\n",
    "                           \"there'd've\": \"there would have\", \"there's\": \"there is\", \"here's\": \"here is\",\"they'd\": \"they would\", \"they'd've\": \"they would have\",\n",
    "                           \"they'll\": \"they will\", \"they'll've\": \"they will have\", \"they're\": \"they are\", \"they've\": \"they have\", \"to've\": \"to have\",\n",
    "                           \"wasn't\": \"was not\", \"we'd\": \"we would\", \"we'd've\": \"we would have\", \"we'll\": \"we will\", \"we'll've\": \"we will have\", \"we're\": \"we are\",\n",
    "                           \"we've\": \"we have\", \"weren't\": \"were not\", \"what'll\": \"what will\", \"what'll've\": \"what will have\", \"what're\": \"what are\",\n",
    "                           \"what's\": \"what is\", \"what've\": \"what have\", \"when's\": \"when is\", \"when've\": \"when have\", \"where'd\": \"where did\", \"where's\": \"where is\",\n",
    "                           \"where've\": \"where have\", \"who'll\": \"who will\", \"who'll've\": \"who will have\", \"who's\": \"who is\", \"who've\": \"who have\",\n",
    "                           \"why's\": \"why is\", \"why've\": \"why have\", \"will've\": \"will have\", \"won't\": \"will not\", \"won't've\": \"will not have\",\n",
    "                           \"would've\": \"would have\", \"wouldn't\": \"would not\", \"wouldn't've\": \"would not have\", \"y'all\": \"you all\",\n",
    "                           \"y'all'd\": \"you all would\",\"y'all'd've\": \"you all would have\",\"y'all're\": \"you all are\",\"y'all've\": \"you all have\",\n",
    "                           \"you'd\": \"you would\", \"you'd've\": \"you would have\", \"you'll\": \"you will\", \"you'll've\": \"you will have\",\n",
    "                           \"you're\": \"you are\", \"you've\": \"you have\"}\n",
    "\n",
    "print(\"정규화 사전의 수: \", len(contractions))"
   ]
  },
  {
   "cell_type": "markdown",
   "id": "19acfe40",
   "metadata": {},
   "source": [
    "* 불용어를 제거하여 자연어 처리의 성능을 높입니다. "
   ]
  },
  {
   "cell_type": "code",
   "execution_count": 20,
   "id": "3cc18944",
   "metadata": {},
   "outputs": [
    {
     "name": "stdout",
     "output_type": "stream",
     "text": [
      "불용어 개수 : 179\n",
      "['i', 'me', 'my', 'myself', 'we', 'our', 'ours', 'ourselves', 'you', \"you're\", \"you've\", \"you'll\", \"you'd\", 'your', 'yours', 'yourself', 'yourselves', 'he', 'him', 'his', 'himself', 'she', \"she's\", 'her', 'hers', 'herself', 'it', \"it's\", 'its', 'itself', 'they', 'them', 'their', 'theirs', 'themselves', 'what', 'which', 'who', 'whom', 'this', 'that', \"that'll\", 'these', 'those', 'am', 'is', 'are', 'was', 'were', 'be', 'been', 'being', 'have', 'has', 'had', 'having', 'do', 'does', 'did', 'doing', 'a', 'an', 'the', 'and', 'but', 'if', 'or', 'because', 'as', 'until', 'while', 'of', 'at', 'by', 'for', 'with', 'about', 'against', 'between', 'into', 'through', 'during', 'before', 'after', 'above', 'below', 'to', 'from', 'up', 'down', 'in', 'out', 'on', 'off', 'over', 'under', 'again', 'further', 'then', 'once', 'here', 'there', 'when', 'where', 'why', 'how', 'all', 'any', 'both', 'each', 'few', 'more', 'most', 'other', 'some', 'such', 'no', 'nor', 'not', 'only', 'own', 'same', 'so', 'than', 'too', 'very', 's', 't', 'can', 'will', 'just', 'don', \"don't\", 'should', \"should've\", 'now', 'd', 'll', 'm', 'o', 're', 've', 'y', 'ain', 'aren', \"aren't\", 'couldn', \"couldn't\", 'didn', \"didn't\", 'doesn', \"doesn't\", 'hadn', \"hadn't\", 'hasn', \"hasn't\", 'haven', \"haven't\", 'isn', \"isn't\", 'ma', 'mightn', \"mightn't\", 'mustn', \"mustn't\", 'needn', \"needn't\", 'shan', \"shan't\", 'shouldn', \"shouldn't\", 'wasn', \"wasn't\", 'weren', \"weren't\", 'won', \"won't\", 'wouldn', \"wouldn't\"]\n"
     ]
    }
   ],
   "source": [
    "print('불용어 개수 :', len(stopwords.words('english') ))\n",
    "print(stopwords.words('english'))"
   ]
  },
  {
   "cell_type": "code",
   "execution_count": 21,
   "id": "2ce97c07",
   "metadata": {},
   "outputs": [],
   "source": [
    "# 데이터 전처리 함수\n",
    "def preprocess_sentence(sentence, remove_stopwords=True):\n",
    "    sentence = sentence.lower() # 텍스트 소문자화\n",
    "    sentence = BeautifulSoup(sentence, \"lxml\").text # <br />, <a href = ...> 등의 html 태그 제거\n",
    "    sentence = re.sub(r'\\([^)]*\\)', '', sentence) # 괄호로 닫힌 문자열 (...) 제거 Ex) my husband (and myself!) for => my husband for\n",
    "    sentence = re.sub('\"','', sentence) # 쌍따옴표 \" 제거\n",
    "    sentence = ' '.join([contractions[t] if t in contractions else t for t in sentence.split(\" \")]) # 약어 정규화\n",
    "    sentence = re.sub(r\"'s\\b\",\"\", sentence) # 소유격 제거. Ex) roland's -> roland\n",
    "    sentence = re.sub(\"[^a-zA-Z]\", \" \", sentence) # 영어 외 문자(숫자, 특수문자 등) 공백으로 변환\n",
    "    sentence = re.sub('[m]{2,}', 'mm', sentence) # m이 3개 이상이면 2개로 변경. Ex) ummmmmmm yeah -> umm yeah\n",
    "    \n",
    "    # 불용어 제거 (Text)\n",
    "    if remove_stopwords:\n",
    "        tokens = ' '.join(word for word in sentence.split() if not word in stopwords.words('english') if len(word) > 1)\n",
    "    # 불용어 미제거 (Summary)\n",
    "    else:\n",
    "        tokens = ' '.join(word for word in sentence.split() if len(word) > 1)\n",
    "    return tokens"
   ]
  },
  {
   "cell_type": "code",
   "execution_count": 22,
   "id": "020bc252",
   "metadata": {},
   "outputs": [
    {
     "name": "stdout",
     "output_type": "stream",
     "text": [
      "text 전처리 후 결과:  ['saurav kant alumnus upgrad iiit pg program machine learning artificial intelligence sr systems engineer infosys almost years work experience program upgrad degree career support helped transition data scientist tech mahindra salary hike upgrad online power learning powered lakh careers', 'kunal shah credit card bill payment platform cred gave users chance win free food swiggy one year pranav kaushik delhi techie bagged reward spending cred coins users get one cred coin per rupee bill paid used avail rewards brands like ixigo bookmyshow ubereats cult fit', 'new zealand defeated india wickets fourth odi hamilton thursday win first match five match odi series india lost international match rohit sharma captaincy consecutive victories dating back march match witnessed india getting seventh lowest total odi cricket history', 'aegon life iterm insurance plan customers enjoy tax benefits premiums paid save taxes plan provides life cover age years also customers options insure critical illnesses disability accidental death benefit rider life cover age years', 'speaking sexual harassment allegations rajkumar hirani sonam kapoor said known hirani many years true metoo movement get derailed metoo movement always believe woman case need reserve judgment added hirani accused assistant worked sanju']\n"
     ]
    }
   ],
   "source": [
    "clean_text = []\n",
    "\n",
    "for s in data['text']:\n",
    "    clean_text.append(preprocess_sentence(s))\n",
    "\n",
    "# 전처리 후 출력\n",
    "print(\"text 전처리 후 결과: \", clean_text[:5])"
   ]
  },
  {
   "cell_type": "code",
   "execution_count": 23,
   "id": "3fb80f6a",
   "metadata": {},
   "outputs": [
    {
     "name": "stdout",
     "output_type": "stream",
     "text": [
      "headlines 전처리 후 결과:  ['upgrad learner switches to career in ml al with salary hike', 'delhi techie wins free food from swiggy for one year on cred', 'new zealand end rohit sharma led india match winning streak', 'aegon life iterm insurance plan helps customers save tax', 'have known hirani for yrs what if metoo claims are not true sonam']\n"
     ]
    }
   ],
   "source": [
    "clean_headlines = []\n",
    "\n",
    "for s in data['headlines']:\n",
    "    clean_headlines.append(preprocess_sentence(s, False))\n",
    "\n",
    "print(\"headlines 전처리 후 결과: \", clean_headlines[:5])"
   ]
  },
  {
   "cell_type": "code",
   "execution_count": 24,
   "id": "aab9ab3b",
   "metadata": {},
   "outputs": [],
   "source": [
    "data['text'] = clean_text\n",
    "data['headlines'] = clean_headlines\n",
    "\n",
    "# 빈 값을 Null 값으로 변환\n",
    "data.replace('', np.nan, inplace=True)"
   ]
  },
  {
   "cell_type": "code",
   "execution_count": 25,
   "id": "561e645b",
   "metadata": {},
   "outputs": [
    {
     "data": {
      "text/plain": [
       "headlines    0\n",
       "text         0\n",
       "dtype: int64"
      ]
     },
     "execution_count": 25,
     "metadata": {},
     "output_type": "execute_result"
    }
   ],
   "source": [
    "data.isnull().sum()"
   ]
  },
  {
   "cell_type": "code",
   "execution_count": 26,
   "id": "e9f3d9c3",
   "metadata": {},
   "outputs": [
    {
     "name": "stdout",
     "output_type": "stream",
     "text": [
      "전체 샘플수 : 98401\n"
     ]
    }
   ],
   "source": [
    "data.dropna(axis=0, inplace=True)\n",
    "print('전체 샘플수 :', (len(data)))"
   ]
  },
  {
   "cell_type": "code",
   "execution_count": 27,
   "id": "e7b1dd02",
   "metadata": {},
   "outputs": [
    {
     "name": "stdout",
     "output_type": "stream",
     "text": [
      "텍스트의 최소 길이 : 1\n",
      "텍스트의 최대 길이 : 60\n",
      "텍스트의 평균 길이 : 35.09983638377659\n",
      "헤드라인의 최소 길이 : 1\n",
      "헤드라인의 최대 길이 : 16\n",
      "헤드라인의 평균 길이 : 9.299651426306644\n"
     ]
    },
    {
     "data": {
      "image/png": "[encoded data removed]",
      "text/plain": [
       "<Figure size 432x288 with 2 Axes>"
      ]
     },
     "metadata": {
      "needs_background": "light"
     },
     "output_type": "display_data"
    },
    {
     "data": {
      "image/png": "[encoded data removed]",
      "text/plain": [
       "<Figure size 432x288 with 1 Axes>"
      ]
     },
     "metadata": {
      "needs_background": "light"
     },
     "output_type": "display_data"
    },
    {
     "data": {
      "image/png": "[encoded data removed]",
      "text/plain": [
       "<Figure size 432x288 with 1 Axes>"
      ]
     },
     "metadata": {
      "needs_background": "light"
     },
     "output_type": "display_data"
    }
   ],
   "source": [
    "# 길이 분포 출력\n",
    "import matplotlib.pyplot as plt\n",
    "\n",
    "text_len = [len(s.split()) for s in data['text']]\n",
    "headlines_len = [len(s.split()) for s in data['headlines']]\n",
    "\n",
    "print('텍스트의 최소 길이 : {}'.format(np.min(text_len)))\n",
    "print('텍스트의 최대 길이 : {}'.format(np.max(text_len)))\n",
    "print('텍스트의 평균 길이 : {}'.format(np.mean(text_len)))\n",
    "print('헤드라인의 최소 길이 : {}'.format(np.min(headlines_len)))\n",
    "print('헤드라인의 최대 길이 : {}'.format(np.max(headlines_len)))\n",
    "print('헤드라인의 평균 길이 : {}'.format(np.mean(headlines_len)))\n",
    "\n",
    "plt.subplot(1,2,1)\n",
    "plt.boxplot(text_len)\n",
    "plt.title('text')\n",
    "plt.subplot(1,2,2)\n",
    "plt.boxplot(headlines_len)\n",
    "plt.title('headlines')\n",
    "plt.tight_layout()\n",
    "plt.show()\n",
    "\n",
    "plt.title('text')\n",
    "plt.hist(text_len, bins = 40)\n",
    "plt.xlabel('length of samples')\n",
    "plt.ylabel('number of samples')\n",
    "plt.show()\n",
    "\n",
    "plt.title('headlines')\n",
    "plt.hist(headlines_len, bins = 40)\n",
    "plt.xlabel('length of samples')\n",
    "plt.ylabel('number of samples')\n",
    "plt.show()"
   ]
  },
  {
   "cell_type": "markdown",
   "id": "dbc75c69",
   "metadata": {},
   "source": [
    "* 위의 text 그래프를 확인 해보았을 때, sample length가 대부분 25에서 45안에 모여있는 것을 확인 할 수 있습니다. 따라서, text_max_len를 45로 지정합니다. \n",
    "* 위의 headlines 그래프를 확인 해보았을 때, sample length가 6에서 13안에 모여있는 것을 확인 할 수 있습니다. 따라서, headlines_max_len를 13으로 지정합니다."
   ]
  },
  {
   "cell_type": "code",
   "execution_count": 28,
   "id": "e95b03c7",
   "metadata": {},
   "outputs": [],
   "source": [
    "text_max_len = 45\n",
    "headlines_max_len = 13"
   ]
  },
  {
   "cell_type": "code",
   "execution_count": 29,
   "id": "4b72d886",
   "metadata": {},
   "outputs": [],
   "source": [
    "def below_threshold_len(max_len, nested_list):\n",
    "  cnt = 0\n",
    "  for s in nested_list:\n",
    "    if(len(s.split()) <= max_len):\n",
    "        cnt = cnt + 1\n",
    "  print('전체 샘플 중 길이가 %s 이하인 샘플의 비율: %s'%(max_len, (cnt / len(nested_list))))"
   ]
  },
  {
   "cell_type": "code",
   "execution_count": 30,
   "id": "c251436c",
   "metadata": {},
   "outputs": [
    {
     "name": "stdout",
     "output_type": "stream",
     "text": [
      "전체 샘플 중 길이가 45 이하인 샘플의 비율: 0.9967784880234957\n",
      "전체 샘플 중 길이가 13 이하인 샘플의 비율: 0.9981707502972531\n"
     ]
    }
   ],
   "source": [
    "below_threshold_len(text_max_len, data['text'])\n",
    "below_threshold_len(headlines_max_len,  data['headlines'])"
   ]
  },
  {
   "cell_type": "code",
   "execution_count": 31,
   "id": "f6852a1d",
   "metadata": {},
   "outputs": [
    {
     "name": "stdout",
     "output_type": "stream",
     "text": [
      "전체 샘플수 : 97904\n"
     ]
    }
   ],
   "source": [
    "data = data[data['text'].apply(lambda x: len(x.split()) <= text_max_len)]\n",
    "data = data[data['headlines'].apply(lambda x: len(x.split()) <= headlines_max_len)]\n",
    "print('전체 샘플수 :', (len(data)))"
   ]
  },
  {
   "cell_type": "code",
   "execution_count": 33,
   "id": "91359a07",
   "metadata": {},
   "outputs": [
    {
     "data": {
      "text/html": [
       "<div>\n",
       "<style scoped>\n",
       "    .dataframe tbody tr th:only-of-type {\n",
       "        vertical-align: middle;\n",
       "    }\n",
       "\n",
       "    .dataframe tbody tr th {\n",
       "        vertical-align: top;\n",
       "    }\n",
       "\n",
       "    .dataframe thead th {\n",
       "        text-align: right;\n",
       "    }\n",
       "</style>\n",
       "<table border=\"1\" class=\"dataframe\">\n",
       "  <thead>\n",
       "    <tr style=\"text-align: right;\">\n",
       "      <th></th>\n",
       "      <th>headlines</th>\n",
       "      <th>text</th>\n",
       "      <th>decoder_input</th>\n",
       "      <th>decoder_target</th>\n",
       "    </tr>\n",
       "  </thead>\n",
       "  <tbody>\n",
       "    <tr>\n",
       "      <th>0</th>\n",
       "      <td>upgrad learner switches to career in ml al wit...</td>\n",
       "      <td>saurav kant alumnus upgrad iiit pg program mac...</td>\n",
       "      <td>sostoken upgrad learner switches to career in ...</td>\n",
       "      <td>upgrad learner switches to career in ml al wit...</td>\n",
       "    </tr>\n",
       "    <tr>\n",
       "      <th>1</th>\n",
       "      <td>delhi techie wins free food from swiggy for on...</td>\n",
       "      <td>kunal shah credit card bill payment platform c...</td>\n",
       "      <td>sostoken delhi techie wins free food from swig...</td>\n",
       "      <td>delhi techie wins free food from swiggy for on...</td>\n",
       "    </tr>\n",
       "    <tr>\n",
       "      <th>2</th>\n",
       "      <td>new zealand end rohit sharma led india match w...</td>\n",
       "      <td>new zealand defeated india wickets fourth odi ...</td>\n",
       "      <td>sostoken new zealand end rohit sharma led indi...</td>\n",
       "      <td>new zealand end rohit sharma led india match w...</td>\n",
       "    </tr>\n",
       "    <tr>\n",
       "      <th>3</th>\n",
       "      <td>aegon life iterm insurance plan helps customer...</td>\n",
       "      <td>aegon life iterm insurance plan customers enjo...</td>\n",
       "      <td>sostoken aegon life iterm insurance plan helps...</td>\n",
       "      <td>aegon life iterm insurance plan helps customer...</td>\n",
       "    </tr>\n",
       "    <tr>\n",
       "      <th>4</th>\n",
       "      <td>have known hirani for yrs what if metoo claims...</td>\n",
       "      <td>speaking sexual harassment allegations rajkuma...</td>\n",
       "      <td>sostoken have known hirani for yrs what if met...</td>\n",
       "      <td>have known hirani for yrs what if metoo claims...</td>\n",
       "    </tr>\n",
       "  </tbody>\n",
       "</table>\n",
       "</div>"
      ],
      "text/plain": [
       "                                           headlines  \\\n",
       "0  upgrad learner switches to career in ml al wit...   \n",
       "1  delhi techie wins free food from swiggy for on...   \n",
       "2  new zealand end rohit sharma led india match w...   \n",
       "3  aegon life iterm insurance plan helps customer...   \n",
       "4  have known hirani for yrs what if metoo claims...   \n",
       "\n",
       "                                                text  \\\n",
       "0  saurav kant alumnus upgrad iiit pg program mac...   \n",
       "1  kunal shah credit card bill payment platform c...   \n",
       "2  new zealand defeated india wickets fourth odi ...   \n",
       "3  aegon life iterm insurance plan customers enjo...   \n",
       "4  speaking sexual harassment allegations rajkuma...   \n",
       "\n",
       "                                       decoder_input  \\\n",
       "0  sostoken upgrad learner switches to career in ...   \n",
       "1  sostoken delhi techie wins free food from swig...   \n",
       "2  sostoken new zealand end rohit sharma led indi...   \n",
       "3  sostoken aegon life iterm insurance plan helps...   \n",
       "4  sostoken have known hirani for yrs what if met...   \n",
       "\n",
       "                                      decoder_target  \n",
       "0  upgrad learner switches to career in ml al wit...  \n",
       "1  delhi techie wins free food from swiggy for on...  \n",
       "2  new zealand end rohit sharma led india match w...  \n",
       "3  aegon life iterm insurance plan helps customer...  \n",
       "4  have known hirani for yrs what if metoo claims...  "
      ]
     },
     "execution_count": 33,
     "metadata": {},
     "output_type": "execute_result"
    }
   ],
   "source": [
    "# 헤드라인 데이터에는 시작 토큰과 종료 토큰을 추가한다.\n",
    "data['decoder_input'] = data['headlines'].apply(lambda x : 'sostoken '+ x)\n",
    "data['decoder_target'] = data['headlines'].apply(lambda x : x + ' eostoken')\n",
    "data.head()"
   ]
  },
  {
   "cell_type": "code",
   "execution_count": 34,
   "id": "e99c743d",
   "metadata": {},
   "outputs": [],
   "source": [
    "encoder_input = np.array(data['text']) # 인코더의 입력\n",
    "decoder_input = np.array(data['decoder_input']) # 디코더의 입력\n",
    "decoder_target = np.array(data['decoder_target']) # 디코더의 레이블"
   ]
  },
  {
   "cell_type": "code",
   "execution_count": 35,
   "id": "be6cb3d5",
   "metadata": {},
   "outputs": [
    {
     "name": "stdout",
     "output_type": "stream",
     "text": [
      "[30510 61090 69532 ... 74332 92860 90718]\n"
     ]
    }
   ],
   "source": [
    "indices = np.arange(encoder_input.shape[0])\n",
    "np.random.shuffle(indices)\n",
    "print(indices)"
   ]
  },
  {
   "cell_type": "code",
   "execution_count": 36,
   "id": "83d3e8c5",
   "metadata": {},
   "outputs": [],
   "source": [
    "encoder_input = encoder_input[indices]\n",
    "decoder_input = decoder_input[indices]\n",
    "decoder_target = decoder_target[indices]"
   ]
  },
  {
   "cell_type": "code",
   "execution_count": 37,
   "id": "67e10ca7",
   "metadata": {},
   "outputs": [
    {
     "name": "stdout",
     "output_type": "stream",
     "text": [
      "테스트 데이터의 수 : 19580\n"
     ]
    }
   ],
   "source": [
    "n_of_val = int(len(encoder_input)*0.2)\n",
    "print('테스트 데이터의 수 :', n_of_val)"
   ]
  },
  {
   "cell_type": "code",
   "execution_count": 38,
   "id": "f967911a",
   "metadata": {},
   "outputs": [
    {
     "name": "stdout",
     "output_type": "stream",
     "text": [
      "훈련 데이터의 개수 : 78324\n",
      "훈련 레이블의 개수 : 78324\n",
      "테스트 데이터의 개수 : 19580\n",
      "테스트 레이블의 개수 : 19580\n"
     ]
    }
   ],
   "source": [
    "encoder_input_train = encoder_input[:-n_of_val]\n",
    "decoder_input_train = decoder_input[:-n_of_val]\n",
    "decoder_target_train = decoder_target[:-n_of_val]\n",
    "\n",
    "encoder_input_test = encoder_input[-n_of_val:]\n",
    "decoder_input_test = decoder_input[-n_of_val:]\n",
    "decoder_target_test = decoder_target[-n_of_val:]\n",
    "\n",
    "print('훈련 데이터의 개수 :', len(encoder_input_train))\n",
    "print('훈련 레이블의 개수 :', len(decoder_input_train))\n",
    "print('테스트 데이터의 개수 :', len(encoder_input_test))\n",
    "print('테스트 레이블의 개수 :', len(decoder_input_test))"
   ]
  },
  {
   "cell_type": "code",
   "execution_count": 39,
   "id": "937e3779",
   "metadata": {},
   "outputs": [],
   "source": [
    "src_tokenizer = Tokenizer() # 토크나이저 정의\n",
    "src_tokenizer.fit_on_texts(encoder_input_train) # 입력된 데이터로부터 단어 집합 생성"
   ]
  },
  {
   "cell_type": "markdown",
   "id": "be3cda2d",
   "metadata": {},
   "source": [
    "* threshold를 7로 설정하여 7번 미만으로 나타나는 단어의 수를 카운트합니다.\n",
    "    * 위의 단어 수를 훈련과정에서 제외합니다. "
   ]
  },
  {
   "cell_type": "code",
   "execution_count": 40,
   "id": "85eb0e12",
   "metadata": {},
   "outputs": [
    {
     "name": "stdout",
     "output_type": "stream",
     "text": [
      "단어 집합(vocabulary)의 크기 : 69298\n",
      "등장 빈도가 6번 이하인 희귀 단어의 수: 47219\n",
      "단어 집합에서 희귀 단어를 제외시킬 경우의 단어 집합의 크기 22079\n",
      "단어 집합에서 희귀 단어의 비율: 68.13905163208173\n",
      "전체 등장 빈도에서 희귀 단어 등장 빈도 비율: 3.484299749987437\n"
     ]
    }
   ],
   "source": [
    "threshold = 7\n",
    "total_cnt = len(src_tokenizer.word_index) # 단어의 수\n",
    "rare_cnt = 0 # 등장 빈도수가 threshold보다 작은 단어의 개수를 카운트\n",
    "total_freq = 0 # 훈련 데이터의 전체 단어 빈도수 총 합\n",
    "rare_freq = 0 # 등장 빈도수가 threshold보다 작은 단어의 등장 빈도수의 총 합\n",
    "\n",
    "# 단어와 빈도수의 쌍(pair)을 key와 value로 받는다.\n",
    "for key, value in src_tokenizer.word_counts.items():\n",
    "    total_freq = total_freq + value\n",
    "\n",
    "    # 단어의 등장 빈도수가 threshold보다 작으면\n",
    "    if(value < threshold):\n",
    "        rare_cnt = rare_cnt + 1\n",
    "        rare_freq = rare_freq + value\n",
    "\n",
    "print('단어 집합(vocabulary)의 크기 :', total_cnt)\n",
    "print('등장 빈도가 %s번 이하인 희귀 단어의 수: %s'%(threshold - 1, rare_cnt))\n",
    "print('단어 집합에서 희귀 단어를 제외시킬 경우의 단어 집합의 크기 %s'%(total_cnt - rare_cnt))\n",
    "print(\"단어 집합에서 희귀 단어의 비율:\", (rare_cnt / total_cnt)*100)\n",
    "print(\"전체 등장 빈도에서 희귀 단어 등장 빈도 비율:\", (rare_freq / total_freq)*100)"
   ]
  },
  {
   "cell_type": "code",
   "execution_count": 41,
   "id": "072e0fe8",
   "metadata": {},
   "outputs": [],
   "source": [
    "src_vocab = 20000\n",
    "src_tokenizer = Tokenizer(num_words=src_vocab) # 단어 집합의 크기를 20,000으로 제한\n",
    "src_tokenizer.fit_on_texts(encoder_input_train) # 단어 집합 재생성"
   ]
  },
  {
   "cell_type": "code",
   "execution_count": 42,
   "id": "bc7a4dde",
   "metadata": {},
   "outputs": [
    {
     "name": "stdout",
     "output_type": "stream",
     "text": [
      "[[8665, 21, 294, 274, 51, 343, 1498, 910, 27, 1549, 1516, 6045, 14734, 3100, 986, 296, 217, 343, 3297, 2012, 294, 14734, 1025, 23, 23, 1579, 1138, 343, 3297, 632, 35, 3], [2269, 129, 1550, 189, 2616, 13, 2698, 87, 521, 2726, 138, 4008, 1849, 5927, 3608, 12539, 5928, 273, 2269, 1325, 2008, 15913, 13, 126, 3841, 970, 275, 87, 1345, 7764, 2698, 7633, 6794, 13, 696, 2000, 1748], [239, 424, 284, 4993, 9630, 592, 2164, 7224, 1551, 135, 135, 1037, 1504, 2799, 330, 302, 4993, 1504, 852, 5876, 647, 411, 1178, 643, 104, 1037, 592, 15914, 2337, 11, 135, 483]]\n"
     ]
    }
   ],
   "source": [
    "# 텍스트 시퀀스를 정수 시퀀스로 변환\n",
    "encoder_input_train = src_tokenizer.texts_to_sequences(encoder_input_train) \n",
    "encoder_input_test = src_tokenizer.texts_to_sequences(encoder_input_test)\n",
    "\n",
    "# 잘 진행되었는지 샘플 출력\n",
    "print(encoder_input_train[:3])"
   ]
  },
  {
   "cell_type": "code",
   "execution_count": 43,
   "id": "debd9dab",
   "metadata": {},
   "outputs": [],
   "source": [
    "tar_tokenizer = Tokenizer()\n",
    "tar_tokenizer.fit_on_texts(decoder_input_train)"
   ]
  },
  {
   "cell_type": "markdown",
   "id": "1e21988e",
   "metadata": {},
   "source": [
    "* threshold를 6로 설정하여 7번 미만으로 나타나는 단어의 수를 카운트합니다.\n",
    "    * 위의 단어 수를 훈련과정에서 제외합니다. "
   ]
  },
  {
   "cell_type": "code",
   "execution_count": 44,
   "id": "d090e81c",
   "metadata": {},
   "outputs": [
    {
     "name": "stdout",
     "output_type": "stream",
     "text": [
      "단어 집합(vocabulary)의 크기 : 29987\n",
      "등장 빈도가 5번 이하인 희귀 단어의 수: 19567\n",
      "단어 집합에서 희귀 단어를 제외시킬 경우의 단어 집합의 크기 10420\n",
      "단어 집합에서 희귀 단어의 비율: 65.25160903057991\n",
      "전체 등장 빈도에서 희귀 단어 등장 빈도 비율: 4.6442908394408695\n"
     ]
    }
   ],
   "source": [
    "threshold = 6\n",
    "total_cnt = len(tar_tokenizer.word_index) # 단어의 수\n",
    "rare_cnt = 0 # 등장 빈도수가 threshold보다 작은 단어의 개수를 카운트\n",
    "total_freq = 0 # 훈련 데이터의 전체 단어 빈도수 총 합\n",
    "rare_freq = 0 # 등장 빈도수가 threshold보다 작은 단어의 등장 빈도수의 총 합\n",
    "\n",
    "# 단어와 빈도수의 쌍(pair)을 key와 value로 받는다.\n",
    "for key, value in tar_tokenizer.word_counts.items():\n",
    "    total_freq = total_freq + value\n",
    "\n",
    "    # 단어의 등장 빈도수가 threshold보다 작으면\n",
    "    if(value < threshold):\n",
    "        rare_cnt = rare_cnt + 1\n",
    "        rare_freq = rare_freq + value\n",
    "\n",
    "print('단어 집합(vocabulary)의 크기 :', total_cnt)\n",
    "print('등장 빈도가 %s번 이하인 희귀 단어의 수: %s'%(threshold - 1, rare_cnt))\n",
    "print('단어 집합에서 희귀 단어를 제외시킬 경우의 단어 집합의 크기 %s'%(total_cnt - rare_cnt))\n",
    "print(\"단어 집합에서 희귀 단어의 비율:\", (rare_cnt / total_cnt)*100)\n",
    "print(\"전체 등장 빈도에서 희귀 단어 등장 빈도 비율:\", (rare_freq / total_freq)*100)"
   ]
  },
  {
   "cell_type": "code",
   "execution_count": 45,
   "id": "ff9dceb3",
   "metadata": {},
   "outputs": [
    {
     "name": "stdout",
     "output_type": "stream",
     "text": [
      "input\n",
      "input  [[1, 780, 3, 155, 149, 3, 49, 1286, 5405, 774, 664], [1, 2001, 984, 14, 1016, 5016, 7674, 204], [1, 230, 4540, 6, 108, 3, 108, 850, 2476], [1, 2196, 213, 110, 930, 5, 488, 52, 3034, 12, 2073], [1, 141, 550, 1717, 4008, 3, 803, 241]]\n",
      "target\n",
      "decoder  [[780, 3, 155, 149, 3, 49, 1286, 5405, 774, 664, 2], [2001, 984, 14, 1016, 5016, 7674, 204, 2], [230, 4540, 6, 108, 3, 108, 850, 2476, 2], [2196, 213, 110, 930, 5, 488, 52, 3034, 12, 2073, 2], [141, 550, 1717, 4008, 3, 803, 241, 2]]\n"
     ]
    }
   ],
   "source": [
    "tar_vocab = 10000\n",
    "tar_tokenizer = Tokenizer(num_words=tar_vocab) \n",
    "tar_tokenizer.fit_on_texts(decoder_input_train)\n",
    "tar_tokenizer.fit_on_texts(decoder_target_train)\n",
    "\n",
    "# 텍스트 시퀀스를 정수 시퀀스로 변환\n",
    "decoder_input_train = tar_tokenizer.texts_to_sequences(decoder_input_train) \n",
    "decoder_target_train = tar_tokenizer.texts_to_sequences(decoder_target_train)\n",
    "decoder_input_test = tar_tokenizer.texts_to_sequences(decoder_input_test)\n",
    "decoder_target_test = tar_tokenizer.texts_to_sequences(decoder_target_test)\n",
    "\n",
    "# 잘 변환되었는지 확인\n",
    "print('input')\n",
    "print('input ',decoder_input_train[:5])\n",
    "print('target')\n",
    "print('decoder ',decoder_target_train[:5])"
   ]
  },
  {
   "cell_type": "code",
   "execution_count": 46,
   "id": "568a0c21",
   "metadata": {},
   "outputs": [
    {
     "name": "stdout",
     "output_type": "stream",
     "text": [
      "삭제할 훈련 데이터의 개수 : 0\n",
      "삭제할 테스트 데이터의 개수 : 1\n",
      "훈련 데이터의 개수 : 78324\n",
      "훈련 레이블의 개수 : 78324\n",
      "테스트 데이터의 개수 : 19579\n",
      "테스트 레이블의 개수 : 19579\n"
     ]
    }
   ],
   "source": [
    "drop_train = [index for index, sentence in enumerate(decoder_input_train) if len(sentence) == 1]\n",
    "drop_test = [index for index, sentence in enumerate(decoder_input_test) if len(sentence) == 1]\n",
    "\n",
    "print('삭제할 훈련 데이터의 개수 :', len(drop_train))\n",
    "print('삭제할 테스트 데이터의 개수 :', len(drop_test))\n",
    "\n",
    "encoder_input_train = [sentence for index, sentence in enumerate(encoder_input_train) if index not in drop_train]\n",
    "decoder_input_train = [sentence for index, sentence in enumerate(decoder_input_train) if index not in drop_train]\n",
    "decoder_target_train = [sentence for index, sentence in enumerate(decoder_target_train) if index not in drop_train]\n",
    "\n",
    "encoder_input_test = [sentence for index, sentence in enumerate(encoder_input_test) if index not in drop_test]\n",
    "decoder_input_test = [sentence for index, sentence in enumerate(decoder_input_test) if index not in drop_test]\n",
    "decoder_target_test = [sentence for index, sentence in enumerate(decoder_target_test) if index not in drop_test]\n",
    "\n",
    "print('훈련 데이터의 개수 :', len(encoder_input_train))\n",
    "print('훈련 레이블의 개수 :', len(decoder_input_train))\n",
    "print('테스트 데이터의 개수 :', len(encoder_input_test))\n",
    "print('테스트 레이블의 개수 :', len(decoder_input_test))"
   ]
  },
  {
   "cell_type": "code",
   "execution_count": 48,
   "id": "74b22471",
   "metadata": {},
   "outputs": [],
   "source": [
    "encoder_input_train = pad_sequences(encoder_input_train, maxlen=text_max_len, padding='post')\n",
    "encoder_input_test = pad_sequences(encoder_input_test, maxlen=text_max_len, padding='post')\n",
    "decoder_input_train = pad_sequences(decoder_input_train, maxlen=headlines_max_len, padding='post')\n",
    "decoder_target_train = pad_sequences(decoder_target_train, maxlen=headlines_max_len, padding='post')\n",
    "decoder_input_test = pad_sequences(decoder_input_test, maxlen=headlines_max_len, padding='post')\n",
    "decoder_target_test = pad_sequences(decoder_target_test, maxlen=headlines_max_len, padding='post')"
   ]
  },
  {
   "cell_type": "markdown",
   "id": "eb200614",
   "metadata": {},
   "source": [
    "# 8.3 어텐션 메커니즘 사용하기 (추상적 요약)"
   ]
  },
  {
   "cell_type": "code",
   "execution_count": 49,
   "id": "bab887a3",
   "metadata": {},
   "outputs": [
    {
     "name": "stdout",
     "output_type": "stream",
     "text": [
      "WARNING:tensorflow:Layer lstm will not use cuDNN kernels since it doesn't meet the criteria. It will use a generic GPU kernel as fallback when running on GPU.\n",
      "WARNING:tensorflow:Layer lstm_1 will not use cuDNN kernels since it doesn't meet the criteria. It will use a generic GPU kernel as fallback when running on GPU.\n",
      "WARNING:tensorflow:Layer lstm_2 will not use cuDNN kernels since it doesn't meet the criteria. It will use a generic GPU kernel as fallback when running on GPU.\n"
     ]
    }
   ],
   "source": [
    "from tensorflow.keras.layers import Input, LSTM, Embedding, Dense, Concatenate, TimeDistributed\n",
    "from tensorflow.keras.models import Model\n",
    "from tensorflow.keras.callbacks import EarlyStopping, ModelCheckpoint\n",
    "\n",
    "\n",
    "# 인코더 설계 시작\n",
    "embedding_dim = 128\n",
    "hidden_size = 256\n",
    "\n",
    "# 인코더\n",
    "encoder_inputs = Input(shape=(text_max_len,))\n",
    "\n",
    "# 인코더의 임베딩 층\n",
    "enc_emb = Embedding(src_vocab, embedding_dim)(encoder_inputs)\n",
    "\n",
    "# 인코더의 LSTM 1\n",
    "encoder_lstm1 = LSTM(hidden_size, return_sequences=True, return_state=True ,dropout = 0.4, recurrent_dropout = 0.4)\n",
    "encoder_output1, state_h1, state_c1 = encoder_lstm1(enc_emb)\n",
    "\n",
    "# 인코더의 LSTM 2\n",
    "encoder_lstm2 = LSTM(hidden_size, return_sequences=True, return_state=True, dropout=0.4, recurrent_dropout=0.4)\n",
    "encoder_output2, state_h2, state_c2 = encoder_lstm2(encoder_output1)\n",
    "\n",
    "# 인코더의 LSTM 3\n",
    "encoder_lstm3 = LSTM(hidden_size, return_state=True, return_sequences=True, dropout=0.4, recurrent_dropout=0.4)\n",
    "encoder_outputs, state_h, state_c= encoder_lstm3(encoder_output2)"
   ]
  },
  {
   "cell_type": "code",
   "execution_count": 50,
   "id": "7b4d5ddc",
   "metadata": {},
   "outputs": [
    {
     "name": "stdout",
     "output_type": "stream",
     "text": [
      "WARNING:tensorflow:Layer lstm_3 will not use cuDNN kernels since it doesn't meet the criteria. It will use a generic GPU kernel as fallback when running on GPU.\n"
     ]
    }
   ],
   "source": [
    "# 디코더 설계\n",
    "decoder_inputs = Input(shape=(None,))\n",
    "\n",
    "# 디코더의 임베딩 층\n",
    "dec_emb_layer = Embedding(tar_vocab, embedding_dim)\n",
    "dec_emb = dec_emb_layer(decoder_inputs)\n",
    "\n",
    "# 디코더의 LSTM\n",
    "decoder_lstm = LSTM(hidden_size, return_sequences=True, return_state=True, dropout=0.4, recurrent_dropout=0.2)\n",
    "decoder_outputs, _, _ = decoder_lstm(dec_emb, initial_state=[state_h, state_c])"
   ]
  },
  {
   "cell_type": "code",
   "execution_count": 51,
   "id": "55d1b893",
   "metadata": {},
   "outputs": [
    {
     "name": "stdout",
     "output_type": "stream",
     "text": [
      "Model: \"model\"\n",
      "__________________________________________________________________________________________________\n",
      "Layer (type)                    Output Shape         Param #     Connected to                     \n",
      "==================================================================================================\n",
      "input_1 (InputLayer)            [(None, 45)]         0                                            \n",
      "__________________________________________________________________________________________________\n",
      "embedding (Embedding)           (None, 45, 128)      2560000     input_1[0][0]                    \n",
      "__________________________________________________________________________________________________\n",
      "lstm (LSTM)                     [(None, 45, 256), (N 394240      embedding[0][0]                  \n",
      "__________________________________________________________________________________________________\n",
      "input_2 (InputLayer)            [(None, None)]       0                                            \n",
      "__________________________________________________________________________________________________\n",
      "lstm_1 (LSTM)                   [(None, 45, 256), (N 525312      lstm[0][0]                       \n",
      "__________________________________________________________________________________________________\n",
      "embedding_1 (Embedding)         (None, None, 128)    1280000     input_2[0][0]                    \n",
      "__________________________________________________________________________________________________\n",
      "lstm_2 (LSTM)                   [(None, 45, 256), (N 525312      lstm_1[0][0]                     \n",
      "__________________________________________________________________________________________________\n",
      "lstm_3 (LSTM)                   [(None, None, 256),  394240      embedding_1[0][0]                \n",
      "                                                                 lstm_2[0][1]                     \n",
      "                                                                 lstm_2[0][2]                     \n",
      "__________________________________________________________________________________________________\n",
      "attention_layer (AdditiveAttent (None, None, 256)    256         lstm_3[0][0]                     \n",
      "                                                                 lstm_2[0][0]                     \n",
      "__________________________________________________________________________________________________\n",
      "concat_layer (Concatenate)      (None, None, 512)    0           lstm_3[0][0]                     \n",
      "                                                                 attention_layer[0][0]            \n",
      "__________________________________________________________________________________________________\n",
      "dense (Dense)                   (None, None, 10000)  5130000     concat_layer[0][0]               \n",
      "==================================================================================================\n",
      "Total params: 10,809,360\n",
      "Trainable params: 10,809,360\n",
      "Non-trainable params: 0\n",
      "__________________________________________________________________________________________________\n"
     ]
    }
   ],
   "source": [
    "from tensorflow.keras.layers import AdditiveAttention\n",
    "\n",
    "# 어텐션 층(어텐션 함수)\n",
    "attn_layer = AdditiveAttention(name='attention_layer')\n",
    "\n",
    "# 인코더와 디코더의 모든 time step의 hidden state를 어텐션 층에 전달하고 결과를 리턴\n",
    "attn_out = attn_layer([decoder_outputs, encoder_outputs])\n",
    "\n",
    "\n",
    "# 어텐션의 결과와 디코더의 hidden state들을 연결\n",
    "decoder_concat_input = Concatenate(axis=-1, name='concat_layer')([decoder_outputs, attn_out])\n",
    "\n",
    "# 디코더의 출력층\n",
    "decoder_softmax_layer = Dense(tar_vocab, activation='softmax')\n",
    "decoder_softmax_outputs = decoder_softmax_layer(decoder_concat_input)\n",
    "\n",
    "# 모델 정의\n",
    "model = Model([encoder_inputs, decoder_inputs], decoder_softmax_outputs)\n",
    "model.summary()"
   ]
  },
  {
   "cell_type": "code",
   "execution_count": 52,
   "id": "f0c9ef36",
   "metadata": {},
   "outputs": [
    {
     "name": "stdout",
     "output_type": "stream",
     "text": [
      "Epoch 1/50\n",
      "306/306 [==============================] - 200s 626ms/step - loss: 5.2428 - val_loss: 4.8130\n",
      "Epoch 2/50\n",
      "306/306 [==============================] - 191s 624ms/step - loss: 4.6729 - val_loss: 4.4330\n",
      "Epoch 3/50\n",
      "306/306 [==============================] - 189s 618ms/step - loss: 4.3521 - val_loss: 4.1963\n",
      "Epoch 4/50\n",
      "306/306 [==============================] - 189s 616ms/step - loss: 4.1159 - val_loss: 4.0340\n",
      "Epoch 5/50\n",
      "306/306 [==============================] - 187s 613ms/step - loss: 3.9304 - val_loss: 3.9140\n",
      "Epoch 6/50\n",
      "306/306 [==============================] - 186s 606ms/step - loss: 3.7787 - val_loss: 3.8071\n",
      "Epoch 7/50\n",
      "306/306 [==============================] - 186s 607ms/step - loss: 3.6488 - val_loss: 3.7308\n",
      "Epoch 8/50\n",
      "306/306 [==============================] - 186s 608ms/step - loss: 3.5368 - val_loss: 3.6614\n",
      "Epoch 9/50\n",
      "306/306 [==============================] - 186s 607ms/step - loss: 3.4374 - val_loss: 3.6115\n",
      "Epoch 10/50\n",
      "306/306 [==============================] - 187s 611ms/step - loss: 3.3457 - val_loss: 3.5612\n",
      "Epoch 11/50\n",
      "306/306 [==============================] - 186s 609ms/step - loss: 3.2621 - val_loss: 3.5205\n",
      "Epoch 12/50\n",
      "306/306 [==============================] - 186s 608ms/step - loss: 3.1881 - val_loss: 3.4890\n",
      "Epoch 13/50\n",
      "306/306 [==============================] - 186s 608ms/step - loss: 3.1230 - val_loss: 3.4614\n",
      "Epoch 14/50\n",
      "306/306 [==============================] - 186s 609ms/step - loss: 3.0639 - val_loss: 3.4426\n",
      "Epoch 15/50\n",
      "306/306 [==============================] - 186s 607ms/step - loss: 3.0079 - val_loss: 3.4243\n",
      "Epoch 16/50\n",
      "306/306 [==============================] - 187s 611ms/step - loss: 2.9569 - val_loss: 3.4095\n",
      "Epoch 17/50\n",
      "306/306 [==============================] - 186s 607ms/step - loss: 2.9090 - val_loss: 3.3927\n",
      "Epoch 18/50\n",
      "306/306 [==============================] - 186s 608ms/step - loss: 2.8666 - val_loss: 3.3816\n",
      "Epoch 19/50\n",
      "306/306 [==============================] - 186s 608ms/step - loss: 2.8251 - val_loss: 3.3687\n",
      "Epoch 20/50\n",
      "306/306 [==============================] - 187s 612ms/step - loss: 2.7853 - val_loss: 3.3614\n",
      "Epoch 21/50\n",
      "306/306 [==============================] - 186s 609ms/step - loss: 2.7493 - val_loss: 3.3572\n",
      "Epoch 22/50\n",
      "306/306 [==============================] - 186s 609ms/step - loss: 2.7160 - val_loss: 3.3464\n",
      "Epoch 23/50\n",
      "306/306 [==============================] - 187s 610ms/step - loss: 2.6819 - val_loss: 3.3399\n",
      "Epoch 24/50\n",
      "306/306 [==============================] - 186s 608ms/step - loss: 2.6513 - val_loss: 3.3390\n",
      "Epoch 25/50\n",
      "306/306 [==============================] - 186s 609ms/step - loss: 2.6211 - val_loss: 3.3330\n",
      "Epoch 26/50\n",
      "306/306 [==============================] - 186s 609ms/step - loss: 2.5931 - val_loss: 3.3306\n",
      "Epoch 27/50\n",
      "306/306 [==============================] - 185s 606ms/step - loss: 2.5670 - val_loss: 3.3271\n",
      "Epoch 28/50\n",
      "306/306 [==============================] - 186s 609ms/step - loss: 2.5420 - val_loss: 3.3264\n",
      "Epoch 29/50\n",
      "306/306 [==============================] - 187s 610ms/step - loss: 2.5136 - val_loss: 3.3229\n",
      "Epoch 30/50\n",
      "306/306 [==============================] - 187s 610ms/step - loss: 2.4895 - val_loss: 3.3311\n",
      "Epoch 31/50\n",
      "306/306 [==============================] - 187s 613ms/step - loss: 2.4668 - val_loss: 3.3261\n",
      "Epoch 00031: early stopping\n"
     ]
    }
   ],
   "source": [
    "model.compile(optimizer='rmsprop', loss='sparse_categorical_crossentropy')\n",
    "es = EarlyStopping(monitor='val_loss', patience=2, verbose=1)\n",
    "history = model.fit(x=[encoder_input_train, decoder_input_train], y=decoder_target_train, \\\n",
    "          validation_data=([encoder_input_test, decoder_input_test], decoder_target_test), \\\n",
    "          batch_size=256, callbacks=[es], epochs=50)"
   ]
  },
  {
   "cell_type": "code",
   "execution_count": 53,
   "id": "afb05b0d",
   "metadata": {},
   "outputs": [
    {
     "data": {
      "image/png": "[encoded data removed]",
      "text/plain": [
       "<Figure size 432x288 with 1 Axes>"
      ]
     },
     "metadata": {
      "needs_background": "light"
     },
     "output_type": "display_data"
    }
   ],
   "source": [
    "plt.plot(history.history['loss'], label='train')\n",
    "plt.plot(history.history['val_loss'], label='test')\n",
    "plt.legend()\n",
    "plt.show()"
   ]
  },
  {
   "cell_type": "code",
   "execution_count": 54,
   "id": "352757f6",
   "metadata": {},
   "outputs": [],
   "source": [
    "src_index_to_word = src_tokenizer.index_word # 원문 단어 집합에서 정수 -> 단어를 얻음\n",
    "tar_word_to_index = tar_tokenizer.word_index # 요약 단어 집합에서 단어 -> 정수를 얻음\n",
    "tar_index_to_word = tar_tokenizer.index_word # 요약 단어 집합에서 정수 -> 단어를 얻음"
   ]
  },
  {
   "cell_type": "code",
   "execution_count": 55,
   "id": "5e3271c5",
   "metadata": {},
   "outputs": [],
   "source": [
    "# 인코더 설계\n",
    "encoder_model = Model(inputs=encoder_inputs, outputs=[encoder_outputs, state_h, state_c])\n",
    "\n",
    "# 이전 시점의 상태들을 저장하는 텐서\n",
    "decoder_state_input_h = Input(shape=(hidden_size,))\n",
    "decoder_state_input_c = Input(shape=(hidden_size,))\n",
    "\n",
    "dec_emb2 = dec_emb_layer(decoder_inputs)\n",
    "\n",
    "# 문장의 다음 단어를 예측하기 위해서 초기 상태(initial_state)를 이전 시점의 상태로 사용. 이는 뒤의 함수 decode_sequence()에 구현\n",
    "# 훈련 과정에서와 달리 LSTM의 리턴하는 은닉 상태와 셀 상태인 state_h와 state_c를 버리지 않음.\n",
    "decoder_outputs2, state_h2, state_c2 = decoder_lstm(dec_emb2, initial_state=[decoder_state_input_h, decoder_state_input_c])"
   ]
  },
  {
   "cell_type": "code",
   "execution_count": 56,
   "id": "3eacbef9",
   "metadata": {},
   "outputs": [],
   "source": [
    "# 어텐션 함수\n",
    "decoder_hidden_state_input = Input(shape=(text_max_len, hidden_size))\n",
    "attn_out_inf = attn_layer([decoder_outputs2, decoder_hidden_state_input])\n",
    "decoder_inf_concat = Concatenate(axis=-1, name='concat')([decoder_outputs2, attn_out_inf])\n",
    "\n",
    "# 디코더의 출력층\n",
    "decoder_outputs2 = decoder_softmax_layer(decoder_inf_concat) \n",
    "\n",
    "# 최종 디코더 모델\n",
    "decoder_model = Model(\n",
    "    [decoder_inputs] + [decoder_hidden_state_input,decoder_state_input_h, decoder_state_input_c],\n",
    "    [decoder_outputs2] + [state_h2, state_c2])"
   ]
  },
  {
   "cell_type": "code",
   "execution_count": 60,
   "id": "25d0f41a",
   "metadata": {},
   "outputs": [],
   "source": [
    "def decode_sequence(input_seq):\n",
    "    # 입력으로부터 인코더의 상태를 얻음\n",
    "    e_out, e_h, e_c = encoder_model.predict(input_seq)\n",
    "\n",
    "     # <SOS>에 해당하는 토큰 생성\n",
    "    target_seq = np.zeros((1,1))\n",
    "    target_seq[0, 0] = tar_word_to_index['sostoken']\n",
    "\n",
    "    stop_condition = False\n",
    "    decoded_sentence = ''\n",
    "    while not stop_condition: # stop_condition이 True가 될 때까지 루프 반복\n",
    "\n",
    "        output_tokens, h, c = decoder_model.predict([target_seq] + [e_out, e_h, e_c])\n",
    "        sampled_token_index = np.argmax(output_tokens[0, -1, :])\n",
    "        sampled_token = tar_index_to_word[sampled_token_index]\n",
    "\n",
    "        if (sampled_token!='eostoken'):\n",
    "            decoded_sentence += ' '+sampled_token\n",
    "\n",
    "        #  <eos>에 도달하거나 최대 길이를 넘으면 중단.\n",
    "        if (sampled_token == 'eostoken'  or len(decoded_sentence.split()) >= (headlines_max_len-1)):\n",
    "            stop_condition = True\n",
    "\n",
    "        # 길이가 1인 타겟 시퀀스를 업데이트\n",
    "        target_seq = np.zeros((1,1))\n",
    "        target_seq[0, 0] = sampled_token_index\n",
    "\n",
    "        # 상태를 업데이트 합니다.\n",
    "        e_h, e_c = h, c\n",
    "\n",
    "    return decoded_sentence"
   ]
  },
  {
   "cell_type": "code",
   "execution_count": 61,
   "id": "f393e09a",
   "metadata": {},
   "outputs": [],
   "source": [
    "# 원문의 정수 시퀀스를 텍스트 시퀀스로 변환\n",
    "def seq2text(input_seq):\n",
    "    temp=''\n",
    "    for i in input_seq:\n",
    "        if (i!=0):\n",
    "            temp = temp + src_index_to_word[i]+' '\n",
    "    return temp\n",
    "\n",
    "# 요약문의 정수 시퀀스를 텍스트 시퀀스로 변환\n",
    "def seq2headlines(input_seq):\n",
    "    temp=''\n",
    "    for i in input_seq:\n",
    "        if ((i!=0 and i!=tar_word_to_index['sostoken']) and i!=tar_word_to_index['eostoken']):\n",
    "            temp = temp + tar_index_to_word[i] + ' '\n",
    "    return temp"
   ]
  },
  {
   "cell_type": "code",
   "execution_count": 62,
   "id": "80479c7b",
   "metadata": {
    "scrolled": false
   },
   "outputs": [
    {
     "name": "stdout",
     "output_type": "stream",
     "text": [
      "원문 : asked company would like chief executive former us state secretary hillary clinton said facebook clinton explained chose company biggest news platform world people america get news true facebook clinton added \n",
      "실제 요약 : would like to run facebook hillary clinton to \n",
      "예측 요약 :  hillary clinton was hillary clinton\n",
      "\n",
      "\n",
      "원문 : indian fans bought third highest number tickets behind usa china upcoming fifa world cup among nations participating tournament usa topping chart tickets china comes second place tickets indian football fans third spot tickets bought \n",
      "실제 요약 : indians rd highest wc ticket buyers in non playing nations \n",
      "예측 요약 :  india to host world cup for st time in asia cup\n",
      "\n",
      "\n",
      "원문 : actress kajol sharing picture social media wax statue singapore madame tussauds museum wrote always kajol fan seen unveiling wax statue daughter nysa sharing picture nysa kajol wrote little girl red carpet first time \n",
      "실제 요약 : always been kajol fan kajol on pic with her wax statue \n",
      "예측 요약 :  pics of kapil show kajol trolled for madame tussauds\n",
      "\n",
      "\n",
      "원문 : goa cm manohar parrikar saturday flew delhi aiims treatment amid reports told pm narendra modi bjp president amit shah wanted step office however bjp leader refuted reports saying parrikar continue goa cm might give away portfolios cabinet colleagues \n",
      "실제 요약 : parrikar flown to delhi aiims may step down as cm report \n",
      "예측 요약 :  goa cm parrikar to meet pm modi for shah visit\n",
      "\n",
      "\n",
      "원문 : government reportedly planning introduce mechanism identify fake medicines wherein required print unique digit code packages consumers able text code number check whether product genuine government plans initially build data bank medicine brands reports said \n",
      "실제 요약 : govt planning unique codes to identify fake medicines \n",
      "예측 요약 :  govt proposes to curb fake news of fake news\n",
      "\n",
      "\n",
      "원문 : indian fan tried troll ex australia pacer mitchell johnson calling silly unsold twitter thinking bowler gone unsold ipl auction however retired pacer registered name auction trolled fan back writing hello champion reminder retired cricket earlier year \n",
      "실제 요약 : indian fan tries to troll johnson over ipl gets trolled back \n",
      "예측 요약 :  mithali trolled for giving pic of ipl xi\n",
      "\n",
      "\n",
      "원문 : viewers started petition addressed union minister information broadcasting smriti irani get television show pehredaar piya ki air show tells story year old boy married year old woman want kids influenced serials read part petition \n",
      "실제 요약 : online petition asks smriti irani to ban pehredaar piya ki \n",
      "예측 요약 :  smriti irani to smriti irani for smriti irani\n",
      "\n",
      "\n",
      "원문 : electric carmaker tesla ceo elon musk said next generation tesla roadster optional spacex package include around small rocket also said rocket engines would arranged around car improve acceleration top speed braking maybe even allow tesla fly added \n",
      "실제 요약 : new to have spacex inspired rocket musk \n",
      "예측 요약 :  tesla will not be ousted by tesla ceo elon musk\n",
      "\n",
      "\n",
      "원문 : union health ministry released draft rules sale drugs pharmacies order regulate online sale medicines draft rules state pharmacies registered central drugs standard control organization pharmacies allowed sell drugs narcotics habit forming drugs \n",
      "실제 요약 : govt releases draft rules on sale of drugs by \n",
      "예측 요약 :  govt proposes to sell law to sell food mandatory for selling\n",
      "\n",
      "\n",
      "원문 : among indian navy powerful weapons tonne aircraft carrier ins vikramaditya deploy aircraft india three kolkata class first indigenously designed built modern armed vertically launched brahmos supersonic cruise missiles ins chakra india nuclear attack submarine hunt neutralise enemy vessels \n",
      "실제 요약 : what are the indian navy most powerful weapons \n",
      "예측 요약 :  navy begins its first ever aircraft carrier\n",
      "\n",
      "\n",
      "원문 : delhi chief minister arvind kejriwal wednesday sought report alleged locking girls basement school clearing fees police registered case school authorities investigation underway denying allegations claimed basement used play area students \n",
      "실제 요약 : delhi cm seeks report on school kids being locked over fees \n",
      "예측 요약 :  delhi govt asks delhi to pay girls to kin of girls\n",
      "\n",
      "\n",
      "원문 : actor piyush mishra revealed initially offered salman khan role film maine pyar kiya know wanted launch mishra said fool let opportunity like pass people say love theatre true added \n",
      "실제 요약 : was first offered salman role in piyush mishra \n",
      "예측 요약 :  salman khan character in film industry maker\n",
      "\n",
      "\n",
      "원문 : world cup winning french team given red carpet welcome water cannon salute charles de airport paris following reception airport team went victory lap parade along champs parade french team given special reception french presidential palace \n",
      "실제 요약 : french team gets water salute red carpet welcome \n",
      "예측 요약 :  what is the world cup that won the world cup festival\n",
      "\n",
      "\n",
      "원문 : china saturday launched first ever spacecraft attempt landing far side moon always shows face earth close enough locked planet gravitational field earth based mission controllers able communicate directly chang spacecraft use another chinese satellite orbiting moon \n",
      "실제 요약 : china launches mission to land on face of moon not seen from earth \n",
      "예측 요약 :  china st astronauts to iss astronauts to iss\n",
      "\n",
      "\n",
      "원문 : supreme court tuesday asked parties concerned negotiate among arrive consensus ram temple issue negotiations break sc intervene appoint mediator resolution top court stated bjp mp subramanian swamy moved supreme court seeking urgent hearing matter saying sensitive case \n",
      "실제 요약 : solve ram temple issue through negotiations sc \n",
      "예측 요약 :  supreme court calls for ram temple\n",
      "\n",
      "\n",
      "원문 : bjp president amit shah monday said bjp implemented one rank one pension congress brought form rahul priyanka bjp jawans families congress gandhi vadra family added congress last week appointed priyanka gandhi vadra congress general secretary uttar pradesh east \n",
      "실제 요약 : for congress is only rahul only priyanka amit shah \n",
      "예측 요약 :  bjp leader amit shah joins bjp in rajya sabha\n",
      "\n",
      "\n",
      "원문 : former pm atal bihari vajpayee passed away thursday bjp mp shatrughan sinha said feeling like orphan today atal bihari vajpayee father figure describing vajpayee true statesman exceptional added vajpayee leader restricted one party popular respected across parties \n",
      "실제 요약 : feel like an shatrughan sinha on vajpayee demise \n",
      "예측 요약 :  vajpayee demise of vajpayee atal atal bihari vajpayee\n",
      "\n",
      "\n",
      "원문 : seat airlines india world fastest growing aviation market fell lowest months excess supply according data released dgca average passenger load factor percentage seats filled fell october india domestic air passenger growth also slowed slowest pace months \n",
      "실제 요약 : indian airlines fly most empty seats in months \n",
      "예측 요약 :  indigo posts its first ever quarterly flight since january\n",
      "\n",
      "\n",
      "원문 : us defence secretary james mattis announced country end suspension military drills south korea earlier called good faith measure comes amid us renewed tensions north korea president donald trump claiming sufficient progress made achieve denuclearisation korean peninsula \n",
      "실제 요약 : us to resume joint military drills with south korea \n",
      "예측 요약 :  us to hold us defence secy amid tensions with us\n",
      "\n",
      "\n",
      "원문 : us ambassador united nations nikki haley said country allow palestinian officials take top positions united nations palestinian authority peace talks israel last month us blocked appointment former prime minister palestinian authority lead un political mission libya \n",
      "실제 요약 : will not allow palestinian officials to hold top un post us \n",
      "예측 요약 :  us warns us against nations after withdrawal from iran\n",
      "\n",
      "\n",
      "원문 : minister state railways rajen gohain booked allegedly raping year old married woman residence assam family members present gohain son filed counter case claiming woman blackmailing father police said woman later asked withdraw complaint continue investigation \n",
      "실제 요약 : union minister booked for rape his son files counter case \n",
      "예측 요약 :  odisha govt booked for raping woman of raping woman\n",
      "\n",
      "\n",
      "원문 : year old man arrested allegedly running prostitution racket name finance company mumbai accused reportedly room bed inside premises run prostitution business police rescued minor girl along two women recovered photos many girls accused mobile phone \n",
      "실제 요약 : man held for running prostitution racket in name of finance company \n"
     ]
    },
    {
     "name": "stdout",
     "output_type": "stream",
     "text": [
      "예측 요약 :  mumbai man arrested for sexually assaulting yr old girl\n",
      "\n",
      "\n",
      "원문 : indian rounder hardik pandya knocked bhuvneshwar kumar shot hit helmet non striker end second odi thursday bhuvneshwar australian players rushed towards pandya fallen ground holding head pandya carried playing scored innings \n",
      "실제 요약 : bhuvneshwar shot knocks pandya down at non striker end \n",
      "예측 요약 :  hardik pandya injured after getting run out of vs england\n",
      "\n",
      "\n",
      "원문 : per reports producers serial pehredaar piya ki stopped shooting episodes show decision reportedly taken producers awaiting decision ministry information broadcasting following reports government might scrap show serial revolves around year old boy marries year old woman \n",
      "실제 요약 : shooting of tv serial pehredaar piya ki stopped report \n",
      "예측 요약 :  govt to replace scenes in web series report\n",
      "\n",
      "\n",
      "원문 : wild killed injured islamic state terrorists militants failed attempt set ambush local formed anti terrorist iraq likely movement disturbed wild pigs area good hiding local tribal chief said \n",
      "실제 요약 : wild kill isis terrorists in iraq \n",
      "예측 요약 :  islamic state mosque in egypt\n",
      "\n",
      "\n",
      "원문 : major attended martyred husband funeral holding newborn daughter arms wednesday major seen full army uniform pay last tributes husband wing commander dushyant died indian air force helicopter crash february two iaf pilots died crash assam \n",
      "실제 요약 : army officer attends martyred husband funeral with newborn \n",
      "예측 요약 :  chinese couple married to girlfriend in west bengal\n",
      "\n",
      "\n",
      "원문 : music composer rd burman birth anniversary tuesday former cricketer virender sehwag revealed would sing composition wala pal film frequently batting earlier video sehwag cricket stars match emerged showed singing bollywood song tu jaane na hitting six \n",
      "실제 요약 : would sing pal while batting sehwag \n",
      "예측 요약 :  sehwag wishes messi on his wedding anniversary\n",
      "\n",
      "\n",
      "원문 : theatre personality girish hit list suspected killing journalist gauri lankesh sit officials said politician naik cs reportedly also featured list sit recovered diary entries script features names personalities known views hardline hindutva \n",
      "실제 요약 : on hit list of gauri lankesh murder suspects reports \n",
      "예측 요약 :  gauri lankesh murder convict shot dead in gauri lankesh murder\n",
      "\n",
      "\n",
      "원문 : bengaluru metropolitan transport corporation reportedly train women drive buses light motor vehicles training women eligible apply driver job state run corporations one woman driver staff officials said \n",
      "실제 요약 : women to be trained to drive buses in bengaluru \n",
      "예측 요약 :  bengaluru metro to get free buses to bengaluru\n",
      "\n",
      "\n",
      "원문 : first prison department himachal pradesh allowed women inmates jails across state meet husbands chauth women inmates served special food chauth break day long fast senior official said inmates also allowed talk husbands video conferencing \n",
      "실제 요약 : women in himachal jails can meet husbands on chauth \n",
      "예측 요약 :  women wear entry to enter sabarimala jail in jail\n",
      "\n",
      "\n",
      "원문 : director newton amit masurkar said best foreign language film category academy awards like olympics speaking newton failing make new shortlist foreign films oscars amit said competing best world extremely tough \n",
      "실제 요약 : best foreign film at oscars is like olympics newton maker \n",
      "예측 요약 :  indian cinema is not just at the best films rgv\n",
      "\n",
      "\n",
      "원문 : year old dentist allegedly forced drink raped year old man rented house noida september woman said two began talking facebook following pressurised meet meanwhile police said booked accused launched probe incident \n",
      "실제 요약 : year old made to drink raped in noida \n",
      "예측 요약 :  year old girl raped by neighbour in gurugram\n",
      "\n",
      "\n",
      "원문 : elon musk led us automaker tesla burning every minute according bloomberg analysis tesla workforce tripled revenue per employee lower rivals gm ford analysis found musk earlier said company profitable cash flow positive third quarter \n",
      "실제 요약 : tesla burns through over lakh every minute \n",
      "예측 요약 :  tesla employees profitable in week report\n",
      "\n",
      "\n",
      "원문 : indian shuttler kidambi srikanth awarded lakh gopichand badminton academy winning indonesia open superseries australian open superseries back back srikanth later thanked coach pullela gopichand said possible make without could \n",
      "실제 요약 : srikanth awarded lakh by gopichand badminton academy \n",
      "예측 요약 :  srikanth offers lakh to srikanth for india\n",
      "\n",
      "\n",
      "원문 : wedding pancholi madhya pradesh cancelled families fought bride refused cover head groom family objected wearing evening gown insisted wear saree groom took entire baraat police station lodge fir bride family \n",
      "실제 요약 : families fight as bride refuses to cover head cancel wedding in mp \n",
      "예측 요약 :  bride refuses to marry wedding in bihar\n",
      "\n",
      "\n",
      "원문 : wrestler babita phogat tweeted views beef eaters saying cows eaten country first roti offered animal tweet retweeted times liked people notably rajasthan high court judge asked government wednesday declare cow national animal \n",
      "실제 요약 : wrestler babita phogat posts tweet against beef \n",
      "예측 요약 :  cow vigilantes should be beaten up in assam\n",
      "\n",
      "\n",
      "원문 : uk pm theresa may wednesday confidence vote tabled opposition labour party leader jeremy corbyn corbyn tabled confidence motion mps voted reject may brexit deal second confidence vote may month first tabled conservative party members \n",
      "실제 요약 : uk pm wins no confidence vote day after her brexit deal defeat \n",
      "예측 요약 :  uk pm theresa may vote in parliament to brexit deal\n",
      "\n",
      "\n",
      "원문 : hindustani classical singer received padma vibhushan passed away age mumbai residence monday sang jaipur style also recipient padma bhushan rashtrapati award sangeet akademi award sangeet award subject documentary \n",
      "실제 요약 : classical singer passes away at \n",
      "예측 요약 :  singer singer passes away at\n",
      "\n",
      "\n",
      "원문 : air india cancelled shiv sena mp ravindra gaikwad mumbai delhi flight ticket booked wednesday comes gaikwad banned flights air india carriers federation indian airlines following incident wherein hit ai staffer slippers gaikwad refused apologise accused staffer fault \n",
      "실제 요약 : air india cancels shiv sena mp gaikwad booking again \n",
      "예측 요약 :  shiv sena mp air india staffer shiv sena mp gaikwad ticket\n",
      "\n",
      "\n",
      "원문 : kerala government public relations department banned use words dalit government publications official communications government publicity materials recommending use words sc st instead move recommended state sc st commission reportedly aimed ending social discrimination various levels society \n",
      "실제 요약 : kerala govt pr department bans use of words dalit \n",
      "예측 요약 :  kerala to ban on religious places in kerala\n",
      "\n",
      "\n",
      "원문 : amazon stopped sale phones made us based startup commerce platforms privacy concerns security firm demonstrated software phones collected data sent remote servers china without alerting people amazon also suspended sale phones first spotted \n",
      "실제 요약 : amazon stops sale of startup phones with \n",
      "예측 요약 :  amazon to shut down over patent for tracking users\n",
      "\n",
      "\n",
      "원문 : san francisco based startup created toothbrush called claims clean teeth seconds shaped like handle toothpaste pressed priced variant also comes wireless charging option \n",
      "실제 요약 : startup makes that cleans all teeth at once in sec \n",
      "예측 요약 :  foot that can be made in made made\n",
      "\n",
      "\n",
      "원문 : five masked robbers armed knives allegedly stole around million worth jewels paris hotel three suspects caught police tried flee five star hotel two men managed escape scooter police said injuries reported heist \n",
      "실제 요약 : worth crore stolen in at paris hotel \n",
      "예측 요약 :  terrorists worth crore seized in paris\n",
      "\n",
      "\n",
      "원문 : uk monday began year old tradition counting number mute owned queen elizabeth ii annual five day process called swan involves patrolling river capture tag release british crown owns mute open water \n",
      "실제 요약 : uk begins annual counting of owned by queen \n",
      "예측 요약 :  uk queen elizabeth ii to be in uk\n",
      "\n",
      "\n",
      "원문 : china cyber watchdog slammed alibaba ant financial compromising user privacy service users automatically enrolled credit scoring system cyberspace administration china told firm representatives failed meet personal data security standards also said company investigate platform take effective measures \n",
      "실제 요약 : alibaba ant financial slammed over user privacy breach \n",
      "예측 요약 :  alibaba to block user data with qualcomm for qualcomm\n",
      "\n",
      "\n",
      "원문 : janhvi kapoor revealed deleted photos making instagram account public used private profile told need open deleted everything start beginning said janhvi currently million followers verified instagram handle \n",
      "실제 요약 : deleted all pics before making my instagram public janhvi \n"
     ]
    },
    {
     "name": "stdout",
     "output_type": "stream",
     "text": [
      "예측 요약 :  did not know if you are not ashamed of dating kareena\n",
      "\n",
      "\n",
      "원문 : shot singh dedicated asiad gold father sardar singh battling fourth stage bone cancer last two years family allowed chase dream never pressurised attend father hospital said year old wanted cricketer took shot put father insistence \n",
      "실제 요약 : won asiad gold while father bone cancer \n",
      "예측 요약 :  olympic gold winner brother gives brother to death in games\n",
      "\n",
      "\n",
      "원문 : actor smith wife smith revealed younger addicted sex thought everything could fixed sex added revealed also addicted alcohol adding remember house two bottles wine going third bottle \n",
      "실제 요약 : was sex addict when was younger will smith wife \n",
      "예측 요약 :  sex with me when he was sex with me abhishek\n",
      "\n",
      "\n",
      "원문 : speaking working women directors actor said could connect personal level love working women directors emotional functionality actor added featured filmmaker zoya akhtar film dil well director alankrita shrivastava lipstick burkha released \n",
      "실제 요약 : connect with women directors on personal level \n",
      "예측 요약 :  women are not being single because of women now\n",
      "\n",
      "\n",
      "원문 : explaining resigned bihar chief minister jd nitish kumar wednesday said quit interest state want bihar welfare tried keep alliance intact work added kumar resigned citing crisis ruling congress rjd jd alliance reason \n",
      "실제 요약 : quit in the interest of bihar nitish kumar post resignation \n",
      "예측 요약 :  nitish kumar quits bihar cm nitish kumar\n",
      "\n",
      "\n"
     ]
    }
   ],
   "source": [
    "for i in range(50, 100):\n",
    "    print(\"원문 :\", seq2text(encoder_input_test[i]))\n",
    "    print(\"실제 요약 :\", seq2headlines(decoder_input_test[i]))\n",
    "    print(\"예측 요약 :\", decode_sequence(encoder_input_test[i].reshape(1, text_max_len)))\n",
    "    print(\"\\n\")"
   ]
  },
  {
   "cell_type": "markdown",
   "id": "b406f023",
   "metadata": {},
   "source": [
    "# 8.4 실제 결과와 요약문 비교하기 (추상적 요약)"
   ]
  },
  {
   "cell_type": "code",
   "execution_count": 66,
   "id": "4acdec76",
   "metadata": {},
   "outputs": [],
   "source": [
    "import requests\n",
    "from summa.summarizer import summarize"
   ]
  },
  {
   "cell_type": "code",
   "execution_count": 67,
   "id": "989e25b8",
   "metadata": {},
   "outputs": [],
   "source": [
    "import urllib.request\n",
    "urllib.request.urlretrieve(\"https://raw.githubusercontent.com/sunnysai12345/News_Summary/master/news_summary_more.csv\", filename=\"news_summary_more.csv\")\n",
    "data = pd.read_csv('news_summary_more.csv', encoding='iso-8859-1')"
   ]
  },
  {
   "cell_type": "code",
   "execution_count": 73,
   "id": "64ce72ad",
   "metadata": {},
   "outputs": [],
   "source": [
    "data['summary'] = data['text'].apply(lambda x: summarize(x, ratio=0.5))"
   ]
  },
  {
   "cell_type": "code",
   "execution_count": 74,
   "id": "e4431c02",
   "metadata": {},
   "outputs": [
    {
     "data": {
      "text/html": [
       "<div>\n",
       "<style scoped>\n",
       "    .dataframe tbody tr th:only-of-type {\n",
       "        vertical-align: middle;\n",
       "    }\n",
       "\n",
       "    .dataframe tbody tr th {\n",
       "        vertical-align: top;\n",
       "    }\n",
       "\n",
       "    .dataframe thead th {\n",
       "        text-align: right;\n",
       "    }\n",
       "</style>\n",
       "<table border=\"1\" class=\"dataframe\">\n",
       "  <thead>\n",
       "    <tr style=\"text-align: right;\">\n",
       "      <th></th>\n",
       "      <th>headlines</th>\n",
       "      <th>text</th>\n",
       "      <th>summary</th>\n",
       "    </tr>\n",
       "  </thead>\n",
       "  <tbody>\n",
       "    <tr>\n",
       "      <th>8287</th>\n",
       "      <td>Khalistani leader seen with Pak Army chief at ...</td>\n",
       "      <td>Pro-Khalistani leader Gopal Chawla was seen wi...</td>\n",
       "      <td>Chawla is believed to be close to 26/11 Mumbai...</td>\n",
       "    </tr>\n",
       "    <tr>\n",
       "      <th>93986</th>\n",
       "      <td>Parliamentary panel slams govt for denying jaw...</td>\n",
       "      <td>A Parliamentary panel has slammed the \"insensi...</td>\n",
       "      <td>A Parliamentary panel has slammed the \"insensi...</td>\n",
       "    </tr>\n",
       "    <tr>\n",
       "      <th>97258</th>\n",
       "      <td>United Nations observes 'World Water Day' on M...</td>\n",
       "      <td>World Water Day, an annual event which focuses...</td>\n",
       "      <td>The first World Water Day was celebrated in 19...</td>\n",
       "    </tr>\n",
       "    <tr>\n",
       "      <th>89591</th>\n",
       "      <td>India to replace its station in Antarctica, ex...</td>\n",
       "      <td>India will replace its Maitri station in Antar...</td>\n",
       "      <td>India will replace its Maitri station in Antar...</td>\n",
       "    </tr>\n",
       "    <tr>\n",
       "      <th>2557</th>\n",
       "      <td>New Zealand beat Sri Lanka by 35 runs in the s...</td>\n",
       "      <td>New Zealand went from 55/5 to 179/7 to registe...</td>\n",
       "      <td>New Zealand went from 55/5 to 179/7 to registe...</td>\n",
       "    </tr>\n",
       "  </tbody>\n",
       "</table>\n",
       "</div>"
      ],
      "text/plain": [
       "                                               headlines  \\\n",
       "8287   Khalistani leader seen with Pak Army chief at ...   \n",
       "93986  Parliamentary panel slams govt for denying jaw...   \n",
       "97258  United Nations observes 'World Water Day' on M...   \n",
       "89591  India to replace its station in Antarctica, ex...   \n",
       "2557   New Zealand beat Sri Lanka by 35 runs in the s...   \n",
       "\n",
       "                                                    text  \\\n",
       "8287   Pro-Khalistani leader Gopal Chawla was seen wi...   \n",
       "93986  A Parliamentary panel has slammed the \"insensi...   \n",
       "97258  World Water Day, an annual event which focuses...   \n",
       "89591  India will replace its Maitri station in Antar...   \n",
       "2557   New Zealand went from 55/5 to 179/7 to registe...   \n",
       "\n",
       "                                                 summary  \n",
       "8287   Chawla is believed to be close to 26/11 Mumbai...  \n",
       "93986  A Parliamentary panel has slammed the \"insensi...  \n",
       "97258  The first World Water Day was celebrated in 19...  \n",
       "89591  India will replace its Maitri station in Antar...  \n",
       "2557   New Zealand went from 55/5 to 179/7 to registe...  "
      ]
     },
     "execution_count": 74,
     "metadata": {},
     "output_type": "execute_result"
    }
   ],
   "source": [
    "data.sample(5)"
   ]
  },
  {
   "cell_type": "code",
   "execution_count": 75,
   "id": "65c58d1c",
   "metadata": {},
   "outputs": [
    {
     "name": "stdout",
     "output_type": "stream",
     "text": [
      "text: Saurav Kant, an alumnus of upGrad and IIIT-B's PG Program in Machine learning and Artificial Intelligence, was a Sr Systems Engineer at Infosys with almost 5 years of work experience. The program and upGrad's 360-degree career support helped him transition to a Data Scientist at Tech Mahindra with 90% salary hike. upGrad's Online Power Learning has powered 3 lakh+ careers.\n",
      "headlines: upGrad learner switches to career in ML & Al with 90% salary hike\n",
      "summary: upGrad's Online Power Learning has powered 3 lakh+ careers.\n",
      "\n",
      "\n",
      "text: Kunal Shah's credit card bill payment platform, CRED, gave users a chance to win free food from Swiggy for one year. Pranav Kaushik, a Delhi techie, bagged this reward after spending 2000 CRED coins. Users get one CRED coin per rupee of bill paid, which can be used to avail rewards from brands like Ixigo, BookMyShow, UberEats, Cult.Fit and more.\n",
      "headlines: Delhi techie wins free food from Swiggy for one year on CRED\n",
      "summary: Users get one CRED coin per rupee of bill paid, which can be used to avail rewards from brands like Ixigo, BookMyShow, UberEats, Cult.Fit and more.\n",
      "\n",
      "\n",
      "text: New Zealand defeated India by 8 wickets in the fourth ODI at Hamilton on Thursday to win their first match of the five-match ODI series. India lost an international match under Rohit Sharma's captaincy after 12 consecutive victories dating back to March 2018. The match witnessed India getting all out for 92, their seventh lowest total in ODI cricket history.\n",
      "headlines: New Zealand end Rohit Sharma-led India's 12-match winning streak\n",
      "summary: The match witnessed India getting all out for 92, their seventh lowest total in ODI cricket history.\n",
      "\n",
      "\n",
      "text: With Aegon Life iTerm Insurance plan, customers can enjoy tax benefits on your premiums paid and save up to Ã¢ÂÂ¹46,800^ on taxes. The plan provides life cover up to the age of 100 years. Also, customers have options to insure against Critical Illnesses, Disability and Accidental Death Benefit Rider with a life cover up to the age of 80 years.\n",
      "headlines: Aegon life iTerm insurance plan helps customers save tax\n",
      "summary: Also, customers have options to insure against Critical Illnesses, Disability and Accidental Death Benefit Rider with a life cover up to the age of 80 years.\n",
      "\n",
      "\n",
      "text: Speaking about the sexual harassment allegations against Rajkumar Hirani, Sonam Kapoor said, \"I've known Hirani for many years...What if it's not true, the [#MeToo] movement will get derailed.\" \"In the #MeToo movement, I always believe a woman. But in this case, we need to reserve our judgment,\" she added. Hirani has been accused by an assistant who worked in 'Sanju'.\n",
      "headlines: Have known Hirani for yrs, what if MeToo claims are not true: Sonam\n",
      "summary: Speaking about the sexual harassment allegations against Rajkumar Hirani, Sonam Kapoor said, \"I've known Hirani for many years...What if it's not true, the [#MeToo] movement will get derailed.\" \"In the #MeToo movement, I always believe a woman.\n",
      "\n",
      "\n"
     ]
    }
   ],
   "source": [
    "for i in range(5):\n",
    "    print(\"text:\", data['text'][i])\n",
    "    print(\"headlines:\", data['headlines'][i])\n",
    "    print(\"summary:\", data['summary'][i])\n",
    "    print(\"\\n\")"
   ]
  },
  {
   "attachments": {
    "image.png": {
     "image/png": "[encoded data removed]"
    }
   },
   "cell_type": "markdown",
   "id": "041ee4e6",
   "metadata": {},
   "source": [
    "![image.png](attachment:image.png)\n",
    "\n",
    "Epoch 31/50 \n",
    "\n",
    "306/306 [==============================] - 187s 613ms/step - loss: 2.4668 - val_loss: 3.3261\n",
    "\n",
    "* loss는 2.46 그리고 val_loss는 3.32로 높은 값들을 갖고 있습니다. 값들이 많이 떨어지지 않는 것으로 봤을 때, 학습을 진행할시 오버피팅이 나타났다고 볼 수 있습니다. \n",
    "* NLP는 참 어려운 부분이 결과를 봤을 때, 학습이 제대로 이루어 져서 결과가 잘 나왔는지 알수가 없는점이 참 항상 아쉽습니다. NLP를 학습하고 테스트 했을 때, 어떻게 확인 할 수 있는 방법이 있는지 더 알아봐야 할 것 같습니다. \n"
   ]
  }
 ],
 "metadata": {
  "kernelspec": {
   "display_name": "Python 3 (ipykernel)",
   "language": "python",
   "name": "python3"
  },
  "language_info": {
   "codemirror_mode": {
    "name": "ipython",
    "version": 3
   },
   "file_extension": ".py",
   "mimetype": "text/x-python",
   "name": "python",
   "nbconvert_exporter": "python",
   "pygments_lexer": "ipython3",
   "version": "3.9.7"
  }
 },
 "nbformat": 4,
 "nbformat_minor": 5
}
