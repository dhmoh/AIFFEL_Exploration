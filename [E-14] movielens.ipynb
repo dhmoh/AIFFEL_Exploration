{
 "cells": [
  {
   "cell_type": "markdown",
   "id": "115f18c1",
   "metadata": {},
   "source": [
    "## 1) 데이터 준비와 전처리\n",
    "--- \n",
    "Movielens 데이터는 rating.dat 안에 이미 인덱싱까지 완료된 사용자-영화-평점 데이터가 깔끔하게 정리되어 있습니다."
   ]
  },
  {
   "cell_type": "code",
   "execution_count": 1,
   "id": "4ab0fc0b",
   "metadata": {},
   "outputs": [
    {
     "data": {
      "text/html": [
       "<div>\n",
       "<style scoped>\n",
       "    .dataframe tbody tr th:only-of-type {\n",
       "        vertical-align: middle;\n",
       "    }\n",
       "\n",
       "    .dataframe tbody tr th {\n",
       "        vertical-align: top;\n",
       "    }\n",
       "\n",
       "    .dataframe thead th {\n",
       "        text-align: right;\n",
       "    }\n",
       "</style>\n",
       "<table border=\"1\" class=\"dataframe\">\n",
       "  <thead>\n",
       "    <tr style=\"text-align: right;\">\n",
       "      <th></th>\n",
       "      <th>user_id</th>\n",
       "      <th>movie_id</th>\n",
       "      <th>ratings</th>\n",
       "      <th>timestamp</th>\n",
       "    </tr>\n",
       "  </thead>\n",
       "  <tbody>\n",
       "    <tr>\n",
       "      <th>0</th>\n",
       "      <td>1</td>\n",
       "      <td>1193</td>\n",
       "      <td>5</td>\n",
       "      <td>978300760</td>\n",
       "    </tr>\n",
       "    <tr>\n",
       "      <th>1</th>\n",
       "      <td>1</td>\n",
       "      <td>661</td>\n",
       "      <td>3</td>\n",
       "      <td>978302109</td>\n",
       "    </tr>\n",
       "    <tr>\n",
       "      <th>2</th>\n",
       "      <td>1</td>\n",
       "      <td>914</td>\n",
       "      <td>3</td>\n",
       "      <td>978301968</td>\n",
       "    </tr>\n",
       "    <tr>\n",
       "      <th>3</th>\n",
       "      <td>1</td>\n",
       "      <td>3408</td>\n",
       "      <td>4</td>\n",
       "      <td>978300275</td>\n",
       "    </tr>\n",
       "    <tr>\n",
       "      <th>4</th>\n",
       "      <td>1</td>\n",
       "      <td>2355</td>\n",
       "      <td>5</td>\n",
       "      <td>978824291</td>\n",
       "    </tr>\n",
       "  </tbody>\n",
       "</table>\n",
       "</div>"
      ],
      "text/plain": [
       "   user_id  movie_id  ratings  timestamp\n",
       "0        1      1193        5  978300760\n",
       "1        1       661        3  978302109\n",
       "2        1       914        3  978301968\n",
       "3        1      3408        4  978300275\n",
       "4        1      2355        5  978824291"
      ]
     },
     "execution_count": 1,
     "metadata": {},
     "output_type": "execute_result"
    }
   ],
   "source": [
    "import pandas as pd\n",
    "import os\n",
    "\n",
    "rating_file_path=os.getenv('HOME') + '/aiffel/recommendata_iu/data/ml-1m/ratings.dat'\n",
    "ratings_cols = ['user_id', 'movie_id', 'ratings', 'timestamp']\n",
    "ratings = pd.read_csv(rating_file_path, sep='::', names=ratings_cols, engine='python', encoding = \"ISO-8859-1\")\n",
    "orginal_data_size = len(ratings)\n",
    "ratings.head()"
   ]
  },
  {
   "cell_type": "markdown",
   "id": "a59abdb6",
   "metadata": {},
   "source": [
    "* Pandas를 사용하여 movielens 데이터를 불러옵니다. "
   ]
  },
  {
   "cell_type": "code",
   "execution_count": 2,
   "id": "6250769d",
   "metadata": {},
   "outputs": [
    {
     "name": "stdout",
     "output_type": "stream",
     "text": [
      "orginal_data_size: 1000209, filtered_data_size: 836478\n",
      "Ratio of Remaining Data is 83.63%\n"
     ]
    }
   ],
   "source": [
    "# 3점 이상만 남깁니다.\n",
    "ratings = ratings[ratings['ratings']>=3]\n",
    "filtered_data_size = len(ratings)\n",
    "\n",
    "print(f'orginal_data_size: {orginal_data_size}, filtered_data_size: {filtered_data_size}')\n",
    "print(f'Ratio of Remaining Data is {filtered_data_size / orginal_data_size:.2%}')"
   ]
  },
  {
   "cell_type": "markdown",
   "id": "d0d0596a",
   "metadata": {},
   "source": [
    "* 1,000,209개의 영화 데이터 중, rating 이 3점 이상인 영화는 83.63%로 836,478개 입니다. "
   ]
  },
  {
   "cell_type": "code",
   "execution_count": 3,
   "id": "5fa75ba6",
   "metadata": {},
   "outputs": [],
   "source": [
    "# ratings 컬럼의 이름을 counts로 바꿉니다.\n",
    "ratings.rename(columns={'ratings':'counts'}, inplace=True)"
   ]
  },
  {
   "cell_type": "code",
   "execution_count": 4,
   "id": "fa87e373",
   "metadata": {},
   "outputs": [
    {
     "data": {
      "text/plain": [
       "0          5\n",
       "1          3\n",
       "2          3\n",
       "3          4\n",
       "4          5\n",
       "          ..\n",
       "1000203    3\n",
       "1000205    5\n",
       "1000206    5\n",
       "1000207    4\n",
       "1000208    4\n",
       "Name: counts, Length: 836478, dtype: int64"
      ]
     },
     "execution_count": 4,
     "metadata": {},
     "output_type": "execute_result"
    }
   ],
   "source": [
    "ratings['counts']"
   ]
  },
  {
   "cell_type": "markdown",
   "id": "2313d3d5",
   "metadata": {},
   "source": [
    "여기까지가 전처리입니다. 이후에는 이전 스텝에 소개했던 것과 동일한 방식으로 MF model을 구성하여 내가 좋아할 만한 영화를 추천해 볼 수 있습니다.\n",
    "\n"
   ]
  },
  {
   "cell_type": "markdown",
   "id": "6e333a43",
   "metadata": {},
   "source": [
    "## 2) 분석해 봅시다.\n",
    "---\n",
    "* ratings에 있는 유니크한 영화 개수\n",
    "* ratings에 있는 유니크한 사용자 수\n",
    "* 가장 인기 있는 영화 30개(인기순)"
   ]
  },
  {
   "cell_type": "code",
   "execution_count": 5,
   "id": "7ad65269",
   "metadata": {},
   "outputs": [
    {
     "name": "stdout",
     "output_type": "stream",
     "text": [
      "영화 개수 :  3628\n"
     ]
    }
   ],
   "source": [
    "# 영화 개수\n",
    "print ('영화 개수 : ', ratings['movie_id'].nunique())"
   ]
  },
  {
   "cell_type": "code",
   "execution_count": 6,
   "id": "7a641e47",
   "metadata": {},
   "outputs": [
    {
     "data": {
      "text/plain": [
       "6039"
      ]
     },
     "execution_count": 6,
     "metadata": {},
     "output_type": "execute_result"
    }
   ],
   "source": [
    "# 사용자 수\n",
    "ratings['user_id'].nunique()"
   ]
  },
  {
   "cell_type": "code",
   "execution_count": 7,
   "id": "2c932706",
   "metadata": {},
   "outputs": [
    {
     "data": {
      "text/html": [
       "<div>\n",
       "<style scoped>\n",
       "    .dataframe tbody tr th:only-of-type {\n",
       "        vertical-align: middle;\n",
       "    }\n",
       "\n",
       "    .dataframe tbody tr th {\n",
       "        vertical-align: top;\n",
       "    }\n",
       "\n",
       "    .dataframe thead th {\n",
       "        text-align: right;\n",
       "    }\n",
       "</style>\n",
       "<table border=\"1\" class=\"dataframe\">\n",
       "  <thead>\n",
       "    <tr style=\"text-align: right;\">\n",
       "      <th></th>\n",
       "      <th>movie_id</th>\n",
       "      <th>title</th>\n",
       "      <th>genre</th>\n",
       "    </tr>\n",
       "  </thead>\n",
       "  <tbody>\n",
       "    <tr>\n",
       "      <th>0</th>\n",
       "      <td>1</td>\n",
       "      <td>Toy Story (1995)</td>\n",
       "      <td>Animation|Children's|Comedy</td>\n",
       "    </tr>\n",
       "    <tr>\n",
       "      <th>1</th>\n",
       "      <td>2</td>\n",
       "      <td>Jumanji (1995)</td>\n",
       "      <td>Adventure|Children's|Fantasy</td>\n",
       "    </tr>\n",
       "    <tr>\n",
       "      <th>2</th>\n",
       "      <td>3</td>\n",
       "      <td>Grumpier Old Men (1995)</td>\n",
       "      <td>Comedy|Romance</td>\n",
       "    </tr>\n",
       "    <tr>\n",
       "      <th>3</th>\n",
       "      <td>4</td>\n",
       "      <td>Waiting to Exhale (1995)</td>\n",
       "      <td>Comedy|Drama</td>\n",
       "    </tr>\n",
       "    <tr>\n",
       "      <th>4</th>\n",
       "      <td>5</td>\n",
       "      <td>Father of the Bride Part II (1995)</td>\n",
       "      <td>Comedy</td>\n",
       "    </tr>\n",
       "  </tbody>\n",
       "</table>\n",
       "</div>"
      ],
      "text/plain": [
       "   movie_id                               title                         genre\n",
       "0         1                    Toy Story (1995)   Animation|Children's|Comedy\n",
       "1         2                      Jumanji (1995)  Adventure|Children's|Fantasy\n",
       "2         3             Grumpier Old Men (1995)                Comedy|Romance\n",
       "3         4            Waiting to Exhale (1995)                  Comedy|Drama\n",
       "4         5  Father of the Bride Part II (1995)                        Comedy"
      ]
     },
     "execution_count": 7,
     "metadata": {},
     "output_type": "execute_result"
    }
   ],
   "source": [
    "# 영화 제목을 보기 위해 메타 데이터를 읽어옵니다.\n",
    "movie_file_path=os.getenv('HOME') + '/aiffel/recommendata_iu/data/ml-1m/movies.dat'\n",
    "cols = ['movie_id', 'title', 'genre'] \n",
    "movies = pd.read_csv(movie_file_path, sep='::', names=cols, engine='python', encoding='ISO-8859-1')\n",
    "movies.head()"
   ]
  },
  {
   "cell_type": "code",
   "execution_count": 8,
   "id": "6360122a",
   "metadata": {
    "scrolled": false
   },
   "outputs": [
    {
     "data": {
      "text/html": [
       "<div>\n",
       "<style scoped>\n",
       "    .dataframe tbody tr th:only-of-type {\n",
       "        vertical-align: middle;\n",
       "    }\n",
       "\n",
       "    .dataframe tbody tr th {\n",
       "        vertical-align: top;\n",
       "    }\n",
       "\n",
       "    .dataframe thead th {\n",
       "        text-align: right;\n",
       "    }\n",
       "</style>\n",
       "<table border=\"1\" class=\"dataframe\">\n",
       "  <thead>\n",
       "    <tr style=\"text-align: right;\">\n",
       "      <th></th>\n",
       "      <th>user_id</th>\n",
       "      <th>movie_id</th>\n",
       "      <th>counts</th>\n",
       "      <th>timestamp</th>\n",
       "      <th>title</th>\n",
       "      <th>genre</th>\n",
       "    </tr>\n",
       "  </thead>\n",
       "  <tbody>\n",
       "    <tr>\n",
       "      <th>0</th>\n",
       "      <td>1</td>\n",
       "      <td>1193</td>\n",
       "      <td>5</td>\n",
       "      <td>978300760</td>\n",
       "      <td>One Flew Over the Cuckoo's Nest (1975)</td>\n",
       "      <td>Drama</td>\n",
       "    </tr>\n",
       "    <tr>\n",
       "      <th>1</th>\n",
       "      <td>1</td>\n",
       "      <td>661</td>\n",
       "      <td>3</td>\n",
       "      <td>978302109</td>\n",
       "      <td>James and the Giant Peach (1996)</td>\n",
       "      <td>Animation|Children's|Musical</td>\n",
       "    </tr>\n",
       "    <tr>\n",
       "      <th>2</th>\n",
       "      <td>1</td>\n",
       "      <td>914</td>\n",
       "      <td>3</td>\n",
       "      <td>978301968</td>\n",
       "      <td>My Fair Lady (1964)</td>\n",
       "      <td>Musical|Romance</td>\n",
       "    </tr>\n",
       "    <tr>\n",
       "      <th>3</th>\n",
       "      <td>1</td>\n",
       "      <td>3408</td>\n",
       "      <td>4</td>\n",
       "      <td>978300275</td>\n",
       "      <td>Erin Brockovich (2000)</td>\n",
       "      <td>Drama</td>\n",
       "    </tr>\n",
       "    <tr>\n",
       "      <th>4</th>\n",
       "      <td>1</td>\n",
       "      <td>2355</td>\n",
       "      <td>5</td>\n",
       "      <td>978824291</td>\n",
       "      <td>Bug's Life, A (1998)</td>\n",
       "      <td>Animation|Children's|Comedy</td>\n",
       "    </tr>\n",
       "    <tr>\n",
       "      <th>5</th>\n",
       "      <td>1</td>\n",
       "      <td>1197</td>\n",
       "      <td>3</td>\n",
       "      <td>978302268</td>\n",
       "      <td>Princess Bride, The (1987)</td>\n",
       "      <td>Action|Adventure|Comedy|Romance</td>\n",
       "    </tr>\n",
       "    <tr>\n",
       "      <th>6</th>\n",
       "      <td>1</td>\n",
       "      <td>1287</td>\n",
       "      <td>5</td>\n",
       "      <td>978302039</td>\n",
       "      <td>Ben-Hur (1959)</td>\n",
       "      <td>Action|Adventure|Drama</td>\n",
       "    </tr>\n",
       "    <tr>\n",
       "      <th>7</th>\n",
       "      <td>1</td>\n",
       "      <td>2804</td>\n",
       "      <td>5</td>\n",
       "      <td>978300719</td>\n",
       "      <td>Christmas Story, A (1983)</td>\n",
       "      <td>Comedy|Drama</td>\n",
       "    </tr>\n",
       "    <tr>\n",
       "      <th>8</th>\n",
       "      <td>1</td>\n",
       "      <td>594</td>\n",
       "      <td>4</td>\n",
       "      <td>978302268</td>\n",
       "      <td>Snow White and the Seven Dwarfs (1937)</td>\n",
       "      <td>Animation|Children's|Musical</td>\n",
       "    </tr>\n",
       "    <tr>\n",
       "      <th>9</th>\n",
       "      <td>1</td>\n",
       "      <td>919</td>\n",
       "      <td>4</td>\n",
       "      <td>978301368</td>\n",
       "      <td>Wizard of Oz, The (1939)</td>\n",
       "      <td>Adventure|Children's|Drama|Musical</td>\n",
       "    </tr>\n",
       "  </tbody>\n",
       "</table>\n",
       "</div>"
      ],
      "text/plain": [
       "   user_id  movie_id  counts  timestamp  \\\n",
       "0        1      1193       5  978300760   \n",
       "1        1       661       3  978302109   \n",
       "2        1       914       3  978301968   \n",
       "3        1      3408       4  978300275   \n",
       "4        1      2355       5  978824291   \n",
       "5        1      1197       3  978302268   \n",
       "6        1      1287       5  978302039   \n",
       "7        1      2804       5  978300719   \n",
       "8        1       594       4  978302268   \n",
       "9        1       919       4  978301368   \n",
       "\n",
       "                                    title                               genre  \n",
       "0  One Flew Over the Cuckoo's Nest (1975)                               Drama  \n",
       "1        James and the Giant Peach (1996)        Animation|Children's|Musical  \n",
       "2                     My Fair Lady (1964)                     Musical|Romance  \n",
       "3                  Erin Brockovich (2000)                               Drama  \n",
       "4                    Bug's Life, A (1998)         Animation|Children's|Comedy  \n",
       "5              Princess Bride, The (1987)     Action|Adventure|Comedy|Romance  \n",
       "6                          Ben-Hur (1959)              Action|Adventure|Drama  \n",
       "7               Christmas Story, A (1983)                        Comedy|Drama  \n",
       "8  Snow White and the Seven Dwarfs (1937)        Animation|Children's|Musical  \n",
       "9                Wizard of Oz, The (1939)  Adventure|Children's|Drama|Musical  "
      ]
     },
     "execution_count": 8,
     "metadata": {},
     "output_type": "execute_result"
    }
   ],
   "source": [
    "ratings = ratings.join(movies.set_index('movie_id'), on = 'movie_id')\n",
    "ratings.head(10)"
   ]
  },
  {
   "cell_type": "markdown",
   "id": "edfaaf2e",
   "metadata": {},
   "source": [
    "* movie_id 로만 어떤 영화인지 파악할 수 없기 때문에 movies 데이터를 movie_id 에 맞춰서 ratings 데이터에 붙여줍니다."
   ]
  },
  {
   "cell_type": "code",
   "execution_count": 9,
   "id": "663bebb4",
   "metadata": {},
   "outputs": [
    {
     "data": {
      "text/html": [
       "<div>\n",
       "<style scoped>\n",
       "    .dataframe tbody tr th:only-of-type {\n",
       "        vertical-align: middle;\n",
       "    }\n",
       "\n",
       "    .dataframe tbody tr th {\n",
       "        vertical-align: top;\n",
       "    }\n",
       "\n",
       "    .dataframe thead th {\n",
       "        text-align: right;\n",
       "    }\n",
       "</style>\n",
       "<table border=\"1\" class=\"dataframe\">\n",
       "  <thead>\n",
       "    <tr style=\"text-align: right;\">\n",
       "      <th></th>\n",
       "      <th>user_id</th>\n",
       "      <th>movie_id</th>\n",
       "      <th>counts</th>\n",
       "      <th>title</th>\n",
       "    </tr>\n",
       "  </thead>\n",
       "  <tbody>\n",
       "    <tr>\n",
       "      <th>0</th>\n",
       "      <td>1</td>\n",
       "      <td>1193</td>\n",
       "      <td>5</td>\n",
       "      <td>One Flew Over the Cuckoo's Nest (1975)</td>\n",
       "    </tr>\n",
       "    <tr>\n",
       "      <th>1</th>\n",
       "      <td>1</td>\n",
       "      <td>661</td>\n",
       "      <td>3</td>\n",
       "      <td>James and the Giant Peach (1996)</td>\n",
       "    </tr>\n",
       "    <tr>\n",
       "      <th>2</th>\n",
       "      <td>1</td>\n",
       "      <td>914</td>\n",
       "      <td>3</td>\n",
       "      <td>My Fair Lady (1964)</td>\n",
       "    </tr>\n",
       "    <tr>\n",
       "      <th>3</th>\n",
       "      <td>1</td>\n",
       "      <td>3408</td>\n",
       "      <td>4</td>\n",
       "      <td>Erin Brockovich (2000)</td>\n",
       "    </tr>\n",
       "    <tr>\n",
       "      <th>4</th>\n",
       "      <td>1</td>\n",
       "      <td>2355</td>\n",
       "      <td>5</td>\n",
       "      <td>Bug's Life, A (1998)</td>\n",
       "    </tr>\n",
       "    <tr>\n",
       "      <th>5</th>\n",
       "      <td>1</td>\n",
       "      <td>1197</td>\n",
       "      <td>3</td>\n",
       "      <td>Princess Bride, The (1987)</td>\n",
       "    </tr>\n",
       "    <tr>\n",
       "      <th>6</th>\n",
       "      <td>1</td>\n",
       "      <td>1287</td>\n",
       "      <td>5</td>\n",
       "      <td>Ben-Hur (1959)</td>\n",
       "    </tr>\n",
       "    <tr>\n",
       "      <th>7</th>\n",
       "      <td>1</td>\n",
       "      <td>2804</td>\n",
       "      <td>5</td>\n",
       "      <td>Christmas Story, A (1983)</td>\n",
       "    </tr>\n",
       "    <tr>\n",
       "      <th>8</th>\n",
       "      <td>1</td>\n",
       "      <td>594</td>\n",
       "      <td>4</td>\n",
       "      <td>Snow White and the Seven Dwarfs (1937)</td>\n",
       "    </tr>\n",
       "    <tr>\n",
       "      <th>9</th>\n",
       "      <td>1</td>\n",
       "      <td>919</td>\n",
       "      <td>4</td>\n",
       "      <td>Wizard of Oz, The (1939)</td>\n",
       "    </tr>\n",
       "  </tbody>\n",
       "</table>\n",
       "</div>"
      ],
      "text/plain": [
       "   user_id  movie_id  counts                                   title\n",
       "0        1      1193       5  One Flew Over the Cuckoo's Nest (1975)\n",
       "1        1       661       3        James and the Giant Peach (1996)\n",
       "2        1       914       3                     My Fair Lady (1964)\n",
       "3        1      3408       4                  Erin Brockovich (2000)\n",
       "4        1      2355       5                    Bug's Life, A (1998)\n",
       "5        1      1197       3              Princess Bride, The (1987)\n",
       "6        1      1287       5                          Ben-Hur (1959)\n",
       "7        1      2804       5               Christmas Story, A (1983)\n",
       "8        1       594       4  Snow White and the Seven Dwarfs (1937)\n",
       "9        1       919       4                Wizard of Oz, The (1939)"
      ]
     },
     "execution_count": 9,
     "metadata": {},
     "output_type": "execute_result"
    }
   ],
   "source": [
    "ratings = ratings.drop(columns=['timestamp', 'genre'])\n",
    "ratings.head(10)"
   ]
  },
  {
   "cell_type": "markdown",
   "id": "873fca31",
   "metadata": {},
   "source": [
    "* 사용하지 않을 'timestamp'와 'genre'는 데이터에서 삭제 해줍니다. "
   ]
  },
  {
   "cell_type": "code",
   "execution_count": 10,
   "id": "c0ef2c5b",
   "metadata": {},
   "outputs": [
    {
     "data": {
      "text/plain": [
       "movie_id\n",
       "2858    3211\n",
       "260     2910\n",
       "1196    2885\n",
       "1210    2716\n",
       "2028    2561\n",
       "589     2509\n",
       "593     2498\n",
       "1198    2473\n",
       "1270    2460\n",
       "2571    2434\n",
       "480     2413\n",
       "2762    2385\n",
       "608     2371\n",
       "110     2314\n",
       "1580    2297\n",
       "527     2257\n",
       "1197    2252\n",
       "2396    2213\n",
       "1617    2210\n",
       "318     2194\n",
       "858     2167\n",
       "1265    2121\n",
       "1097    2102\n",
       "2997    2066\n",
       "2716    2051\n",
       "296     2030\n",
       "356     2022\n",
       "1240    2019\n",
       "1       2000\n",
       "457     1941\n",
       "Name: user_id, dtype: int64"
      ]
     },
     "execution_count": 10,
     "metadata": {},
     "output_type": "execute_result"
    }
   ],
   "source": [
    "movie_count = ratings.groupby(\"movie_id\")[\"user_id\"].count()\n",
    "movie_count.sort_values(ascending=False).head(30)"
   ]
  },
  {
   "cell_type": "code",
   "execution_count": 11,
   "id": "444dedcc",
   "metadata": {},
   "outputs": [
    {
     "data": {
      "text/plain": [
       "title\n",
       "American Beauty (1999)                                   3211\n",
       "Star Wars: Episode IV - A New Hope (1977)                2910\n",
       "Star Wars: Episode V - The Empire Strikes Back (1980)    2885\n",
       "Star Wars: Episode VI - Return of the Jedi (1983)        2716\n",
       "Saving Private Ryan (1998)                               2561\n",
       "Terminator 2: Judgment Day (1991)                        2509\n",
       "Silence of the Lambs, The (1991)                         2498\n",
       "Raiders of the Lost Ark (1981)                           2473\n",
       "Back to the Future (1985)                                2460\n",
       "Matrix, The (1999)                                       2434\n",
       "Jurassic Park (1993)                                     2413\n",
       "Sixth Sense, The (1999)                                  2385\n",
       "Fargo (1996)                                             2371\n",
       "Braveheart (1995)                                        2314\n",
       "Men in Black (1997)                                      2297\n",
       "Schindler's List (1993)                                  2257\n",
       "Princess Bride, The (1987)                               2252\n",
       "Shakespeare in Love (1998)                               2213\n",
       "L.A. Confidential (1997)                                 2210\n",
       "Shawshank Redemption, The (1994)                         2194\n",
       "Godfather, The (1972)                                    2167\n",
       "Groundhog Day (1993)                                     2121\n",
       "E.T. the Extra-Terrestrial (1982)                        2102\n",
       "Being John Malkovich (1999)                              2066\n",
       "Ghostbusters (1984)                                      2051\n",
       "Pulp Fiction (1994)                                      2030\n",
       "Forrest Gump (1994)                                      2022\n",
       "Terminator, The (1984)                                   2019\n",
       "Toy Story (1995)                                         2000\n",
       "Fugitive, The (1993)                                     1941\n",
       "Name: user_id, dtype: int64"
      ]
     },
     "execution_count": 11,
     "metadata": {},
     "output_type": "execute_result"
    }
   ],
   "source": [
    "movie_count = ratings.groupby(\"title\")[\"user_id\"].count()\n",
    "movie_count.sort_values(ascending=False).head(30)"
   ]
  },
  {
   "cell_type": "code",
   "execution_count": 12,
   "id": "4e797445",
   "metadata": {},
   "outputs": [
    {
     "data": {
      "text/plain": [
       "count    6039.000000\n",
       "mean      138.512668\n",
       "std       156.241599\n",
       "min         1.000000\n",
       "25%        38.000000\n",
       "50%        81.000000\n",
       "75%       177.000000\n",
       "max      1968.000000\n",
       "Name: title, dtype: float64"
      ]
     },
     "execution_count": 12,
     "metadata": {},
     "output_type": "execute_result"
    }
   ],
   "source": [
    "user_count = ratings.groupby('user_id')['title'].count()\n",
    "user_count.describe()"
   ]
  },
  {
   "cell_type": "markdown",
   "id": "0cc7f51a",
   "metadata": {},
   "source": [
    "## 3) 내가 선호하는 영화를 5가지 골라서 ratings에 추가해 줍시다.\n",
    "---"
   ]
  },
  {
   "cell_type": "code",
   "execution_count": 13,
   "id": "39a2b406",
   "metadata": {},
   "outputs": [
    {
     "data": {
      "text/html": [
       "<div>\n",
       "<style scoped>\n",
       "    .dataframe tbody tr th:only-of-type {\n",
       "        vertical-align: middle;\n",
       "    }\n",
       "\n",
       "    .dataframe tbody tr th {\n",
       "        vertical-align: top;\n",
       "    }\n",
       "\n",
       "    .dataframe thead th {\n",
       "        text-align: right;\n",
       "    }\n",
       "</style>\n",
       "<table border=\"1\" class=\"dataframe\">\n",
       "  <thead>\n",
       "    <tr style=\"text-align: right;\">\n",
       "      <th></th>\n",
       "      <th>user_id</th>\n",
       "      <th>movie_id</th>\n",
       "      <th>counts</th>\n",
       "      <th>title</th>\n",
       "    </tr>\n",
       "  </thead>\n",
       "  <tbody>\n",
       "    <tr>\n",
       "      <th>1000203</th>\n",
       "      <td>6040</td>\n",
       "      <td>1090</td>\n",
       "      <td>3</td>\n",
       "      <td>Platoon (1986)</td>\n",
       "    </tr>\n",
       "    <tr>\n",
       "      <th>1000205</th>\n",
       "      <td>6040</td>\n",
       "      <td>1094</td>\n",
       "      <td>5</td>\n",
       "      <td>Crying Game, The (1992)</td>\n",
       "    </tr>\n",
       "    <tr>\n",
       "      <th>1000206</th>\n",
       "      <td>6040</td>\n",
       "      <td>562</td>\n",
       "      <td>5</td>\n",
       "      <td>Welcome to the Dollhouse (1995)</td>\n",
       "    </tr>\n",
       "    <tr>\n",
       "      <th>1000207</th>\n",
       "      <td>6040</td>\n",
       "      <td>1096</td>\n",
       "      <td>4</td>\n",
       "      <td>Sophie's Choice (1982)</td>\n",
       "    </tr>\n",
       "    <tr>\n",
       "      <th>1000208</th>\n",
       "      <td>6040</td>\n",
       "      <td>1097</td>\n",
       "      <td>4</td>\n",
       "      <td>E.T. the Extra-Terrestrial (1982)</td>\n",
       "    </tr>\n",
       "    <tr>\n",
       "      <th>0</th>\n",
       "      <td>hyumin</td>\n",
       "      <td>1</td>\n",
       "      <td>5</td>\n",
       "      <td>Toy Story (1995)</td>\n",
       "    </tr>\n",
       "    <tr>\n",
       "      <th>1</th>\n",
       "      <td>hyumin</td>\n",
       "      <td>2</td>\n",
       "      <td>5</td>\n",
       "      <td>Jumanji (1995)</td>\n",
       "    </tr>\n",
       "    <tr>\n",
       "      <th>2</th>\n",
       "      <td>hyumin</td>\n",
       "      <td>2000</td>\n",
       "      <td>5</td>\n",
       "      <td>Lethal Weapon (1987)</td>\n",
       "    </tr>\n",
       "    <tr>\n",
       "      <th>3</th>\n",
       "      <td>hyumin</td>\n",
       "      <td>1835</td>\n",
       "      <td>5</td>\n",
       "      <td>City of Angels (1998)</td>\n",
       "    </tr>\n",
       "    <tr>\n",
       "      <th>4</th>\n",
       "      <td>hyumin</td>\n",
       "      <td>3825</td>\n",
       "      <td>5</td>\n",
       "      <td>Coyote Ugly (2000)</td>\n",
       "    </tr>\n",
       "  </tbody>\n",
       "</table>\n",
       "</div>"
      ],
      "text/plain": [
       "        user_id  movie_id  counts                              title\n",
       "1000203    6040      1090       3                     Platoon (1986)\n",
       "1000205    6040      1094       5            Crying Game, The (1992)\n",
       "1000206    6040       562       5    Welcome to the Dollhouse (1995)\n",
       "1000207    6040      1096       4             Sophie's Choice (1982)\n",
       "1000208    6040      1097       4  E.T. the Extra-Terrestrial (1982)\n",
       "0        hyumin         1       5                   Toy Story (1995)\n",
       "1        hyumin         2       5                     Jumanji (1995)\n",
       "2        hyumin      2000       5               Lethal Weapon (1987)\n",
       "3        hyumin      1835       5              City of Angels (1998)\n",
       "4        hyumin      3825       5                 Coyote Ugly (2000)"
      ]
     },
     "execution_count": 13,
     "metadata": {},
     "output_type": "execute_result"
    }
   ],
   "source": [
    "# 내가 좋아하는 영화 데이터 추가. \n",
    "my_favorite_movieid = [1 , 2 , 2000 ,1835 ,3825]\n",
    "my_favorite_movietitle = []\n",
    "\n",
    "for i in my_favorite_movieid:\n",
    "    my_favorite_movietitle.extend(list(movies[movies['movie_id'] == i]['title']))\n",
    "    \n",
    "# 'hyumin'이라는 user_id가 위 영화 rating을 전부 5로 줬다고 가정합니다.\n",
    "my_movielist = pd.DataFrame({'user_id': ['hyumin']*5, 'movie_id': my_favorite_movieid, 'counts':[5]*5, 'title':my_favorite_movietitle})\n",
    "\n",
    "if not ratings.isin({'user_id':['hyumin']})['user_id'].any():  # user_id에 'hyumin'이라는 데이터가 없다면\n",
    "    ratings = ratings.append(my_movielist)                           # 위에 임의로 만든 my_favorite 데이터를 추가해 줍니다. \n",
    "\n",
    "ratings.tail(10)       # 잘 추가되었는지 확인해 봅시다."
   ]
  },
  {
   "cell_type": "markdown",
   "id": "9308d65e",
   "metadata": {},
   "source": [
    "* 우리가 만든 추천 시스템의 추후 검증 과정을 위해, '나는 A를 좋아한다.'라는 정보를 위 데이터셋에 5개 이상 추가해 주어야 합니다. \n",
    "* 아래와 같이 내가 좋아하는 영화들을 기존의 데이터에 추가해서 넣습니다."
   ]
  },
  {
   "cell_type": "markdown",
   "id": "978a77c0",
   "metadata": {},
   "source": [
    "## 4) CSR matrix를 직접 만들어 봅시다.\n",
    "---"
   ]
  },
  {
   "cell_type": "code",
   "execution_count": 14,
   "id": "8211bef7",
   "metadata": {},
   "outputs": [],
   "source": [
    "user_unique = ratings['user_id'].unique()\n",
    "movie_unique = ratings['title'].unique()\n",
    "\n",
    "user_to_idx = {v:k for k,v in enumerate(user_unique)}\n",
    "movie_to_idx = {v:k for k,v in enumerate(movie_unique)}"
   ]
  },
  {
   "cell_type": "code",
   "execution_count": 15,
   "id": "35ab90e5",
   "metadata": {},
   "outputs": [
    {
     "name": "stdout",
     "output_type": "stream",
     "text": [
      "6039\n",
      "2047\n"
     ]
    }
   ],
   "source": [
    "# 인덱싱이 잘 되었는지 확인해 봅니다. \n",
    "print(user_to_idx['hyumin'])    \n",
    "print(movie_to_idx['Coyote Ugly (2000)'])"
   ]
  },
  {
   "cell_type": "code",
   "execution_count": 21,
   "id": "38298589",
   "metadata": {},
   "outputs": [
    {
     "name": "stdout",
     "output_type": "stream",
     "text": [
      "user_id column indexing Fail!!\n",
      "title column indexing OK!!\n"
     ]
    },
    {
     "data": {
      "text/html": [
       "<div>\n",
       "<style scoped>\n",
       "    .dataframe tbody tr th:only-of-type {\n",
       "        vertical-align: middle;\n",
       "    }\n",
       "\n",
       "    .dataframe tbody tr th {\n",
       "        vertical-align: top;\n",
       "    }\n",
       "\n",
       "    .dataframe thead th {\n",
       "        text-align: right;\n",
       "    }\n",
       "</style>\n",
       "<table border=\"1\" class=\"dataframe\">\n",
       "  <thead>\n",
       "    <tr style=\"text-align: right;\">\n",
       "      <th></th>\n",
       "      <th>user_id</th>\n",
       "      <th>movie_id</th>\n",
       "      <th>counts</th>\n",
       "      <th>title</th>\n",
       "    </tr>\n",
       "  </thead>\n",
       "  <tbody>\n",
       "    <tr>\n",
       "      <th>0</th>\n",
       "      <td>0</td>\n",
       "      <td>1193</td>\n",
       "      <td>5</td>\n",
       "      <td>0</td>\n",
       "    </tr>\n",
       "    <tr>\n",
       "      <th>1</th>\n",
       "      <td>0</td>\n",
       "      <td>661</td>\n",
       "      <td>3</td>\n",
       "      <td>1</td>\n",
       "    </tr>\n",
       "    <tr>\n",
       "      <th>2</th>\n",
       "      <td>0</td>\n",
       "      <td>914</td>\n",
       "      <td>3</td>\n",
       "      <td>2</td>\n",
       "    </tr>\n",
       "    <tr>\n",
       "      <th>3</th>\n",
       "      <td>0</td>\n",
       "      <td>3408</td>\n",
       "      <td>4</td>\n",
       "      <td>3</td>\n",
       "    </tr>\n",
       "    <tr>\n",
       "      <th>4</th>\n",
       "      <td>0</td>\n",
       "      <td>2355</td>\n",
       "      <td>5</td>\n",
       "      <td>4</td>\n",
       "    </tr>\n",
       "    <tr>\n",
       "      <th>...</th>\n",
       "      <td>...</td>\n",
       "      <td>...</td>\n",
       "      <td>...</td>\n",
       "      <td>...</td>\n",
       "    </tr>\n",
       "    <tr>\n",
       "      <th>0</th>\n",
       "      <td>6039</td>\n",
       "      <td>1</td>\n",
       "      <td>5</td>\n",
       "      <td>40</td>\n",
       "    </tr>\n",
       "    <tr>\n",
       "      <th>1</th>\n",
       "      <td>6039</td>\n",
       "      <td>2</td>\n",
       "      <td>5</td>\n",
       "      <td>513</td>\n",
       "    </tr>\n",
       "    <tr>\n",
       "      <th>2</th>\n",
       "      <td>6039</td>\n",
       "      <td>2000</td>\n",
       "      <td>5</td>\n",
       "      <td>648</td>\n",
       "    </tr>\n",
       "    <tr>\n",
       "      <th>3</th>\n",
       "      <td>6039</td>\n",
       "      <td>1835</td>\n",
       "      <td>5</td>\n",
       "      <td>1418</td>\n",
       "    </tr>\n",
       "    <tr>\n",
       "      <th>4</th>\n",
       "      <td>6039</td>\n",
       "      <td>3825</td>\n",
       "      <td>5</td>\n",
       "      <td>2047</td>\n",
       "    </tr>\n",
       "  </tbody>\n",
       "</table>\n",
       "<p>836483 rows × 4 columns</p>\n",
       "</div>"
      ],
      "text/plain": [
       "    user_id  movie_id  counts  title\n",
       "0         0      1193       5      0\n",
       "1         0       661       3      1\n",
       "2         0       914       3      2\n",
       "3         0      3408       4      3\n",
       "4         0      2355       5      4\n",
       "..      ...       ...     ...    ...\n",
       "0      6039         1       5     40\n",
       "1      6039         2       5    513\n",
       "2      6039      2000       5    648\n",
       "3      6039      1835       5   1418\n",
       "4      6039      3825       5   2047\n",
       "\n",
       "[836483 rows x 4 columns]"
      ]
     },
     "execution_count": 21,
     "metadata": {},
     "output_type": "execute_result"
    }
   ],
   "source": [
    "temp_user_data = ratings['user_id'].map(user_to_idx.get).dropna()\n",
    "if len(temp_user_data) == len(ratings): \n",
    "    print('user_id column indexing OK!!')\n",
    "    ratings['user_id'] = temp_user_data   \n",
    "else:\n",
    "    print('user_id column indexing Fail!!')\n",
    "\n",
    "temp_movie_data = ratings['title'].map(movie_to_idx.get).dropna()\n",
    "if len(temp_movie_data) == len(ratings):\n",
    "    print('title column indexing OK!!')\n",
    "    ratings['title'] = temp_movie_data\n",
    "else:\n",
    "    print('title column indexing Fail!!')\n",
    "\n",
    "ratings"
   ]
  },
  {
   "cell_type": "markdown",
   "id": "b2e1249c",
   "metadata": {},
   "source": [
    "* user_to_idx.get을 통해 user_id 컬럼의 모든 값을 인덱싱한 Series를 구합니다. \n",
    "* movie_to_idx을 통해 movie 컬럼도 동일한 방식으로 인덱싱 합니다."
   ]
  },
  {
   "cell_type": "code",
   "execution_count": 23,
   "id": "d73d2f6d",
   "metadata": {},
   "outputs": [
    {
     "data": {
      "text/plain": [
       "<6040x3628 sparse matrix of type '<class 'numpy.int64'>'\n",
       "\twith 836483 stored elements in Compressed Sparse Row format>"
      ]
     },
     "execution_count": 23,
     "metadata": {},
     "output_type": "execute_result"
    }
   ],
   "source": [
    "# CSR matrix 생성\n",
    "\n",
    "from scipy.sparse import csr_matrix\n",
    "\n",
    "num_user = ratings['user_id'].nunique()\n",
    "num_movie = ratings['title'].nunique()\n",
    "\n",
    "csr_data = csr_matrix((ratings.counts, (ratings.user_id, ratings.title)), shape= (num_user, num_movie))\n",
    "csr_data"
   ]
  },
  {
   "cell_type": "markdown",
   "id": "c3a87b69",
   "metadata": {},
   "source": [
    "## 5) als_model = AlternatingLeastSquares 모델을 직접 구성하여 훈련시켜 봅시다.\n",
    "\n",
    "---"
   ]
  },
  {
   "cell_type": "code",
   "execution_count": 24,
   "id": "a7100c2e",
   "metadata": {},
   "outputs": [],
   "source": [
    "from implicit.als import AlternatingLeastSquares\n",
    "import os\n",
    "import numpy as np\n",
    "\n",
    "# implicit 라이브러리에서 권장하고 있는 부분입니다. 학습 내용과는 무관합니다.\n",
    "os.environ['OPENBLAS_NUM_THREADS']='1'\n",
    "os.environ['KMP_DUPLICATE_LIB_OK']='True'\n",
    "os.environ['MKL_NUM_THREADS']='1'"
   ]
  },
  {
   "cell_type": "markdown",
   "id": "bbc84e1a",
   "metadata": {},
   "source": [
    "### AlternatingLeastSquares 클래스의 __init__ 파라미터를 살펴보겠습니다.\n",
    "\n",
    "* factors : 유저와 아이템의 벡터를 몇 차원으로 할 것인지\n",
    "* regularization : 과적합을 방지하기 위해 정규화 값을 얼마나 사용할 것인지\n",
    "* use_gpu : GPU를 사용할 것인지\n",
    "* iterations : epochs와 같은 의미입니다. 데이터를 몇 번 반복해서 학습할 것인지\n",
    "\n",
    "1과 4를 늘릴수록 학습 데이터를 잘 학습하게 되지만 과적합의 우려가 있으니 좋은 값을 찾아야 합니다."
   ]
  },
  {
   "cell_type": "code",
   "execution_count": 36,
   "id": "0da2cb72",
   "metadata": {},
   "outputs": [],
   "source": [
    "# Implicit AlternatingLeastSquares 모델의 선언\n",
    "als_model = AlternatingLeastSquares(factors=1000, regularization=0.01, use_gpu=False, iterations=15, dtype=np.float32)"
   ]
  },
  {
   "cell_type": "code",
   "execution_count": 37,
   "id": "138aeea5",
   "metadata": {},
   "outputs": [
    {
     "data": {
      "text/plain": [
       "<3628x6040 sparse matrix of type '<class 'numpy.int64'>'\n",
       "\twith 836483 stored elements in Compressed Sparse Column format>"
      ]
     },
     "execution_count": 37,
     "metadata": {},
     "output_type": "execute_result"
    }
   ],
   "source": [
    "# als 모델은 input으로 (item X user 꼴의 matrix를 받기 때문에 Transpose해줍니다.)\n",
    "csr_data_transpose = csr_data.T\n",
    "csr_data_transpose"
   ]
  },
  {
   "cell_type": "code",
   "execution_count": 38,
   "id": "7c3dbef8",
   "metadata": {},
   "outputs": [
    {
     "data": {
      "application/vnd.jupyter.widget-view+json": {
       "model_id": "39eb2536d59f49e292e9f2ed419c2263",
       "version_major": 2,
       "version_minor": 0
      },
      "text/plain": [
       "  0%|          | 0/15 [00:00<?, ?it/s]"
      ]
     },
     "metadata": {},
     "output_type": "display_data"
    }
   ],
   "source": [
    "# 모델 훈련\n",
    "als_model.fit(csr_data_transpose)"
   ]
  },
  {
   "cell_type": "markdown",
   "id": "9913623b",
   "metadata": {},
   "source": [
    "모델 학습이 끝났습니다! 이제 2가지를 아래 사항을 살펴보도록 하겠습니다.\n",
    "\n",
    "1. Zimin 벡터와 black eyed peas의 벡터를 어떻게 만들고 있는지\n",
    "2. 두 벡터를 곱하면 어떤 값이 나오는지"
   ]
  },
  {
   "cell_type": "markdown",
   "id": "79df83cf",
   "metadata": {},
   "source": [
    "## 6) 내가 선호하는 5가지 영화 중 하나와 그 외의 영화 하나를 골라 훈련된 모델이 예측한 나의 선호도를 파악해 보세요.\n",
    "---"
   ]
  },
  {
   "cell_type": "code",
   "execution_count": 39,
   "id": "e8cca589",
   "metadata": {},
   "outputs": [
    {
     "name": "stdout",
     "output_type": "stream",
     "text": [
      "슝=3\n"
     ]
    }
   ],
   "source": [
    "hyumin, Coyote_Ugly = user_to_idx['hyumin'], movie_to_idx['Coyote Ugly (2000)']\n",
    "hyumin_vector, Coyote_Ugly_vector = als_model.user_factors[hyumin], als_model.item_factors[Coyote_Ugly]\n",
    "\n",
    "print('슝=3')"
   ]
  },
  {
   "cell_type": "code",
   "execution_count": 40,
   "id": "a2d46367",
   "metadata": {
    "scrolled": true
   },
   "outputs": [
    {
     "data": {
      "text/plain": [
       "array([ 3.03173184e-01, -3.30197155e-01, -1.01762027e-01,  1.77621573e-01,\n",
       "       -1.04570955e-01,  1.95667863e-01, -1.19425379e-01,  2.84207582e-01,\n",
       "       -2.99052875e-02,  2.54514009e-01, -1.61020495e-02, -4.72999401e-02,\n",
       "        6.38182536e-02,  8.52714032e-02,  1.12186588e-01, -1.26975387e-01,\n",
       "       -2.60360390e-01,  3.00036967e-01, -4.24469471e-01, -5.39410003e-02,\n",
       "       -1.33796811e-01, -1.49703592e-01,  6.31414279e-02,  1.82803541e-01,\n",
       "       -1.77452698e-01, -4.38565969e-01, -2.55355477e-01,  3.80034119e-01,\n",
       "       -6.01363301e-01,  2.82397747e-01,  1.65698051e-01,  1.01414561e-01,\n",
       "        2.11841404e-01,  4.88893948e-02,  4.48081583e-01,  6.62591308e-03,\n",
       "        1.02159142e-01, -7.38087177e-01, -2.63727129e-01, -1.47417143e-01,\n",
       "       -1.51306406e-01, -2.52131969e-01,  2.30864510e-01,  9.75394249e-02,\n",
       "       -1.84356272e-01, -9.71260816e-02, -5.84647000e-01,  5.48939645e-01,\n",
       "       -3.35620672e-01, -3.81632745e-01,  2.35345557e-01,  3.42338443e-01,\n",
       "        1.16065904e-01, -3.74672174e-01, -1.88420177e-01,  2.92796493e-01,\n",
       "        2.20644042e-01,  4.54228967e-01,  1.02980107e-01, -1.20365754e-01,\n",
       "       -1.77532032e-01,  4.31450278e-01, -3.52391422e-01, -4.29820120e-01,\n",
       "        1.10004775e-01, -3.41260552e-01, -3.21397066e-01, -3.69994521e-01,\n",
       "        9.04599354e-02,  1.51478410e-01, -2.11440697e-01, -2.98955262e-01,\n",
       "        1.30492285e-01,  3.76411378e-01, -4.47484523e-01,  4.28866476e-01,\n",
       "        4.47411835e-02, -9.36248992e-03, -4.05815482e-01,  1.80203915e-01,\n",
       "       -4.73629266e-01,  5.40932976e-02, -1.09109215e-01, -1.63386628e-01,\n",
       "       -1.91933975e-01,  7.96267390e-02,  2.03018934e-01,  3.62137675e-01,\n",
       "        3.86642754e-01,  1.61375582e-01,  9.55454782e-02,  8.51153508e-02,\n",
       "        1.45816579e-01,  4.61919010e-01,  4.35304195e-02, -3.27042907e-01,\n",
       "        5.06776720e-02, -1.25889763e-01, -8.10972393e-01, -1.94850057e-01,\n",
       "       -2.39994183e-01,  2.31389374e-01, -2.36495510e-01, -3.26960653e-01,\n",
       "        3.26811314e-01,  5.08360207e-01,  1.20836571e-01,  2.54328310e-01,\n",
       "       -2.20961347e-01, -4.44810420e-01, -7.88201988e-02, -9.41307470e-02,\n",
       "        4.98886287e-01, -4.53247279e-02, -5.95991984e-02, -2.64151841e-01,\n",
       "        1.09250672e-01,  7.26871267e-02, -3.85743618e-01,  2.09788591e-01,\n",
       "       -1.01568222e-01,  3.62535954e-01, -1.57899275e-01, -2.29469091e-01,\n",
       "       -5.74365437e-01,  3.98830742e-01,  2.43232831e-01,  2.82356888e-01,\n",
       "        2.20834777e-01,  7.12629855e-01,  7.52399191e-02,  4.43804353e-01,\n",
       "       -1.78295583e-01, -2.20157892e-01, -2.84162194e-01,  2.77992368e-01,\n",
       "       -4.64403719e-01, -7.74615677e-04,  3.25600475e-01,  3.43711823e-01,\n",
       "       -3.92661035e-01,  3.32213074e-01, -1.07641533e-01,  1.14882261e-01,\n",
       "       -1.53516069e-01, -9.02967602e-02,  2.35500515e-01,  1.11787520e-01,\n",
       "        3.65605235e-01,  1.03445901e-02, -3.28921765e-01, -4.30878133e-01,\n",
       "        2.18254030e-01,  5.14370725e-02,  3.76311094e-02,  2.69734800e-01,\n",
       "        2.55335599e-01, -5.51735833e-02, -6.44694626e-01,  1.07083157e-01,\n",
       "        9.98479575e-02,  1.73908770e-01, -3.41527849e-01,  2.63403058e-01,\n",
       "       -1.19940087e-01, -2.08262458e-01, -3.71148214e-02,  2.39019677e-01,\n",
       "       -3.84318344e-02, -3.38331491e-01,  2.85085857e-01,  4.25661653e-01,\n",
       "       -2.49603510e-01, -3.37950200e-01,  2.13982970e-01,  2.98865251e-02,\n",
       "       -2.97466189e-01, -1.86179280e-01,  1.16152354e-01, -7.25000948e-02,\n",
       "       -5.21411747e-02, -6.35869280e-02,  2.20617071e-01, -3.79900306e-01,\n",
       "       -1.57982886e-01,  7.74047077e-02,  8.69448259e-02,  4.76511009e-02,\n",
       "       -1.07004577e-02, -3.44882965e-01, -1.77013412e-01, -3.55296940e-01,\n",
       "       -1.16070986e-01, -6.72404096e-02, -1.55618325e-01, -3.76808554e-01,\n",
       "        1.54319063e-01, -2.56506681e-01, -2.29955819e-02,  6.41736388e-02,\n",
       "        3.28058749e-01,  1.48498744e-01,  7.40369931e-02, -2.32431367e-01,\n",
       "        4.79752898e-01, -4.00171131e-01,  3.90629351e-01,  2.22200081e-01,\n",
       "        3.89514714e-01, -2.06668913e-01, -6.50891811e-02, -2.69314975e-01,\n",
       "       -5.93725562e-01,  2.25415930e-01, -2.86053687e-01, -1.32683530e-01,\n",
       "        1.73288621e-02, -5.57939522e-02, -2.24697679e-01, -1.93399042e-01,\n",
       "        1.00300357e-01,  8.32081661e-02,  2.18893290e-02, -1.05945364e-01,\n",
       "       -1.30583271e-01, -2.43548274e-01,  7.80268833e-02,  2.23893836e-01,\n",
       "       -1.68020040e-01,  4.63862002e-01,  6.10887036e-02, -4.89033043e-01,\n",
       "       -3.00174773e-01, -3.98543715e-01, -2.65021563e-01, -5.97713031e-02,\n",
       "        1.04449138e-01,  1.05374098e-01,  5.07879518e-02,  4.92989644e-02,\n",
       "        3.17251943e-02,  3.61925177e-02,  3.70184392e-01,  5.45238733e-01,\n",
       "        4.59975064e-01,  1.06363386e-01,  2.40762010e-01, -2.10555699e-02,\n",
       "        2.53704429e-01,  6.41769245e-02,  2.47648984e-01,  3.32848758e-01,\n",
       "        7.24137783e-01, -2.83145476e-02, -2.13243634e-01,  8.02128986e-02,\n",
       "       -1.25357762e-01, -1.64092392e-01, -8.84173065e-02, -5.10450173e-03,\n",
       "       -9.17330682e-02, -4.74823937e-02,  1.06445760e-01,  5.84130108e-01,\n",
       "        2.16907442e-01,  4.27053049e-02, -8.71293694e-02, -3.65258962e-01,\n",
       "        2.34407648e-01,  6.36058301e-02,  3.60536695e-01,  6.56127781e-02,\n",
       "       -1.09338842e-01, -1.01039574e-01,  6.76267922e-01,  2.59283304e-01,\n",
       "        2.80885667e-01, -2.24668846e-01, -3.75861704e-01, -5.47847569e-01,\n",
       "       -1.96866617e-01, -2.35945042e-02, -2.71554083e-01,  5.65176047e-02,\n",
       "        3.84422168e-02,  2.50616819e-01,  3.37877840e-01,  6.04145825e-02,\n",
       "        4.34435830e-02, -1.67811848e-02,  1.86404541e-01, -2.32551217e-01,\n",
       "       -4.11686420e-01, -2.14089945e-01, -3.77995044e-01, -1.01012574e-03,\n",
       "        4.65255409e-01,  1.97413027e-01, -7.10437670e-02, -1.74111631e-02,\n",
       "       -1.82168745e-02,  1.08783700e-01,  1.56138927e-01,  6.38601184e-02,\n",
       "       -5.17554522e-01, -5.39074279e-02,  1.60754099e-01,  2.46697605e-01,\n",
       "        3.21154803e-01,  2.66295522e-01, -3.79395485e-01,  1.60520971e-01,\n",
       "       -1.25593886e-01,  2.05396906e-01,  8.84169936e-02, -5.08727372e-01,\n",
       "        1.35760769e-01, -3.28805923e-01,  1.58360839e-01,  3.74001414e-01,\n",
       "       -2.16298684e-01,  1.26702577e-01,  5.67308441e-02, -2.53441602e-01,\n",
       "       -9.53665003e-02,  4.20244813e-01,  1.54136075e-02, -2.37367213e-01,\n",
       "        1.36361614e-01,  2.16163054e-01, -3.07321638e-01, -4.31738347e-01,\n",
       "       -7.50370026e-02,  4.54700645e-03,  1.35588899e-01,  1.33185700e-01,\n",
       "        1.92155123e-01,  6.22019097e-02, -4.12771195e-01,  6.53831586e-02,\n",
       "       -2.53933907e-01,  1.46739960e-01, -2.83043087e-02, -7.18224868e-02,\n",
       "        1.81191742e-01, -2.14676663e-01, -2.19162241e-01,  1.96308866e-02,\n",
       "        3.88575345e-01, -1.55858502e-01,  1.34906918e-01,  4.21359420e-01,\n",
       "        4.42047387e-01,  2.61596084e-01,  1.48501173e-01, -2.53670841e-01,\n",
       "        1.50285870e-01,  6.94888681e-02, -2.81749964e-01,  2.93895483e-01,\n",
       "        2.83093333e-01,  3.03167492e-01,  3.19511741e-02, -5.24017155e-01,\n",
       "       -4.68101621e-01,  2.46992618e-01,  1.39767334e-01, -4.12974171e-02,\n",
       "       -7.67756766e-03,  1.60074204e-01, -2.49900948e-02,  5.99631146e-02,\n",
       "        1.84000954e-01,  2.64237542e-02, -1.66662186e-01,  2.14423999e-01,\n",
       "       -3.32856268e-01, -1.03263389e-02, -1.68904364e-01, -3.93844843e-02,\n",
       "        2.21827105e-01,  2.69906282e-01,  3.10425796e-02,  2.85937846e-01,\n",
       "        2.38224387e-01,  1.99030086e-01, -1.27644390e-01,  5.94907254e-02,\n",
       "        1.15211718e-01, -1.04175821e-01,  1.93339840e-01,  1.67489380e-01,\n",
       "        1.30273610e-01, -1.02808312e-01,  7.31579214e-02, -2.57276278e-02,\n",
       "       -1.19089983e-01,  3.28090519e-01, -2.89556235e-01,  1.39712170e-01,\n",
       "       -2.06877038e-01,  7.95774162e-02,  3.45319927e-01,  2.34000474e-01,\n",
       "        1.07315764e-01, -4.52784970e-02,  4.63446230e-02, -2.29932770e-01,\n",
       "       -1.92166656e-01, -1.52214348e-01,  1.90868318e-01,  1.32094175e-01,\n",
       "       -2.94731534e-03, -8.23087245e-02, -1.75221160e-01,  2.66387135e-01,\n",
       "        5.13567626e-01,  3.66726965e-01, -4.51750070e-01,  1.01985669e+00,\n",
       "        6.80866614e-02, -2.46272475e-01,  2.38993298e-02,  1.07743651e-01,\n",
       "        4.62607026e-01,  3.08617920e-01,  2.60054935e-02,  4.31157261e-01,\n",
       "        1.97278276e-01, -1.71196818e-01, -4.53169532e-02,  1.54211000e-02,\n",
       "       -1.11956872e-01,  3.19104344e-01, -5.32830544e-02,  3.57896909e-02,\n",
       "        2.29625806e-01, -2.41524577e-02, -3.57764751e-01,  1.17708467e-01,\n",
       "       -1.97309390e-01, -9.24690068e-03,  1.12292022e-01, -5.67048192e-01,\n",
       "        3.03459223e-02,  7.11939931e-02,  9.89536270e-02, -3.96495372e-01,\n",
       "        1.09401010e-01,  8.57188776e-02, -3.85037333e-01, -1.25096262e-01,\n",
       "       -2.47094601e-01, -5.00477910e-01,  3.28716755e-01,  1.52500957e-01,\n",
       "        2.54547242e-02, -6.19949460e-01,  2.98534155e-01, -3.96092748e-03,\n",
       "        2.98199672e-02,  9.75323021e-02,  3.06859314e-01, -2.20043913e-01,\n",
       "       -2.07090363e-01, -3.91232967e-01,  3.56656700e-01, -2.12907761e-01,\n",
       "        1.97873250e-01, -2.24895611e-01,  2.48071924e-01, -3.35726768e-01,\n",
       "       -9.19799954e-02,  3.77001226e-01,  2.38648802e-01,  4.21604291e-02,\n",
       "       -3.01019788e-01,  2.21478060e-01, -3.46402153e-02,  2.66828090e-01,\n",
       "        6.86726868e-02, -3.10712419e-02, -2.95471996e-01, -1.97875574e-01,\n",
       "        5.99478424e-01, -4.88420755e-01,  1.74029097e-01, -4.16716546e-01,\n",
       "        7.11245388e-02,  3.87521237e-02, -3.52904141e-01, -2.57164836e-01,\n",
       "       -2.16905624e-01,  3.33422959e-01,  7.37007037e-02, -3.78968477e-01,\n",
       "        2.07019895e-01, -6.00175738e-01,  3.04665267e-01,  3.26469749e-01,\n",
       "       -3.89576077e-01,  2.01423597e-02, -1.35837123e-01,  8.56660977e-02,\n",
       "       -7.34123960e-02, -9.03100222e-02, -1.18625917e-01,  8.41422081e-02,\n",
       "        1.49633020e-01,  1.73277825e-01,  5.47250360e-02,  1.81417182e-01,\n",
       "        6.27450794e-02, -1.74640372e-01, -1.74329430e-01, -4.71620649e-01,\n",
       "       -1.75274611e-01, -2.10695401e-01, -1.89498752e-01,  2.63394982e-01,\n",
       "       -6.77219778e-02,  7.06867799e-02,  2.52409577e-01, -1.13593459e-01,\n",
       "       -1.06267534e-01,  2.96996385e-01, -1.45841897e-01, -2.03998178e-01,\n",
       "       -1.61812007e-01, -1.61577135e-01, -4.22281891e-01, -3.54888827e-01,\n",
       "        6.25454634e-02,  2.63465405e-01, -2.37912968e-01,  3.43945920e-01,\n",
       "        2.52039075e-01,  2.29428306e-01, -3.25056642e-01, -1.01699814e-01,\n",
       "        2.58097082e-01, -3.66579592e-02,  2.71199763e-01,  2.28308201e-01,\n",
       "       -7.70832375e-02, -2.04987422e-01, -2.88828671e-01,  2.36191694e-02,\n",
       "        1.51479706e-01,  1.81501999e-01, -1.07172050e-01,  2.31071070e-01,\n",
       "        1.89022347e-01,  1.48817658e-01, -1.08073324e-01, -1.46215022e-01,\n",
       "       -1.43089026e-01, -2.06504554e-01,  4.31810282e-02, -1.34025946e-01,\n",
       "        1.23540208e-01, -2.31195018e-02,  2.98182964e-01, -2.84704924e-01,\n",
       "       -9.66018736e-02,  4.18628305e-01, -4.01871830e-01, -1.15354270e-01,\n",
       "        2.94068336e-01, -2.71912724e-01,  2.20433593e-01,  6.20642230e-02,\n",
       "       -5.48714340e-01,  2.20824391e-01,  3.32873285e-01, -3.52996066e-02,\n",
       "        3.97349410e-02,  2.53613651e-01,  1.97166234e-01,  1.05413020e-01,\n",
       "       -7.81066939e-02,  3.14239472e-01, -5.75697534e-02,  3.26561451e-01,\n",
       "        3.65848690e-01, -8.55921432e-02, -7.00764120e-01, -4.15421188e-01,\n",
       "        2.27539107e-01,  2.36008272e-01,  2.92046189e-01,  1.22623697e-01,\n",
       "        2.00201601e-01, -2.81042635e-01,  4.71040130e-01,  8.69351774e-02,\n",
       "        2.98846722e-01, -3.20899844e-01, -3.56720716e-01,  1.15037888e-01,\n",
       "        3.25399280e-01, -4.33808833e-01, -1.06613420e-01,  8.20884258e-02,\n",
       "       -2.25976482e-01, -6.87512290e-03,  2.01431170e-01,  4.68026489e-01,\n",
       "        1.19097577e-02, -3.29680741e-01, -7.85412863e-02,  1.34745628e-01,\n",
       "       -1.34678960e-01,  1.72898516e-01,  3.09728444e-01,  2.52778471e-01,\n",
       "        6.39405251e-02,  1.64029524e-01,  4.43072021e-02, -1.85926378e-01,\n",
       "        2.75190115e-01,  3.32004994e-01,  5.31311393e-01,  2.92403430e-01,\n",
       "       -1.15894385e-01, -1.70224190e-01, -4.49210584e-01,  2.07252204e-01,\n",
       "        1.00277171e-01,  1.05756603e-01,  8.20292458e-02, -1.38470884e-02,\n",
       "       -7.20168045e-03,  8.58024135e-02,  7.28014261e-02,  3.07433426e-01,\n",
       "       -1.13421902e-02, -1.87801138e-01,  1.98952090e-02, -1.99858006e-02,\n",
       "       -1.49521613e-02, -3.25844496e-01, -7.37042818e-03, -1.34235755e-01,\n",
       "       -3.31076682e-01,  3.23474199e-01,  1.71307340e-01,  1.92706138e-01,\n",
       "        2.86367554e-02, -1.76808815e-02, -3.55990529e-01,  2.44392768e-01,\n",
       "       -3.48152332e-02, -5.14964044e-01,  1.80644035e-01,  1.87465653e-01,\n",
       "       -3.49719524e-01, -5.04777312e-01,  1.38469217e-02, -1.98172137e-01,\n",
       "       -2.67323870e-02,  2.72635520e-01, -1.65159330e-01,  6.56357765e-01,\n",
       "       -1.60600841e-01, -2.24342644e-01,  8.06803226e-01,  2.17658862e-01,\n",
       "       -3.13708223e-02,  3.09713215e-01, -2.40919888e-01,  4.32959259e-01,\n",
       "        6.99635074e-02, -1.38390660e-01, -9.87319276e-03, -1.64556280e-01,\n",
       "       -2.27410063e-01,  2.28157993e-02,  1.11052124e-02, -3.21930766e-01,\n",
       "       -8.80374238e-02,  2.39287857e-02, -8.86486247e-02, -3.05039257e-01,\n",
       "        2.33311921e-01, -6.38174117e-02,  5.16862512e-01,  5.81332818e-02,\n",
       "       -2.72935748e-01, -2.52231091e-01,  2.07694590e-01,  3.19520563e-01,\n",
       "        2.79872328e-01,  1.12150900e-01,  1.30675241e-01, -7.92031661e-02,\n",
       "       -1.72294468e-01, -7.18360722e-01,  3.21654528e-01, -4.78594929e-01,\n",
       "        5.72772324e-02,  1.31619528e-01, -1.56217992e-01,  1.88542400e-02,\n",
       "       -1.99208930e-01, -1.21548079e-01, -1.01781942e-01, -9.56365317e-02,\n",
       "        2.04057336e-01, -1.73365474e-01, -4.73325878e-01, -4.09296721e-01,\n",
       "       -5.57133704e-02, -1.76226161e-02, -5.59142306e-02,  2.58090228e-01,\n",
       "        5.25775731e-01, -1.01437427e-01,  2.73256470e-02, -1.08409107e-01,\n",
       "       -3.63163590e-01, -3.85013968e-01, -1.25641162e-02,  5.43841720e-02,\n",
       "        1.75589293e-01,  4.36108381e-01, -4.08024937e-01,  2.29930609e-01,\n",
       "        3.74719948e-02,  1.12245314e-01, -1.27376333e-01,  5.57161123e-02,\n",
       "        2.85031766e-01,  2.56913424e-01,  1.55462936e-01, -2.49638692e-01,\n",
       "       -8.34378377e-02, -1.59641564e-01,  5.78994974e-02, -1.59446463e-01,\n",
       "        3.41445208e-02, -1.23342365e-01, -3.08822811e-01,  2.79414564e-01,\n",
       "       -2.71525204e-01,  1.80397943e-01, -6.49383813e-02, -3.82389903e-01,\n",
       "        1.38912618e-01, -1.65935531e-02, -2.37226382e-01, -3.25666606e-01,\n",
       "       -2.75079340e-01,  1.07457928e-01,  5.27618080e-02,  1.99692607e-01,\n",
       "        1.70688897e-01,  5.40286243e-01, -5.69164753e-02,  3.40380937e-01,\n",
       "       -5.08255899e-01,  4.52672362e-01, -2.25375453e-03, -1.63399741e-01,\n",
       "       -2.75333732e-01,  1.26898929e-01, -6.32547140e-02, -2.18831733e-01,\n",
       "        3.09662938e-01, -4.59183007e-01,  4.54137959e-02, -1.69680696e-02,\n",
       "       -4.70368005e-02,  3.05300713e-01, -5.11219859e-01,  1.06443070e-01,\n",
       "       -4.46235873e-02, -8.17340240e-02, -1.05991267e-01, -2.93566048e-01,\n",
       "       -3.79319280e-01, -5.08440249e-02,  2.74295360e-01,  2.03279674e-01,\n",
       "       -1.02132507e-01, -2.53114522e-01,  1.80633336e-01, -8.82928371e-02,\n",
       "       -9.37140137e-02, -2.51572073e-01,  3.24424267e-01, -3.10626719e-02,\n",
       "        2.03192249e-01, -1.94363494e-03, -2.45182261e-01, -3.07955712e-01,\n",
       "        5.30612350e-01,  2.46576726e-01, -4.13956732e-01,  4.16639298e-02,\n",
       "        8.92438069e-02, -1.52428135e-01, -9.42011774e-02,  2.17987359e-01,\n",
       "        8.50331113e-02, -7.89281279e-02,  5.54283261e-01, -1.28125362e-02,\n",
       "        2.76059937e-02,  3.40833783e-01,  2.69222975e-01,  3.67772192e-01,\n",
       "       -3.32494348e-01,  1.32244572e-01, -3.83455515e-01, -2.43982151e-01,\n",
       "        7.92998001e-02, -3.99725616e-01, -2.15523854e-01, -5.32959759e-01,\n",
       "       -3.14817548e-01, -2.27809697e-01, -2.03937933e-01, -3.04445833e-01,\n",
       "       -4.43593025e-01, -3.40110332e-01, -4.89599705e-02,  2.17887491e-01,\n",
       "       -1.25327766e-01,  6.30282983e-02,  2.59554148e-01, -3.29627097e-01,\n",
       "       -1.30089089e-01, -4.75252658e-01,  4.08858836e-01,  5.14131188e-01,\n",
       "       -1.44997537e-01,  1.33039713e-01,  2.67563649e-02, -1.06661558e-01,\n",
       "        4.39978577e-02,  3.77601326e-01, -6.91144049e-01,  4.35908020e-01,\n",
       "       -1.02821492e-01,  3.57834816e-01,  1.90810710e-01,  2.86248893e-01,\n",
       "        2.76912123e-01,  2.36574620e-01,  9.10385549e-02, -1.20761462e-01,\n",
       "       -3.30376685e-01, -2.93873042e-01,  1.12896666e-01, -1.61540359e-01,\n",
       "       -3.57894659e-01,  2.76011348e-01, -2.60229081e-01, -1.63563732e-02,\n",
       "       -3.69462729e-01, -8.47244188e-02,  6.70203865e-02, -3.11151862e-01,\n",
       "       -6.69652000e-02, -1.48577252e-02,  5.03711700e-02,  1.05984904e-01,\n",
       "       -9.66155902e-02, -5.56259900e-02,  1.05671503e-03,  2.75430046e-02,\n",
       "       -2.99725533e-01,  1.73579618e-01, -9.40190181e-02,  1.85358256e-01,\n",
       "       -1.31413788e-01, -2.45558873e-01,  9.37700346e-02,  6.10901341e-02,\n",
       "        1.65223703e-02, -2.09870577e-01, -9.44169536e-02, -1.18474163e-01,\n",
       "       -1.05344743e-01, -1.96218580e-01, -2.03880757e-01, -8.92053023e-02,\n",
       "       -6.42714873e-02,  4.63441163e-01, -6.75518513e-01, -9.72612649e-02,\n",
       "       -6.04030192e-01, -1.28673747e-01, -3.78234327e-01,  1.41405120e-01,\n",
       "        6.97891712e-02,  4.10192132e-01,  3.20215493e-01, -4.52728271e-01,\n",
       "        2.87787110e-01, -9.99797955e-02,  6.10512376e-01, -8.70062038e-02,\n",
       "       -1.87895909e-01,  3.27597320e-01,  2.57760316e-01, -1.13244615e-01,\n",
       "       -6.45679086e-02, -8.97583663e-02, -8.55761990e-02,  3.99269909e-01,\n",
       "        2.25458160e-01, -7.17144430e-01, -9.15269703e-02, -5.37661975e-03,\n",
       "       -4.82555985e-01,  1.28622591e-01, -6.81529641e-02, -2.60650128e-01,\n",
       "        2.89258689e-01,  1.70615196e-01, -8.35200474e-02, -6.97966993e-01,\n",
       "       -6.11401610e-02,  2.07678735e-01, -1.22821648e-02,  3.66550535e-01,\n",
       "       -1.29802212e-01,  2.81031787e-01,  4.63919550e-01,  6.77236021e-02,\n",
       "       -3.35765556e-02,  5.78292727e-01, -2.48703510e-02,  2.14584935e-02,\n",
       "       -3.55984360e-01, -2.62666732e-01, -8.07248503e-02, -2.66669452e-01,\n",
       "       -4.24137741e-01,  1.50595516e-01,  8.34589750e-02,  3.34322490e-02,\n",
       "        1.14740804e-01,  1.60001785e-01, -2.52576411e-01, -9.79705676e-02,\n",
       "        2.05373093e-01,  3.26023414e-03, -2.45525822e-01,  3.92670214e-01,\n",
       "        6.77247271e-02, -2.57480770e-01, -6.52578101e-02,  1.36466354e-01,\n",
       "        2.52954721e-01,  1.13874488e-01,  5.12840331e-01,  2.75557637e-01,\n",
       "       -1.19581863e-01,  2.20746443e-01,  1.06851608e-01,  4.59437877e-01,\n",
       "        7.77344182e-02,  4.26880091e-01,  5.25971174e-01, -4.58367765e-02,\n",
       "        5.76299578e-02,  4.85675335e-01,  1.37628382e-02,  1.18490152e-01,\n",
       "        2.71333195e-02,  8.11044276e-02,  4.58991021e-01, -2.74616241e-01,\n",
       "        3.74897510e-01, -2.21802324e-01, -2.85066605e-01, -1.11437075e-01,\n",
       "        2.83362031e-01,  1.58246636e-01,  4.73742709e-02, -9.10006656e-06,\n",
       "        4.03400302e-01, -2.04354510e-01, -3.19422752e-01, -4.88881379e-01,\n",
       "        2.60838002e-01, -5.34434691e-02,  4.10680145e-01, -1.49914980e-01,\n",
       "       -5.38724139e-02, -1.88474759e-01, -1.54547885e-01,  6.20571561e-02,\n",
       "        4.46566753e-02, -2.44666234e-01,  2.80515581e-01, -1.57546699e-01],\n",
       "      dtype=float32)"
      ]
     },
     "execution_count": 40,
     "metadata": {},
     "output_type": "execute_result"
    }
   ],
   "source": [
    "hyumin_vector"
   ]
  },
  {
   "cell_type": "code",
   "execution_count": 41,
   "id": "122b3e51",
   "metadata": {
    "scrolled": true
   },
   "outputs": [
    {
     "data": {
      "text/plain": [
       "array([ 6.73265895e-03,  1.39110978e-03,  1.05717918e-02,  6.15274487e-03,\n",
       "       -1.68711715e-03,  1.16684018e-02,  7.35049369e-03,  5.98787796e-03,\n",
       "       -3.25387181e-03,  1.65552013e-02,  1.18552931e-02,  6.49142498e-03,\n",
       "        1.28403334e-02,  7.54570961e-03,  6.27795700e-03,  4.12284536e-03,\n",
       "       -4.57381085e-03, -8.31153244e-04,  4.58156166e-04,  5.24470396e-03,\n",
       "        3.56251863e-03,  8.64002388e-04,  9.18990094e-03,  1.11369416e-02,\n",
       "       -1.96173089e-03,  1.84813340e-03, -7.28618645e-04,  9.74126440e-03,\n",
       "        4.72709071e-03,  7.67918536e-03,  4.09274828e-03,  3.83358728e-03,\n",
       "        3.21433484e-03, -2.82045366e-05,  1.36055108e-02,  3.08863795e-03,\n",
       "        6.45615364e-05,  2.52134097e-03,  5.59120392e-03,  2.23175809e-03,\n",
       "        1.38546852e-03,  6.34571479e-04,  9.51707829e-03,  6.26725750e-03,\n",
       "        1.08589642e-02,  5.42392768e-03, -4.95826453e-03,  6.60262583e-03,\n",
       "        2.56420649e-03,  7.38875475e-03,  2.46507511e-03,  5.82064269e-03,\n",
       "        8.50700028e-03, -3.54930246e-03, -1.43526844e-03,  1.05558466e-02,\n",
       "        1.98974670e-03,  7.42141111e-03,  4.56164271e-04,  2.38558138e-03,\n",
       "        1.62788294e-03,  4.34298022e-03, -2.37642205e-03, -4.19257442e-03,\n",
       "        6.21208269e-03,  9.69815999e-04,  1.00946371e-02,  3.48238018e-03,\n",
       "        4.40948084e-03,  4.84453142e-03,  2.94966251e-03, -4.14163107e-03,\n",
       "        1.09928586e-02,  7.50326924e-03, -7.78966444e-03,  7.09945522e-03,\n",
       "        8.42357986e-03, -2.19933572e-03,  2.21945089e-03,  1.03587909e-02,\n",
       "       -3.48163047e-03,  2.51578004e-03,  2.42812210e-03,  3.26498831e-03,\n",
       "        2.58036982e-03,  3.92830046e-03,  7.38578010e-03,  3.40941618e-03,\n",
       "        5.34727378e-03, -6.58212742e-03,  4.76399623e-03,  9.52878688e-03,\n",
       "        1.29577965e-02,  9.38926730e-03, -4.74716537e-03, -4.37878259e-03,\n",
       "        9.85750556e-03,  4.64078784e-03, -8.91103595e-03,  5.22406446e-03,\n",
       "        4.34759492e-03, -7.38504110e-04,  3.80351557e-03, -2.36777216e-03,\n",
       "        5.92724187e-03,  2.06780154e-02,  1.12285940e-02,  8.53233133e-03,\n",
       "       -3.37374024e-03, -2.94763100e-04,  6.66649640e-03,  1.33032836e-02,\n",
       "       -6.55071985e-04, -1.98190653e-04,  2.61940155e-03, -1.20729173e-03,\n",
       "        3.13094724e-03,  1.66356214e-03, -1.80350104e-03,  5.42897265e-03,\n",
       "       -1.29713223e-03,  5.88019984e-03,  4.45672125e-03,  2.43206229e-03,\n",
       "        8.81850428e-05,  1.01161581e-02,  5.42299217e-03,  6.72915066e-03,\n",
       "        1.05792517e-02,  1.12413950e-02,  6.85877074e-03,  1.26062836e-02,\n",
       "       -5.60658099e-03,  2.68810545e-03,  2.20152014e-03,  4.45195893e-03,\n",
       "        1.50689902e-03,  3.51630105e-03,  9.46560595e-03,  1.14508830e-02,\n",
       "        2.44890084e-03,  2.53288611e-03, -3.10399313e-03,  5.38659561e-03,\n",
       "       -1.15242111e-03,  1.35474582e-03,  7.09042372e-03,  1.41870268e-02,\n",
       "        1.17367702e-02, -5.94780373e-04,  7.35843932e-05,  1.38945109e-03,\n",
       "        8.85769911e-03,  1.01792477e-02,  1.08589241e-02,  8.37830361e-03,\n",
       "        5.82638476e-03,  7.32621085e-03, -8.04435054e-04,  7.16729043e-03,\n",
       "        9.44140740e-03,  9.84418672e-03, -2.36364151e-03,  6.71863696e-03,\n",
       "        1.58916228e-03,  2.59573665e-03, -4.41829994e-04,  6.21571438e-03,\n",
       "        4.94462252e-03,  7.52241863e-03,  7.53173651e-03,  1.86221525e-02,\n",
       "        1.48675479e-02,  2.44939630e-03, -3.35029513e-03,  2.38025631e-03,\n",
       "        1.61457539e-03,  4.10891778e-04,  9.52640641e-03,  9.08107555e-04,\n",
       "        6.69359695e-04,  8.68684892e-03,  2.24007131e-03,  6.99014170e-03,\n",
       "       -4.52204747e-03,  8.10682122e-03,  3.43998824e-03,  1.72014423e-02,\n",
       "       -3.26930953e-04,  7.39191938e-03,  1.01376278e-02, -1.92880805e-03,\n",
       "        6.04747375e-03,  1.60488095e-02,  2.99513480e-03,  5.36054512e-03,\n",
       "        3.51328868e-03,  3.19794542e-03,  4.10240702e-03,  8.72177351e-03,\n",
       "        4.72251326e-03,  9.18416865e-03,  6.29408751e-03,  1.21669518e-03,\n",
       "        1.06954388e-02,  7.08271749e-03,  9.44814645e-03,  6.03579218e-03,\n",
       "        1.26348231e-02, -4.59509809e-03,  6.85875211e-03, -1.24278700e-03,\n",
       "       -3.43187829e-03,  4.75054048e-03,  4.09205956e-03, -1.69907953e-03,\n",
       "        1.41660655e-02,  1.56267080e-02,  1.54759618e-03,  8.31236970e-03,\n",
       "        7.89041072e-03,  6.44894270e-03,  1.58506762e-02,  9.13093798e-03,\n",
       "        5.45788929e-03, -6.53979951e-04,  2.77168024e-03,  5.84040163e-03,\n",
       "        4.23210813e-03,  1.14546893e-02,  3.10941017e-04, -4.33654292e-03,\n",
       "        3.85687477e-03,  2.75661325e-04,  4.43984382e-03,  4.40665707e-03,\n",
       "        2.77741841e-04,  5.88455889e-03,  4.37208870e-03,  8.20719171e-03,\n",
       "        6.94765477e-03,  1.13737769e-02,  1.26616312e-02,  1.82674341e-02,\n",
       "        7.74446642e-03,  3.70418211e-03,  4.79293009e-03,  6.66685635e-03,\n",
       "        8.37536715e-03,  1.23046665e-02,  1.59638003e-02,  8.18523392e-03,\n",
       "        2.14701728e-03,  9.67269670e-03,  3.54335713e-03, -4.34811285e-04,\n",
       "        6.04996039e-03,  3.89560987e-03,  6.68851566e-03,  7.53304735e-03,\n",
       "        2.04291800e-03,  8.89968220e-03,  8.33610445e-03,  1.09753162e-02,\n",
       "        5.21691749e-03,  7.86869973e-03,  5.00532333e-03, -5.09432098e-03,\n",
       "        3.17364093e-03,  2.82610185e-03,  9.53242555e-03,  4.37589159e-04,\n",
       "        4.97389957e-03, -3.98842013e-03,  1.25461584e-02,  5.54175070e-03,\n",
       "        7.19819823e-03,  1.82927982e-03,  2.54121190e-03, -6.50229771e-03,\n",
       "        6.69926056e-04,  3.03297280e-03,  6.12504501e-03,  9.09698196e-03,\n",
       "        1.60221029e-02,  5.40373987e-03,  9.89134423e-03,  1.22637004e-02,\n",
       "        1.15398562e-03,  1.11664943e-02,  6.54471759e-03, -9.83194076e-03,\n",
       "       -1.28683576e-03, -2.46504974e-03,  2.14734650e-03,  8.70507583e-03,\n",
       "        4.13645525e-03, -1.57956936e-04,  9.84764751e-03,  1.99315324e-03,\n",
       "        5.83341531e-03,  8.19988723e-04,  6.16129721e-03,  8.42971262e-03,\n",
       "       -1.53157616e-03,  5.72308293e-03,  3.92026594e-03,  2.97872210e-03,\n",
       "        4.88912640e-03,  1.04801515e-02,  1.00813638e-02,  3.94029263e-03,\n",
       "        1.49876287e-03,  6.68525603e-03,  2.73971190e-03, -1.93031883e-04,\n",
       "        2.50073918e-03, -2.24641780e-03,  4.88341833e-03,  1.50546199e-02,\n",
       "        5.32321772e-03,  5.24280360e-03,  1.68798328e-03,  7.20882788e-03,\n",
       "        3.37489392e-03,  6.96459087e-03, -3.90095776e-03,  4.91546409e-04,\n",
       "        2.06559547e-03,  3.38040991e-03, -8.13733437e-04,  6.61513582e-03,\n",
       "        1.18609890e-02,  1.02316821e-02,  9.34292190e-03, -3.23397666e-03,\n",
       "        1.04129026e-02,  9.66424681e-03,  4.23198799e-03,  3.02633527e-03,\n",
       "        7.70623656e-03,  1.05503350e-02,  8.47260654e-03,  7.21639721e-03,\n",
       "        9.26695019e-03, -3.36684356e-03,  1.07605774e-02,  5.06174052e-03,\n",
       "        6.14980562e-03,  8.92746670e-04,  1.33990012e-02,  1.26136160e-02,\n",
       "        1.36522949e-02, -2.82515772e-03,  1.59986075e-02, -2.52233027e-03,\n",
       "        7.92457350e-03,  5.47526125e-03, -2.14446802e-03,  4.20487439e-03,\n",
       "        8.61014891e-03,  6.92428136e-03, -7.83693758e-05, -2.80200853e-04,\n",
       "        1.78518530e-03,  5.12844510e-03, -1.36399089e-04, -8.33930972e-05,\n",
       "        1.24401902e-03,  1.03220772e-02,  6.73954701e-03,  1.18000610e-02,\n",
       "        9.29324236e-03,  6.78874133e-03,  3.63870640e-04,  1.26837275e-03,\n",
       "        1.08840107e-03,  7.12621678e-03,  7.55803473e-03,  4.86258557e-03,\n",
       "        4.87809815e-03,  4.77469899e-03,  1.06956502e-02,  4.18331241e-03,\n",
       "        5.65943029e-03,  1.36903304e-06, -1.90689275e-03,  4.86016367e-03,\n",
       "        8.53344891e-03,  3.68696614e-03,  9.78337973e-03,  6.82951231e-03,\n",
       "        1.21384216e-02, -1.68734929e-03,  4.08401247e-05,  8.93569924e-03,\n",
       "        1.26829534e-03,  6.60637440e-03,  1.38602150e-03,  9.92271584e-03,\n",
       "        8.82118195e-03,  2.98530562e-03,  7.51323719e-03,  1.24882057e-03,\n",
       "        9.91680194e-03,  5.94947487e-03,  2.18681456e-03,  3.88185668e-04,\n",
       "       -3.61786154e-03,  5.38649270e-03,  4.05930681e-03,  6.77829469e-03,\n",
       "        7.05457991e-03, -1.95132173e-03,  1.81426760e-03,  8.73734523e-03,\n",
       "        2.36762431e-03,  2.37606838e-03,  5.71606273e-04,  1.39031094e-02,\n",
       "       -1.24288059e-03,  7.09904870e-03,  1.05094928e-02, -1.44077581e-03,\n",
       "        1.07083460e-02,  6.46386575e-03, -2.17461493e-03,  1.23739932e-02,\n",
       "        5.42978710e-03,  3.49420618e-04,  6.70735212e-03,  3.67338071e-03,\n",
       "        6.83177728e-03,  6.81140600e-03,  4.33596363e-03,  4.04309668e-03,\n",
       "        4.11169138e-03,  7.57070957e-03, -2.88976263e-03,  8.01301189e-03,\n",
       "        3.35389108e-04,  6.87635131e-03,  9.50586796e-03, -4.73402347e-03,\n",
       "        3.54490499e-03,  2.54706969e-03,  1.17512150e-02, -1.15641090e-03,\n",
       "        3.94923845e-03,  8.93022306e-03,  4.42512380e-03,  9.34156589e-03,\n",
       "        2.93283910e-03,  7.11671775e-03,  3.27803078e-03,  6.10621367e-03,\n",
       "        3.71893402e-03,  5.59095024e-05,  4.76626679e-03,  9.00128763e-03,\n",
       "        2.51293462e-03,  3.62016633e-03,  8.56935419e-03,  2.02630833e-03,\n",
       "        4.65649925e-03,  2.63826689e-03,  6.77355472e-03, -4.57437430e-03,\n",
       "        3.72519810e-03,  3.89901805e-03,  5.61173353e-03,  1.36281189e-03,\n",
       "        1.04220184e-02,  4.25857579e-04,  8.40989116e-04,  9.27433278e-03,\n",
       "        4.06675925e-03,  1.45440893e-02,  4.87780990e-03,  1.03122685e-02,\n",
       "        1.53589137e-02,  2.34184647e-03, -3.74395261e-03,  2.68626469e-03,\n",
       "        9.47770011e-03, -1.73018523e-03,  1.10679101e-02,  5.95583297e-05,\n",
       "        1.02361292e-02,  9.21165012e-03,  1.20445632e-03,  5.29808039e-03,\n",
       "        8.81456118e-03,  1.28633622e-03,  6.11163164e-03,  8.60202592e-03,\n",
       "        1.28761921e-02,  1.21378398e-03,  6.49428507e-03,  1.17565943e-02,\n",
       "        8.65085050e-03,  5.55823604e-03, -6.71140477e-03,  9.43161082e-03,\n",
       "        3.19387810e-03,  5.67398174e-03,  8.20322079e-04,  9.32577625e-03,\n",
       "       -9.92890447e-04,  1.05331708e-02,  1.03738084e-02,  5.31386118e-03,\n",
       "        8.07600282e-03,  5.03574405e-03,  1.12443732e-03,  4.65053739e-03,\n",
       "        1.29713574e-02, -3.73505382e-03,  3.49409692e-03,  8.25991016e-03,\n",
       "       -4.25538514e-04,  2.57108500e-03,  1.06719257e-02,  9.93499416e-04,\n",
       "        1.53644243e-03, -1.42858084e-03,  6.09232346e-03, -3.00778006e-03,\n",
       "        2.04450684e-03,  1.20595992e-02,  3.03673348e-03,  1.20156910e-03,\n",
       "        8.62440281e-03,  9.46251955e-03,  4.69245901e-03,  1.66147742e-02,\n",
       "        1.18737342e-02,  2.55394494e-03, -2.45422730e-03,  6.93161797e-04,\n",
       "        1.54061094e-02,  3.77584505e-03,  1.07860742e-02, -4.22401167e-03,\n",
       "        5.96204912e-03,  1.05088213e-02,  2.49782414e-03,  1.48460141e-03,\n",
       "        7.46035576e-03,  4.40754974e-03,  4.90198052e-03,  8.80564004e-03,\n",
       "        3.75094218e-03,  8.59959517e-03,  4.19140002e-03,  2.00092630e-03,\n",
       "        1.07656438e-02,  2.60649109e-03,  4.29864181e-03,  2.87878118e-03,\n",
       "        8.79587699e-03,  7.56101171e-03,  2.08272319e-03,  1.08486856e-03,\n",
       "       -1.42552156e-03,  1.02357743e-02,  1.49127934e-03,  8.85753613e-03,\n",
       "        1.37156732e-02,  2.45816633e-03,  9.65654105e-03,  3.88394389e-03,\n",
       "       -1.14212483e-02,  3.63397808e-03,  7.40350736e-03,  6.17373735e-03,\n",
       "        7.17016542e-03,  3.67660425e-03,  8.20451323e-03,  6.24453695e-03,\n",
       "        1.29693956e-03,  1.38111447e-03,  5.62258018e-03,  6.21196255e-03,\n",
       "        1.27522917e-02,  4.81570978e-03,  2.71373685e-03, -3.81284533e-03,\n",
       "        4.51360503e-03,  4.78695706e-03,  8.37717298e-03,  1.30452449e-02,\n",
       "        2.71707564e-03,  1.43285969e-03,  9.45898797e-03,  5.26282378e-03,\n",
       "        2.11032806e-03,  4.33909183e-04,  7.02146848e-04,  1.06958523e-02,\n",
       "        5.96766034e-03, -8.69930629e-03,  7.84038007e-03,  1.01682087e-02,\n",
       "        8.42615496e-03,  5.49557526e-03,  9.01797879e-03,  6.26663445e-03,\n",
       "        2.50154291e-03,  1.92065130e-03,  8.82424705e-04,  7.97201507e-03,\n",
       "        4.10242425e-03,  8.78395804e-04,  6.45971391e-03,  2.88310717e-03,\n",
       "        3.89518263e-03,  3.36000975e-03,  2.98987725e-03, -2.30351393e-03,\n",
       "        5.98926237e-03,  1.27823558e-02,  5.66803105e-03,  1.09397266e-02,\n",
       "        3.78054287e-03,  5.99003897e-06,  9.53728158e-04,  1.49239292e-02,\n",
       "        6.05851412e-03,  7.98571482e-03,  1.39563484e-02,  1.72655564e-03,\n",
       "        2.01373547e-03,  2.90043210e-03,  2.37257150e-03,  8.05504154e-03,\n",
       "        6.15615165e-03, -4.27617785e-03,  9.81999096e-03,  3.11039970e-03,\n",
       "        4.66865441e-03,  3.55355535e-03,  1.01628369e-02,  2.22493801e-03,\n",
       "        4.92163561e-03,  2.45152554e-03,  2.15052278e-03,  6.59730425e-03,\n",
       "        4.75343456e-03,  3.54882260e-03,  5.68258483e-03,  1.26350010e-02,\n",
       "        3.75986472e-03,  5.55042317e-03,  7.68999243e-03,  4.99029504e-03,\n",
       "        2.66187591e-03,  7.69992266e-03,  1.64025545e-03,  7.34325778e-03,\n",
       "        4.67303675e-03,  4.85351169e-03,  7.10009923e-03,  4.85207746e-03,\n",
       "        1.40488828e-02,  2.71674711e-03,  1.53713394e-02,  8.56773835e-03,\n",
       "        2.33967369e-03,  1.17122103e-02, -1.29764620e-03,  9.80378501e-03,\n",
       "        1.03478422e-02,  2.76710861e-03,  5.33443922e-03,  8.07531737e-03,\n",
       "        3.52399936e-03,  1.20166242e-02, -1.63309288e-03,  9.63946059e-03,\n",
       "        4.60282154e-03,  2.32033874e-03,  5.45436051e-03, -6.36574114e-04,\n",
       "       -3.38991662e-03,  5.10930736e-03,  1.13173155e-02,  3.81714082e-03,\n",
       "        2.87499418e-03,  2.43648072e-03,  4.04671812e-03,  1.15391435e-02,\n",
       "        3.89080378e-03,  4.28981427e-03,  9.06396192e-03,  7.74840964e-03,\n",
       "        2.99426680e-03, -1.27754826e-03,  7.57846376e-03,  3.38178221e-03,\n",
       "        1.36505179e-02,  1.03065558e-02,  5.50724193e-03,  4.38501313e-03,\n",
       "       -6.99340133e-04,  3.29873268e-03,  5.71648404e-03,  5.21469442e-03,\n",
       "        8.37193336e-03,  1.22441724e-03, -7.80583825e-04,  7.79758021e-03,\n",
       "       -2.20226916e-03,  4.51754825e-03,  4.89054248e-03,  3.35436896e-03,\n",
       "        1.85055621e-02,  4.87031974e-03,  3.82907153e-03, -8.76015797e-03,\n",
       "       -6.69213105e-03,  8.96568818e-04,  1.70557562e-03,  4.38081427e-03,\n",
       "        6.24099793e-03,  9.79278609e-03,  3.84766958e-03, -2.08408758e-03,\n",
       "        3.57665168e-03,  1.06923794e-03, -4.64591169e-04, -3.85711156e-03,\n",
       "        1.13731958e-02,  9.70795099e-03,  1.14515806e-02,  5.69155719e-03,\n",
       "        1.66428613e-03,  5.32050803e-03,  2.48769508e-03,  9.30531789e-03,\n",
       "        2.82933516e-03,  1.16623677e-02,  1.09377448e-02,  6.73696212e-03,\n",
       "        8.91560875e-03,  3.91804287e-03, -2.37397253e-04,  2.21204245e-04,\n",
       "        6.94476627e-03, -1.28366670e-03, -1.74165377e-03,  2.27659126e-03,\n",
       "        8.85228161e-03,  5.29423682e-03,  9.34251398e-03,  2.33085640e-03,\n",
       "        1.24160163e-02,  4.63682227e-03,  8.25694948e-03,  1.42287454e-02,\n",
       "       -5.96214610e-04,  5.64958574e-03,  1.64905307e-03, -3.40148876e-03,\n",
       "        8.80495086e-03,  8.11910350e-03,  1.58727504e-02,  5.64466137e-03,\n",
       "        1.46517195e-02,  3.95986112e-03,  1.13301547e-02,  2.26475648e-03,\n",
       "        1.03759216e-02,  8.49845633e-03,  2.38850625e-04,  1.42556839e-02,\n",
       "        1.05218152e-02,  1.65329152e-03,  6.08686497e-03, -3.73986922e-03,\n",
       "       -7.70440418e-03,  1.42375415e-03,  1.00418814e-02,  8.18958040e-03,\n",
       "       -5.75093785e-03, -2.63026333e-03,  6.25129696e-03, -2.84036435e-03,\n",
       "        8.51563737e-03,  7.77407922e-03,  1.08372429e-02,  5.06997108e-03,\n",
       "        5.42763667e-03,  7.23806769e-03,  4.04693699e-03,  1.12216640e-03,\n",
       "        2.22265422e-02,  6.87435828e-03,  1.00556156e-02, -1.17843614e-04,\n",
       "        4.08650981e-03, -3.39424494e-03,  4.22978261e-03,  1.88107393e-03,\n",
       "        1.37772318e-02,  6.15948997e-03,  1.09323338e-02,  2.18463503e-03,\n",
       "        7.64452247e-03,  1.41896680e-02,  1.71462540e-02,  8.20270181e-03,\n",
       "        9.98680945e-04,  4.14030219e-04,  3.43183498e-03,  5.48561849e-03,\n",
       "        4.14097495e-03,  2.21507088e-03, -6.38756854e-03, -9.02123284e-03,\n",
       "        3.58024240e-03,  3.45875439e-03, -4.13199799e-04,  3.20303580e-03,\n",
       "       -6.73649367e-03, -1.13088824e-02,  3.43463919e-03,  6.36424124e-03,\n",
       "        4.50203614e-03,  2.06943532e-03,  5.92152448e-03, -9.11896490e-03,\n",
       "        6.49655284e-03,  7.23468023e-04,  1.72178373e-02,  1.55818928e-02,\n",
       "        8.25626217e-03,  6.59238687e-03, -1.79615279e-03,  5.10034896e-03,\n",
       "        1.00827506e-02,  4.42946004e-03,  3.51345679e-03,  9.02287196e-03,\n",
       "        1.09402714e-02,  7.54755503e-03,  4.66202153e-03,  9.61583667e-03,\n",
       "        5.40881592e-04,  1.00390986e-02,  7.12157041e-03, -7.35338021e-04,\n",
       "        2.85710627e-03,  7.45464955e-03,  4.55049332e-03,  1.19268917e-03,\n",
       "       -3.52739356e-03,  4.05315543e-03,  3.08752176e-03,  7.16207176e-03,\n",
       "        1.61765830e-03,  5.62722282e-03,  9.42047033e-03,  1.39575675e-02,\n",
       "        6.28563669e-03,  8.77553690e-03,  2.53866403e-03,  9.56177805e-03,\n",
       "        1.03245638e-02, -1.37722434e-03,  3.97943286e-03,  1.01333763e-02,\n",
       "       -1.58718356e-03,  7.71509577e-03, -1.07742276e-03,  9.85463150e-03,\n",
       "        5.40222181e-03,  1.03318423e-03,  6.56655116e-04,  4.55593131e-03,\n",
       "        8.23340472e-03,  9.94473789e-03,  1.18007446e-02,  1.15100108e-02,\n",
       "        7.43638584e-03,  4.91509819e-03,  6.07675684e-05,  8.94569384e-04,\n",
       "        9.70209762e-03,  1.24311782e-02, -6.01491844e-03, -7.39535596e-03,\n",
       "        3.00966925e-03, -3.13686498e-04, -3.32015660e-03,  2.08673737e-04,\n",
       "        6.76786713e-03,  8.63718987e-03,  6.57880586e-03, -6.69581001e-04,\n",
       "        6.81031309e-03, -6.96577074e-04,  1.05518838e-02, -2.22706073e-03,\n",
       "        5.97978418e-04,  9.81223676e-03,  8.95942375e-03,  2.78003258e-03,\n",
       "        9.59094241e-03, -1.62840716e-03,  4.93736705e-03,  8.14278331e-03,\n",
       "        1.02982232e-02, -6.58711360e-04,  1.96552579e-03,  3.47094168e-03,\n",
       "       -4.68965527e-03,  1.63341202e-02,  3.69490520e-03,  5.55781787e-03,\n",
       "        1.25520136e-02,  1.39994593e-02, -1.58919825e-03,  4.75191307e-04,\n",
       "        5.98069653e-03,  1.43822683e-02,  7.75838783e-03,  1.34040751e-02,\n",
       "        7.17100548e-03,  1.01622595e-02,  1.17651923e-02,  5.24234027e-03,\n",
       "        1.56064639e-02,  1.56386234e-02,  1.11208111e-02,  6.51316112e-03,\n",
       "       -4.42423997e-03, -3.57725541e-03,  3.89316352e-03,  3.12934257e-03,\n",
       "        2.77494336e-03,  5.90011757e-03, -9.64784413e-04,  7.91387353e-03,\n",
       "        4.76880046e-03,  8.67911428e-03, -5.26391901e-03,  3.97339091e-03,\n",
       "       -3.78955156e-03,  1.77047856e-03,  5.34764165e-03,  2.71716993e-03,\n",
       "        6.75440580e-03,  5.82486577e-03, -3.33945407e-03,  2.03902996e-03,\n",
       "        1.00474944e-02,  6.37980318e-03,  8.32725596e-03,  4.90879826e-03,\n",
       "       -2.25702272e-04,  6.71328185e-03,  1.09023098e-02, -2.11430155e-03,\n",
       "        4.98823309e-03,  1.25737758e-02,  1.57348197e-02,  1.11753398e-05,\n",
       "        8.35470669e-03,  1.06034148e-02,  1.01329675e-02,  1.94015820e-03,\n",
       "        5.70557499e-03,  1.01268971e-02,  1.06322505e-02,  1.19583961e-02,\n",
       "        5.15227905e-03,  7.26087578e-03, -1.08242244e-03,  8.02483689e-03,\n",
       "        1.10912053e-02,  8.42014235e-03,  4.27040365e-03,  1.83244469e-03,\n",
       "        8.67848098e-03, -3.25992052e-03, -8.60038563e-04, -2.79088691e-03,\n",
       "        1.31870937e-02, -1.95779651e-03,  5.17491670e-03,  8.49485630e-04,\n",
       "        9.10493080e-03, -2.66386382e-03, -7.00868387e-03,  9.97998938e-03,\n",
       "        7.12091429e-03, -4.84441454e-03,  9.71934944e-03,  6.95628766e-03],\n",
       "      dtype=float32)"
      ]
     },
     "execution_count": 41,
     "metadata": {},
     "output_type": "execute_result"
    }
   ],
   "source": [
    "Coyote_Ugly_vector"
   ]
  },
  {
   "cell_type": "code",
   "execution_count": 42,
   "id": "45577216",
   "metadata": {},
   "outputs": [
    {
     "data": {
      "text/plain": [
       "0.66732436"
      ]
     },
     "execution_count": 42,
     "metadata": {},
     "output_type": "execute_result"
    }
   ],
   "source": [
    "# hyumin과 Coyote_Ugly_vector를 내적하는 코드\n",
    "np.dot(hyumin_vector, Coyote_Ugly_vector)"
   ]
  },
  {
   "cell_type": "code",
   "execution_count": 45,
   "id": "79876cc7",
   "metadata": {},
   "outputs": [
    {
     "data": {
      "text/plain": [
       "0.013047494"
      ]
     },
     "execution_count": 45,
     "metadata": {},
     "output_type": "execute_result"
    }
   ],
   "source": [
    "american_beauty = movie_to_idx['American Beauty (1999)']\n",
    "american_beauty_vector = als_model.item_factors[american_beauty]\n",
    "np.dot(hyumin_vector, american_beauty_vector)"
   ]
  },
  {
   "cell_type": "markdown",
   "id": "bfe6179a",
   "metadata": {},
   "source": [
    "* 좋아하는 영화 리스트에 없었던 'American Beauty (1999)'의 수치가 리스트에 있었던 'Coyote Ugly (2000)'보다 훨씬 낮은 수치를 보여주고 있습니다. "
   ]
  },
  {
   "cell_type": "markdown",
   "id": "3a3be397",
   "metadata": {},
   "source": [
    "## 7) 내가 좋아하는 영화와 비슷한 영화를 추천받아 봅시다.\n",
    "---"
   ]
  },
  {
   "cell_type": "code",
   "execution_count": 46,
   "id": "e0b2561e",
   "metadata": {},
   "outputs": [
    {
     "data": {
      "text/plain": [
       "[(40, 0.9999999),\n",
       " (3589, 0.47162613),\n",
       " (3533, 0.46755034),\n",
       " (3494, 0.46725863),\n",
       " (3617, 0.46722808),\n",
       " (3495, 0.46701267),\n",
       " (3606, 0.46659806),\n",
       " (3624, 0.46646106),\n",
       " (3625, 0.46635637),\n",
       " (3587, 0.46625704),\n",
       " (3510, 0.46624494),\n",
       " (3288, 0.46622345),\n",
       " (3381, 0.4661898),\n",
       " (3563, 0.46611068),\n",
       " (3598, 0.46610278)]"
      ]
     },
     "execution_count": 46,
     "metadata": {},
     "output_type": "execute_result"
    }
   ],
   "source": [
    "favorite_movie = 'Toy Story (1995)'\n",
    "movie_id = movie_to_idx[favorite_movie]\n",
    "similar_movie = als_model.similar_items(movie_id, N=15)\n",
    "similar_movie"
   ]
  },
  {
   "cell_type": "code",
   "execution_count": 47,
   "id": "10d3a7b5",
   "metadata": {},
   "outputs": [
    {
     "data": {
      "text/plain": [
       "['Toy Story (1995)',\n",
       " 'Soft Toilet Seats (1999)',\n",
       " 'To Have, or Not (1995)',\n",
       " 'An Unforgettable Summer (1994)',\n",
       " 'Slappy and the Stinkers (1998)',\n",
       " 'Circus (2000)',\n",
       " 'Truce, The (1996)',\n",
       " 'Slaughterhouse (1987)',\n",
       " 'Promise, The (Versprechen, Das) (1994)',\n",
       " 'Shopping (1994)',\n",
       " 'Bittersweet Motel (2000)',\n",
       " 'Hatchet For the Honeymoon (Rosso Segno Della Follia) (1969)',\n",
       " 'Mascara (1999)',\n",
       " 'Better Living (1998)',\n",
       " 'Talk of Angels (1998)']"
      ]
     },
     "execution_count": 47,
     "metadata": {},
     "output_type": "execute_result"
    }
   ],
   "source": [
    "#movie_to_idx 를 뒤집어, index로부터 movie 이름을 얻는 dict를 생성합니다. \n",
    "idx_to_movie = {v:k for k,v in movie_to_idx.items()}\n",
    "[idx_to_movie[i[0]] for i in similar_movie]"
   ]
  },
  {
   "cell_type": "code",
   "execution_count": 48,
   "id": "c6de423e",
   "metadata": {},
   "outputs": [],
   "source": [
    "def get_similar_movie(movie_title: str):\n",
    "    movie_id = movie_to_idx[movie_title]\n",
    "    similar_movie = als_model.similar_items(movie_id, N=15)\n",
    "    similar_movie = [idx_to_movie[i[0]] for i in similar_movie]\n",
    "    return similar_movie"
   ]
  },
  {
   "cell_type": "code",
   "execution_count": 49,
   "id": "e2363561",
   "metadata": {},
   "outputs": [
    {
     "data": {
      "text/plain": [
       "['Toy Story (1995)',\n",
       " 'Soft Toilet Seats (1999)',\n",
       " 'To Have, or Not (1995)',\n",
       " 'An Unforgettable Summer (1994)',\n",
       " 'Slappy and the Stinkers (1998)',\n",
       " 'Circus (2000)',\n",
       " 'Truce, The (1996)',\n",
       " 'Slaughterhouse (1987)',\n",
       " 'Promise, The (Versprechen, Das) (1994)',\n",
       " 'Shopping (1994)',\n",
       " 'Bittersweet Motel (2000)',\n",
       " 'Hatchet For the Honeymoon (Rosso Segno Della Follia) (1969)',\n",
       " 'Mascara (1999)',\n",
       " 'Better Living (1998)',\n",
       " 'Talk of Angels (1998)']"
      ]
     },
     "execution_count": 49,
     "metadata": {},
     "output_type": "execute_result"
    }
   ],
   "source": [
    "get_similar_movie('Toy Story (1995)')"
   ]
  },
  {
   "cell_type": "code",
   "execution_count": 50,
   "id": "5471f1e8",
   "metadata": {},
   "outputs": [
    {
     "data": {
      "text/plain": [
       "['Jumanji (1995)',\n",
       " 'Dangerous Game (1993)',\n",
       " 'Zachariah (1971)',\n",
       " 'Five Wives, Three Secretaries and Me (1998)',\n",
       " 'Slappy and the Stinkers (1998)',\n",
       " 'Railroaded! (1947)',\n",
       " 'Yankee Zulu (1994)',\n",
       " 'Napoleon and Samantha (1972)',\n",
       " 'Second Jungle Book: Mowgli & Baloo, The (1997)',\n",
       " \"I Don't Want to Talk About It (De eso no se habla) (1993)\",\n",
       " 'Alley Cats, The (1968)',\n",
       " 'Daens (1992)',\n",
       " \"Another Man's Poison (1952)\",\n",
       " 'Theodore Rex (1995)',\n",
       " 'Last Klezmer: Leopold Kozlowski, His Life and Music, The (1995)']"
      ]
     },
     "execution_count": 50,
     "metadata": {},
     "output_type": "execute_result"
    }
   ],
   "source": [
    "get_similar_movie('Jumanji (1995)')"
   ]
  },
  {
   "cell_type": "markdown",
   "id": "3e495577",
   "metadata": {},
   "source": [
    "## 8) 내가 가장 좋아할 만한 영화들을 추천받아 봅시다.\n",
    "---"
   ]
  },
  {
   "cell_type": "code",
   "execution_count": 51,
   "id": "7cd39898",
   "metadata": {},
   "outputs": [
    {
     "data": {
      "text/plain": [
       "[(901, 0.12513724),\n",
       " (2294, 0.116403535),\n",
       " (1671, 0.115882844),\n",
       " (1039, 0.1070852),\n",
       " (1350, 0.10372733),\n",
       " (1414, 0.102476105),\n",
       " (792, 0.09929678),\n",
       " (418, 0.09890476),\n",
       " (1496, 0.09824666),\n",
       " (650, 0.09630306),\n",
       " (770, 0.09549129),\n",
       " (2603, 0.094955236),\n",
       " (1234, 0.09276271),\n",
       " (2413, 0.09239371),\n",
       " (427, 0.08941677),\n",
       " (615, 0.08713067),\n",
       " (486, 0.086784035),\n",
       " (1982, 0.085817754),\n",
       " (136, 0.085784554),\n",
       " (367, 0.08513732)]"
      ]
     },
     "execution_count": 51,
     "metadata": {},
     "output_type": "execute_result"
    }
   ],
   "source": [
    "user = user_to_idx['hyumin']\n",
    "# recommend에서는 user*item CSR Matrix를 받습니다.\n",
    "movie_recommended = als_model.recommend(user, csr_data, N=20, filter_already_liked_items=True)\n",
    "movie_recommended"
   ]
  },
  {
   "cell_type": "code",
   "execution_count": 52,
   "id": "faf90447",
   "metadata": {},
   "outputs": [
    {
     "data": {
      "text/plain": [
       "['Center Stage (2000)',\n",
       " 'Autumn in New York (2000)',\n",
       " 'Skulls, The (2000)',\n",
       " 'Fallen (1998)',\n",
       " 'Mansfield Park (1999)',\n",
       " 'Mildred Pierce (1945)',\n",
       " 'What Lies Beneath (2000)',\n",
       " 'What Dreams May Come (1998)',\n",
       " 'Peacemaker, The (1997)',\n",
       " 'Lethal Weapon 2 (1989)',\n",
       " 'Cliffhanger (1993)',\n",
       " 'Here on Earth (2000)',\n",
       " 'Dave (1993)',\n",
       " 'Duets (2000)',\n",
       " 'Interview with the Vampire (1994)',\n",
       " 'Cocoon (1985)',\n",
       " 'Remember the Titans (2000)',\n",
       " 'Space Jam (1996)',\n",
       " 'Desperado (1995)',\n",
       " 'Grease (1978)']"
      ]
     },
     "execution_count": 52,
     "metadata": {},
     "output_type": "execute_result"
    }
   ],
   "source": [
    "[idx_to_movie[i[0]] for i in movie_recommended]"
   ]
  },
  {
   "cell_type": "code",
   "execution_count": 64,
   "id": "03666fc3",
   "metadata": {},
   "outputs": [],
   "source": [
    "center_stage = movie_to_idx['Center Stage (2000)']\n",
    "explain = als_model.explain(user, csr_data, itemid=center_stage)"
   ]
  },
  {
   "cell_type": "code",
   "execution_count": 65,
   "id": "6565fb9f",
   "metadata": {
    "scrolled": true
   },
   "outputs": [
    {
     "data": {
      "text/plain": [
       "[('Coyote Ugly (2000)', 0.11670640831648568),\n",
       " ('City of Angels (1998)', 0.017563488839626537),\n",
       " ('Lethal Weapon (1987)', 0.015356136874840762),\n",
       " ('Toy Story (1995)', -0.006624606374916025),\n",
       " ('Jumanji (1995)', -0.016829316845973847)]"
      ]
     },
     "execution_count": 65,
     "metadata": {},
     "output_type": "execute_result"
    }
   ],
   "source": [
    "[(idx_to_movie[i[0]], i[1]) for i in explain[1]]"
   ]
  },
  {
   "cell_type": "markdown",
   "id": "5366e8e7",
   "metadata": {},
   "source": [
    "* Center Stage (2000)을 추천 해주는데 있어서 Coyote Ugly (2000)이 0.1의 수로 기여한 것으로 보입니다.\n",
    "* 언듯 보았을 때, 그닥 높은 기여도로 보이진 않습니다."
   ]
  },
  {
   "cell_type": "markdown",
   "id": "dfb7d203",
   "metadata": {},
   "source": [
    "* Netflix, Youtube, 티빙, 쿠팡플레이 등 여러 회사들이 사용자가 좋아하는 영상으로 추천시스템을 사용하여 좋아할만한 영상을 추천해주고 있다. 내가 좋아하는 영상을 5개 픽 했음에도 불구하고, 정확히 얼마나 영향을 미치고 있는지 그리고 정말 내가 추천해준 영화들을 좋아하는지는 굉장히 주관적이라고 생각된다. \n",
    "* AI 추천 모델임에도 불구하고 주관적인 요점이 영향을 미치는게 굉장히 매력적인 요소이고, 더욱 더 공부가 필요한 분야라고 생각된다."
   ]
  }
 ],
 "metadata": {
  "kernelspec": {
   "display_name": "Python 3 (ipykernel)",
   "language": "python",
   "name": "python3"
  },
  "language_info": {
   "codemirror_mode": {
    "name": "ipython",
    "version": 3
   },
   "file_extension": ".py",
   "mimetype": "text/x-python",
   "name": "python",
   "nbconvert_exporter": "python",
   "pygments_lexer": "ipython3",
   "version": "3.9.7"
  }
 },
 "nbformat": 4,
 "nbformat_minor": 5
}
