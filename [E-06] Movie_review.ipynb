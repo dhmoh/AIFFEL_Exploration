{
 "cells": [
  {
   "cell_type": "markdown",
   "id": "a667f0a2",
   "metadata": {},
   "source": [
    "# 6. 프로젝트 : 네이버 영화리뷰 감성분석 도전하기\n",
    "\n",
    "\n",
    "## 목차\n",
    "\n",
    "> <p style=\"font-size:17px\">5.1 데이터 다운로드</p>\n",
    "  <p style=\"font-size:17px\">5.2 데이터 읽어오기</p> \n",
    "  <p style=\"font-size:17px\">5.3 데이터 정제</p>\n",
    "  <p style=\"font-size:17px\">5.4 평가 데이터셋 분리</p>\n",
    "  <p style=\"font-size:17px\">5.5 인공지능 만들기</p>\n",
    "\n",
    "\n",
    "## 루브릭 (프로젝트 평가 기준)\n",
    "\n",
    "> |<p style=\"font-size:15px\"> 평가문항 </p>                                |<p style=\"font-size:15px\"> 상세기준 </p>        |\n",
    "  |------------------------------------------------------------------------|------------------------------------------------|\n",
    "  | 1. 다양한 방법으로 Text Classification 태스크를 성공적으로 구현하였다. |3가지 이상의 모델이 성공적으로 시도됨           |\n",
    "  | 2. gensim을 활용하여 자체학습된 혹은 사전학습된 임베딩 레이어를 분석하였다. |gensim의 유사단어 찾기를 활용하여 자체학습한 임베딩과 사전학습 임베딩을 적절히 분석함|\n",
    "  | 3. 한국어 Word2Vec을 활용하여 가시적인 성능향상을 달성했다.            |네이버 영화리뷰 데이터 감성분석 정확도를 85% 이상 달성함|"
   ]
  },
  {
   "cell_type": "markdown",
   "id": "3d2d97a0",
   "metadata": {},
   "source": [
    "## 1) 데이터 준비와 확인"
   ]
  },
  {
   "cell_type": "code",
   "execution_count": 1,
   "id": "3fef96db",
   "metadata": {},
   "outputs": [
    {
     "data": {
      "text/html": [
       "<div>\n",
       "<style scoped>\n",
       "    .dataframe tbody tr th:only-of-type {\n",
       "        vertical-align: middle;\n",
       "    }\n",
       "\n",
       "    .dataframe tbody tr th {\n",
       "        vertical-align: top;\n",
       "    }\n",
       "\n",
       "    .dataframe thead th {\n",
       "        text-align: right;\n",
       "    }\n",
       "</style>\n",
       "<table border=\"1\" class=\"dataframe\">\n",
       "  <thead>\n",
       "    <tr style=\"text-align: right;\">\n",
       "      <th></th>\n",
       "      <th>id</th>\n",
       "      <th>document</th>\n",
       "      <th>label</th>\n",
       "    </tr>\n",
       "  </thead>\n",
       "  <tbody>\n",
       "    <tr>\n",
       "      <th>0</th>\n",
       "      <td>9976970</td>\n",
       "      <td>아 더빙.. 진짜 짜증나네요 목소리</td>\n",
       "      <td>0</td>\n",
       "    </tr>\n",
       "    <tr>\n",
       "      <th>1</th>\n",
       "      <td>3819312</td>\n",
       "      <td>흠...포스터보고 초딩영화줄....오버연기조차 가볍지 않구나</td>\n",
       "      <td>1</td>\n",
       "    </tr>\n",
       "    <tr>\n",
       "      <th>2</th>\n",
       "      <td>10265843</td>\n",
       "      <td>너무재밓었다그래서보는것을추천한다</td>\n",
       "      <td>0</td>\n",
       "    </tr>\n",
       "    <tr>\n",
       "      <th>3</th>\n",
       "      <td>9045019</td>\n",
       "      <td>교도소 이야기구먼 ..솔직히 재미는 없다..평점 조정</td>\n",
       "      <td>0</td>\n",
       "    </tr>\n",
       "    <tr>\n",
       "      <th>4</th>\n",
       "      <td>6483659</td>\n",
       "      <td>사이몬페그의 익살스런 연기가 돋보였던 영화!스파이더맨에서 늙어보이기만 했던 커스틴 ...</td>\n",
       "      <td>1</td>\n",
       "    </tr>\n",
       "  </tbody>\n",
       "</table>\n",
       "</div>"
      ],
      "text/plain": [
       "         id                                           document  label\n",
       "0   9976970                                아 더빙.. 진짜 짜증나네요 목소리      0\n",
       "1   3819312                  흠...포스터보고 초딩영화줄....오버연기조차 가볍지 않구나      1\n",
       "2  10265843                                  너무재밓었다그래서보는것을추천한다      0\n",
       "3   9045019                      교도소 이야기구먼 ..솔직히 재미는 없다..평점 조정      0\n",
       "4   6483659  사이몬페그의 익살스런 연기가 돋보였던 영화!스파이더맨에서 늙어보이기만 했던 커스틴 ...      1"
      ]
     },
     "execution_count": 1,
     "metadata": {},
     "output_type": "execute_result"
    }
   ],
   "source": [
    "import pandas as pd\n",
    "import urllib.request\n",
    "%matplotlib inline\n",
    "import matplotlib.pyplot as plt\n",
    "import re\n",
    "from konlpy.tag import Okt\n",
    "from tensorflow import keras\n",
    "from tensorflow.keras.preprocessing.text import Tokenizer\n",
    "import numpy as np\n",
    "from tensorflow.keras.preprocessing.sequence import pad_sequences\n",
    "from collections import Counter\n",
    "from konlpy.tag import Mecab\n",
    "\n",
    "# data 읽어오기\n",
    "train_data = pd.read_table('~/aiffel/sentiment_classification/data/ratings_train.txt')\n",
    "test_data = pd.read_table('~/aiffel/sentiment_classification/data/ratings_test.txt')\n",
    "\n",
    "train_data.head()"
   ]
  },
  {
   "cell_type": "markdown",
   "id": "c4088112",
   "metadata": {},
   "source": [
    "## 2) 데이터로더 구성"
   ]
  },
  {
   "cell_type": "code",
   "execution_count": 2,
   "id": "f06e30c5",
   "metadata": {},
   "outputs": [
    {
     "name": "stderr",
     "output_type": "stream",
     "text": [
      "/tmp/ipykernel_1497/1419305838.py:10: FutureWarning: The default value of regex will change from True to False in a future version.\n",
      "  train_data['document'] = train_data['document'].str.replace(\"[^ㄱ-ㅎㅏ-ㅣ가-힣 ]\",\"\")\n",
      "/tmp/ipykernel_1497/1419305838.py:17: FutureWarning: The default value of regex will change from True to False in a future version.\n",
      "  test_data['document'] = test_data['document'].str.replace(\"[^ㄱ-ㅎㅏ-ㅣ가-힣 ]\",\"\")\n"
     ]
    },
    {
     "name": "stdout",
     "output_type": "stream",
     "text": [
      "train data 개수: 145791, test data 개수: 48995\n"
     ]
    }
   ],
   "source": [
    "tokenizer = Mecab()\n",
    "stopwords = ['의','가','이','은','들','는','좀','잘','걍','과','도','를','으로','자','에','와','한','하다']\n",
    "# stopwords: 불용어\n",
    "\n",
    "# Data loader 함수\n",
    "def load_data(train_data, test_data, num_words=10000):\n",
    "    # train data 전처리\n",
    "    # 중복, 특수문자 제거, 공백을 NULL로 변경, 결측치 제거\n",
    "    train_data.drop_duplicates(subset=['document'], inplace=True)\n",
    "    train_data['document'] = train_data['document'].str.replace(\"[^ㄱ-ㅎㅏ-ㅣ가-힣 ]\",\"\")\n",
    "    train_data['document'].replace('', np.nan, inplace=True)\n",
    "    train_data = train_data.dropna(how = 'any')\n",
    "\n",
    "    # test data 전처리\n",
    "    # 중복, 특수문자 제거, 공백을 NULL로 변경, 결측치 제거\n",
    "    test_data.drop_duplicates(subset=['document'], inplace=True)\n",
    "    test_data['document'] = test_data['document'].str.replace(\"[^ㄱ-ㅎㅏ-ㅣ가-힣 ]\",\"\")\n",
    "    test_data['document'].replace('', np.nan, inplace=True)\n",
    "    test_data = test_data.dropna(how = 'any')\n",
    "\n",
    "    X_train = []\n",
    "    for sentence in train_data['document']:\n",
    "        temp_X = tokenizer.morphs(sentence) # 토큰화\n",
    "        temp_X = [word for word in temp_X if not word in stopwords] # 불용어 삭제\n",
    "        X_train.append(temp_X)\n",
    "\n",
    "    X_test = []\n",
    "    for sentence in test_data['document']:\n",
    "        temp_X = tokenizer.morphs(sentence) #토큰화\n",
    "        temp_X = [word for word in temp_X if not word in stopwords] #불용어 삭제\n",
    "        X_test.append(temp_X)\n",
    "    \n",
    "    # 단어 사전\n",
    "    words = np.concatenate(X_train).tolist()\n",
    "    counter = Counter(words)\n",
    "    counter = counter.most_common(10000-4)\n",
    "    vocab = ['<PAD>', '<BOS>', '<UNK>', '<UNUSED>'] + [key for key, _ in counter]\n",
    "    word_to_index = {word:index for index, word in enumerate(vocab)}\n",
    "    \n",
    "    # 텍스트를 단어 사전 인덱스로 변환하는 함수\n",
    "    def wordlist_to_indexlist(wordlist):\n",
    "        return [word_to_index[word] if word in word_to_index else word_to_index['<UNK>'] for word in wordlist]\n",
    "    \n",
    "    X_train = list(map(wordlist_to_indexlist, X_train))\n",
    "    X_test = list(map(wordlist_to_indexlist, X_test))\n",
    "\n",
    "    return X_train, np.array(list(train_data['label'])), X_test, np.array(list(test_data['label'])), word_to_index\n",
    "\n",
    "X_train, y_train, X_test, y_test, word_to_index = load_data(train_data, test_data)\n",
    "print(\"train data 개수: {}, test data 개수: {}\".format(len(X_train), len(X_test)))\n",
    "\n"
   ]
  },
  {
   "cell_type": "code",
   "execution_count": 3,
   "id": "d7d9001d",
   "metadata": {},
   "outputs": [],
   "source": [
    "# 사전 딕셔너리 생성\n",
    "index_to_word = {index:word for word, index in word_to_index.items()}"
   ]
  },
  {
   "cell_type": "code",
   "execution_count": 4,
   "id": "22b778ca",
   "metadata": {},
   "outputs": [],
   "source": [
    "# 문장 1개를 활용할 딕셔너리와 함께 주면, 단어 인덱스 리스트 벡터로 변환해 주는 함수입니다. \n",
    "# 단, 모든 문장은 <BOS>로 시작하는 것으로 합니다. \n",
    "def get_encoded_sentence(sentence, word_to_index):\n",
    "    return [word_to_index['<BOS>']]+[word_to_index[word] if word in word_to_index else word_to_index['<UNK>'] for word in sentence.split()]\n",
    "\n",
    "# 여러 개의 문장 리스트를 한꺼번에 단어 인덱스 리스트 벡터로 encode해 주는 함수입니다. \n",
    "def get_encoded_sentences(sentences, word_to_index):\n",
    "    return [get_encoded_sentence(sentence, word_to_index) for sentence in sentences]\n",
    "\n",
    "# 숫자 벡터로 encode된 문장을 원래대로 decode하는 함수입니다. \n",
    "def get_decoded_sentence(encoded_sentence, index_to_word):\n",
    "    return ' '.join(index_to_word[index] if index in index_to_word else '<UNK>' for index in encoded_sentence[1:])  #[1:]를 통해 <BOS>를 제외\n",
    "\n",
    "# 여러 개의 숫자 벡터로 encode된 문장을 한꺼번에 원래대로 decode하는 함수입니다. \n",
    "def get_decoded_sentences(encoded_sentences, index_to_word):\n",
    "    return [get_decoded_sentence(encoded_sentence, index_to_word) for encoded_sentence in encoded_sentences]"
   ]
  },
  {
   "cell_type": "markdown",
   "id": "27554150",
   "metadata": {},
   "source": [
    "## 3) 모델 구성을 위한 데이터 분석 및 가공"
   ]
  },
  {
   "cell_type": "code",
   "execution_count": 5,
   "id": "a6cbc58c",
   "metadata": {},
   "outputs": [
    {
     "name": "stdout",
     "output_type": "stream",
     "text": [
      "문장 길이 평균     :  13.757179674103888\n",
      "문장 길이 최대     :  83\n",
      "문장 길이 표준편차 :  11.462771769216866\n",
      "pad_sequences maxlen :  36\n",
      "전체 문장의 93.38145451931864%가 maxlen 설정값 이내에 포함\n"
     ]
    }
   ],
   "source": [
    "total_data_text = list(X_train) + list(X_test)\n",
    "\n",
    "# 텍스트데이터 문장길이의 리스트를 생성한 후\n",
    "num_tokens = [len(tokens) for tokens in total_data_text]\n",
    "num_tokens = np.array(num_tokens)\n",
    "\n",
    "# 문장길이의 평균값, 최대값, 표준편차를 계산해 본다. \n",
    "print('문장 길이 평균     : ', np.mean(num_tokens))\n",
    "print('문장 길이 최대     : ', np.max(num_tokens))\n",
    "print('문장 길이 표준편차 : ', np.std(num_tokens))\n",
    "\n",
    "# 예를들어, 최대 길이를 (평균 + 2*표준편차)로 한다면,  \n",
    "max_tokens = np.mean(num_tokens) + 2*np.std(num_tokens)\n",
    "maxlen = int(max_tokens)\n",
    "print('pad_sequences maxlen : ', maxlen)\n",
    "print('전체 문장의 {}%가 maxlen 설정값 이내에 포함'.format(np.sum(num_tokens < max_tokens) / len(num_tokens) *100))"
   ]
  },
  {
   "cell_type": "code",
   "execution_count": 6,
   "id": "0398dc18",
   "metadata": {},
   "outputs": [
    {
     "name": "stdout",
     "output_type": "stream",
     "text": [
      "(145791, 36)\n"
     ]
    }
   ],
   "source": [
    "X_train = keras.preprocessing.sequence.pad_sequences(X_train,\n",
    "                                       value=word_to_index[\"<PAD>\"],\n",
    "                                       padding='post',\n",
    "                                       maxlen=maxlen)\n",
    "\n",
    "X_test = keras.preprocessing.sequence.pad_sequences(X_test,\n",
    "                                       value=word_to_index[\"<PAD>\"],\n",
    "                                       padding='post',\n",
    "                                       maxlen=maxlen)\n",
    "\n",
    "print(X_train.shape)"
   ]
  },
  {
   "cell_type": "code",
   "execution_count": 7,
   "id": "5c9864c5",
   "metadata": {},
   "outputs": [
    {
     "name": "stdout",
     "output_type": "stream",
     "text": [
      "(102044, 36)\n",
      "(43747, 36)\n",
      "(102044,)\n",
      "(43747,)\n"
     ]
    }
   ],
   "source": [
    "# validation set 43747건 분리\n",
    "x_val = X_train[:43747]   \n",
    "y_val = y_train[:43747]\n",
    "\n",
    "# validation set을 제외한 나머지 102044건\n",
    "partial_x_train = X_train[43747:]  \n",
    "partial_y_train = y_train[43747:]\n",
    "\n",
    "print(partial_x_train.shape)\n",
    "print(x_val.shape)\n",
    "print(partial_y_train.shape)\n",
    "print(y_val.shape)"
   ]
  },
  {
   "cell_type": "code",
   "execution_count": 8,
   "id": "d812d095",
   "metadata": {},
   "outputs": [
    {
     "name": "stdout",
     "output_type": "stream",
     "text": [
      "Model: \"sequential\"\n",
      "_________________________________________________________________\n",
      "Layer (type)                 Output Shape              Param #   \n",
      "=================================================================\n",
      "embedding (Embedding)        (None, None, 16)          160000    \n",
      "_________________________________________________________________\n",
      "lstm (LSTM)                  (None, 8)                 800       \n",
      "_________________________________________________________________\n",
      "dense (Dense)                (None, 8)                 72        \n",
      "_________________________________________________________________\n",
      "dense_1 (Dense)              (None, 1)                 9         \n",
      "=================================================================\n",
      "Total params: 160,881\n",
      "Trainable params: 160,881\n",
      "Non-trainable params: 0\n",
      "_________________________________________________________________\n"
     ]
    }
   ],
   "source": [
    "vocab_size = 10000    # 어휘 사전의 크기입니다(10,000개의 단어)\n",
    "word_vector_dim = 16  # 워드 벡터의 차원 수 (변경 가능한 하이퍼파라미터)\n",
    "\n",
    "# model 설계 - 딥러닝 모델 코드를 직접 작성해 주세요.\n",
    "model_rnn = keras.Sequential()\n",
    "model_rnn.add(keras.layers.Embedding(vocab_size, word_vector_dim, input_shape=(None,)))\n",
    "model_rnn.add(keras.layers.LSTM(8))   # 가장 널리 쓰이는 RNN인 LSTM 레이어를 사용하였습니다. 이때 LSTM state 벡터의 차원수는 8로 하였습니다. (변경 가능)\n",
    "model_rnn.add(keras.layers.Dense(8, activation='relu'))\n",
    "model_rnn.add(keras.layers.Dense(1, activation='sigmoid'))  # 최종 출력은 긍정/부정을 나타내는 1dim 입니다.\n",
    "\n",
    "model_rnn.summary()"
   ]
  },
  {
   "cell_type": "code",
   "execution_count": 9,
   "id": "f2300359",
   "metadata": {},
   "outputs": [
    {
     "name": "stdout",
     "output_type": "stream",
     "text": [
      "Epoch 1/20\n",
      "200/200 [==============================] - 5s 8ms/step - loss: 0.5616 - accuracy: 0.7022 - val_loss: 0.4058 - val_accuracy: 0.8275\n",
      "Epoch 2/20\n",
      "200/200 [==============================] - 1s 6ms/step - loss: 0.3642 - accuracy: 0.8450 - val_loss: 0.3633 - val_accuracy: 0.8402\n",
      "Epoch 3/20\n",
      "200/200 [==============================] - 1s 6ms/step - loss: 0.3337 - accuracy: 0.8590 - val_loss: 0.3665 - val_accuracy: 0.8366\n",
      "Epoch 4/20\n",
      "200/200 [==============================] - 1s 6ms/step - loss: 0.3190 - accuracy: 0.8661 - val_loss: 0.3635 - val_accuracy: 0.8392\n",
      "Epoch 5/20\n",
      "200/200 [==============================] - 1s 6ms/step - loss: 0.3114 - accuracy: 0.8699 - val_loss: 0.3739 - val_accuracy: 0.8394\n",
      "Epoch 6/20\n",
      "200/200 [==============================] - 1s 6ms/step - loss: 0.3036 - accuracy: 0.8727 - val_loss: 0.3680 - val_accuracy: 0.8392\n",
      "Epoch 7/20\n",
      "200/200 [==============================] - 1s 6ms/step - loss: 0.2962 - accuracy: 0.8760 - val_loss: 0.3804 - val_accuracy: 0.8350\n",
      "Epoch 8/20\n",
      "200/200 [==============================] - 1s 6ms/step - loss: 0.2900 - accuracy: 0.8784 - val_loss: 0.3751 - val_accuracy: 0.8373\n",
      "Epoch 9/20\n",
      "200/200 [==============================] - 1s 6ms/step - loss: 0.2794 - accuracy: 0.8835 - val_loss: 0.3795 - val_accuracy: 0.8333\n",
      "Epoch 10/20\n",
      "200/200 [==============================] - 1s 6ms/step - loss: 0.2691 - accuracy: 0.8875 - val_loss: 0.3866 - val_accuracy: 0.8368\n",
      "Epoch 11/20\n",
      "200/200 [==============================] - 1s 6ms/step - loss: 0.2594 - accuracy: 0.8924 - val_loss: 0.4013 - val_accuracy: 0.8360\n",
      "Epoch 12/20\n",
      "200/200 [==============================] - 1s 6ms/step - loss: 0.2483 - accuracy: 0.8969 - val_loss: 0.4167 - val_accuracy: 0.8358\n",
      "Epoch 13/20\n",
      "200/200 [==============================] - 1s 6ms/step - loss: 0.2364 - accuracy: 0.9033 - val_loss: 0.4273 - val_accuracy: 0.8327\n",
      "Epoch 14/20\n",
      "200/200 [==============================] - 1s 6ms/step - loss: 0.2250 - accuracy: 0.9099 - val_loss: 0.4366 - val_accuracy: 0.8282\n",
      "Epoch 15/20\n",
      "200/200 [==============================] - 1s 6ms/step - loss: 0.2166 - accuracy: 0.9142 - val_loss: 0.4551 - val_accuracy: 0.8307\n",
      "Epoch 16/20\n",
      "200/200 [==============================] - 1s 6ms/step - loss: 0.2073 - accuracy: 0.9189 - val_loss: 0.5070 - val_accuracy: 0.8263\n",
      "Epoch 17/20\n",
      "200/200 [==============================] - 1s 6ms/step - loss: 0.1982 - accuracy: 0.9235 - val_loss: 0.4701 - val_accuracy: 0.8276\n",
      "Epoch 18/20\n",
      "200/200 [==============================] - 1s 5ms/step - loss: 0.1928 - accuracy: 0.9250 - val_loss: 0.5073 - val_accuracy: 0.8306\n",
      "Epoch 19/20\n",
      "200/200 [==============================] - 1s 5ms/step - loss: 0.1837 - accuracy: 0.9307 - val_loss: 0.5060 - val_accuracy: 0.8293\n",
      "Epoch 20/20\n",
      "200/200 [==============================] - 1s 5ms/step - loss: 0.1761 - accuracy: 0.9348 - val_loss: 0.5457 - val_accuracy: 0.8271\n"
     ]
    }
   ],
   "source": [
    "model_rnn.compile(optimizer='adam',\n",
    "              loss='binary_crossentropy',\n",
    "              metrics=['accuracy'])\n",
    "              \n",
    "epochs=20  # 몇 epoch를 훈련하면 좋을지 결과를 보면서 바꾸어 봅시다. \n",
    "\n",
    "history_rnn = model_rnn.fit(partial_x_train,\n",
    "                    partial_y_train,\n",
    "                    epochs=epochs,\n",
    "                    batch_size=512,\n",
    "                    validation_data=(x_val, y_val),\n",
    "                    verbose=1)"
   ]
  },
  {
   "cell_type": "code",
   "execution_count": 10,
   "id": "9a9be164",
   "metadata": {},
   "outputs": [
    {
     "name": "stdout",
     "output_type": "stream",
     "text": [
      "1532/1532 - 3s - loss: 0.5505 - accuracy: 0.8227\n",
      "[0.5504716038703918, 0.8226757645606995]\n"
     ]
    }
   ],
   "source": [
    "results = model_rnn.evaluate(X_test,  y_test, verbose=2)\n",
    "\n",
    "print(results)"
   ]
  },
  {
   "cell_type": "code",
   "execution_count": 11,
   "id": "56ebff02",
   "metadata": {},
   "outputs": [
    {
     "name": "stdout",
     "output_type": "stream",
     "text": [
      "dict_keys(['loss', 'accuracy', 'val_loss', 'val_accuracy'])\n"
     ]
    }
   ],
   "source": [
    "history_rnn_dict = history_rnn.history\n",
    "print(history_rnn_dict.keys()) # epoch에 따른 그래프를 그려볼 수 있는 항목들"
   ]
  },
  {
   "cell_type": "code",
   "execution_count": 12,
   "id": "154ddd36",
   "metadata": {},
   "outputs": [
    {
     "data": {
      "image/png": "[encoded data removed]",
      "text/plain": [
       "<Figure size 1080x360 with 2 Axes>"
      ]
     },
     "metadata": {
      "needs_background": "light"
     },
     "output_type": "display_data"
    }
   ],
   "source": [
    "import matplotlib.pyplot as plt\n",
    "\n",
    "acc = history_rnn_dict['accuracy']\n",
    "val_acc = history_rnn_dict['val_accuracy']\n",
    "loss = history_rnn_dict['loss']\n",
    "val_loss = history_rnn_dict['val_loss']\n",
    "\n",
    "epochs = range(1, len(acc) + 1)\n",
    "\n",
    "\n",
    "plt.figure(figsize=(15, 5))\n",
    "plt.subplot(1, 2, 1)\n",
    "plt.plot(epochs, acc, 'bo', label='accuracy')\n",
    "plt.plot(epochs, val_acc, 'red', label='validation accuracy')\n",
    "plt.title('accuracy')\n",
    "plt.xlabel('Epochs')\n",
    "plt.ylabel('accuracy')\n",
    "plt.legend()\n",
    "\n",
    "plt.subplot(1, 2, 2)\n",
    "plt.plot(epochs, loss, 'bo', label='accuracy')\n",
    "plt.plot(epochs, val_loss, 'red', label='validation loss')\n",
    "plt.title('loss')\n",
    "plt.xlabel('Epochs')\n",
    "plt.ylabel('loss')\n",
    "plt.legend()\n",
    "\n",
    "plt.show()"
   ]
  },
  {
   "cell_type": "code",
   "execution_count": 13,
   "id": "01954018",
   "metadata": {},
   "outputs": [
    {
     "name": "stdout",
     "output_type": "stream",
     "text": [
      "Model: \"sequential_1\"\n",
      "_________________________________________________________________\n",
      "Layer (type)                 Output Shape              Param #   \n",
      "=================================================================\n",
      "embedding_1 (Embedding)      (None, None, 16)          160000    \n",
      "_________________________________________________________________\n",
      "conv1d (Conv1D)              (None, None, 16)          784       \n",
      "_________________________________________________________________\n",
      "max_pooling1d (MaxPooling1D) (None, None, 16)          0         \n",
      "_________________________________________________________________\n",
      "conv1d_1 (Conv1D)            (None, None, 16)          784       \n",
      "_________________________________________________________________\n",
      "global_max_pooling1d (Global (None, 16)                0         \n",
      "_________________________________________________________________\n",
      "dense_2 (Dense)              (None, 8)                 136       \n",
      "_________________________________________________________________\n",
      "dense_3 (Dense)              (None, 1)                 9         \n",
      "=================================================================\n",
      "Total params: 161,713\n",
      "Trainable params: 161,713\n",
      "Non-trainable params: 0\n",
      "_________________________________________________________________\n"
     ]
    }
   ],
   "source": [
    "\n",
    "vocab_size = 10000    # 어휘 사전의 크기입니다(10,000개의 단어)\n",
    "word_vector_dim = 16  # 워드 벡터의 차원 수 \n",
    "\n",
    "# 모델 구성\n",
    "model_1dcnn = keras.Sequential()\n",
    "model_1dcnn.add(keras.layers.Embedding(vocab_size, \n",
    "                                 word_vector_dim, \n",
    "                                 input_shape=(None,)))\n",
    "model_1dcnn.add(keras.layers.Conv1D(16, 3, activation='relu'))\n",
    "model_1dcnn.add(keras.layers.MaxPooling1D(5))\n",
    "model_1dcnn.add(keras.layers.Conv1D(16, 3, activation='relu'))\n",
    "model_1dcnn.add(keras.layers.GlobalMaxPooling1D())\n",
    "model_1dcnn.add(keras.layers.Dense(8, activation='relu'))\n",
    "model_1dcnn.add(keras.layers.Dense(1, activation='sigmoid')) \n",
    "\n",
    "model_1dcnn.summary()"
   ]
  },
  {
   "cell_type": "code",
   "execution_count": 14,
   "id": "dc6265f2",
   "metadata": {},
   "outputs": [
    {
     "name": "stdout",
     "output_type": "stream",
     "text": [
      "Epoch 1/20\n",
      "200/200 [==============================] - 3s 6ms/step - loss: 0.5255 - accuracy: 0.7517 - val_loss: 0.3737 - val_accuracy: 0.8349\n",
      "Epoch 2/20\n",
      "200/200 [==============================] - 1s 5ms/step - loss: 0.3460 - accuracy: 0.8505 - val_loss: 0.3567 - val_accuracy: 0.8429\n",
      "Epoch 3/20\n",
      "200/200 [==============================] - 1s 5ms/step - loss: 0.3096 - accuracy: 0.8691 - val_loss: 0.3620 - val_accuracy: 0.8432\n",
      "Epoch 4/20\n",
      "200/200 [==============================] - 1s 5ms/step - loss: 0.2838 - accuracy: 0.8829 - val_loss: 0.3688 - val_accuracy: 0.8409\n",
      "Epoch 5/20\n",
      "200/200 [==============================] - 1s 5ms/step - loss: 0.2599 - accuracy: 0.8956 - val_loss: 0.3784 - val_accuracy: 0.8397\n",
      "Epoch 6/20\n",
      "200/200 [==============================] - 1s 5ms/step - loss: 0.2346 - accuracy: 0.9075 - val_loss: 0.3937 - val_accuracy: 0.8371\n",
      "Epoch 7/20\n",
      "200/200 [==============================] - 1s 5ms/step - loss: 0.2094 - accuracy: 0.9204 - val_loss: 0.4151 - val_accuracy: 0.8350\n",
      "Epoch 8/20\n",
      "200/200 [==============================] - 1s 5ms/step - loss: 0.1834 - accuracy: 0.9326 - val_loss: 0.4446 - val_accuracy: 0.8338\n",
      "Epoch 9/20\n",
      "200/200 [==============================] - 1s 5ms/step - loss: 0.1587 - accuracy: 0.9441 - val_loss: 0.4739 - val_accuracy: 0.8312\n",
      "Epoch 10/20\n",
      "200/200 [==============================] - 1s 5ms/step - loss: 0.1378 - accuracy: 0.9531 - val_loss: 0.5090 - val_accuracy: 0.8275\n",
      "Epoch 11/20\n",
      "200/200 [==============================] - 1s 5ms/step - loss: 0.1197 - accuracy: 0.9607 - val_loss: 0.5582 - val_accuracy: 0.8253\n",
      "Epoch 12/20\n",
      "200/200 [==============================] - 1s 5ms/step - loss: 0.1044 - accuracy: 0.9668 - val_loss: 0.5981 - val_accuracy: 0.8209\n",
      "Epoch 13/20\n",
      "200/200 [==============================] - 1s 5ms/step - loss: 0.0913 - accuracy: 0.9717 - val_loss: 0.6402 - val_accuracy: 0.8193\n",
      "Epoch 14/20\n",
      "200/200 [==============================] - 1s 5ms/step - loss: 0.0812 - accuracy: 0.9754 - val_loss: 0.6814 - val_accuracy: 0.8173\n",
      "Epoch 15/20\n",
      "200/200 [==============================] - 1s 5ms/step - loss: 0.0733 - accuracy: 0.9779 - val_loss: 0.7185 - val_accuracy: 0.8140\n",
      "Epoch 16/20\n",
      "200/200 [==============================] - 1s 5ms/step - loss: 0.0667 - accuracy: 0.9802 - val_loss: 0.7664 - val_accuracy: 0.8150\n",
      "Epoch 17/20\n",
      "200/200 [==============================] - 1s 5ms/step - loss: 0.0598 - accuracy: 0.9824 - val_loss: 0.8080 - val_accuracy: 0.8110\n",
      "Epoch 18/20\n",
      "200/200 [==============================] - 1s 5ms/step - loss: 0.0548 - accuracy: 0.9840 - val_loss: 0.8493 - val_accuracy: 0.8085\n",
      "Epoch 19/20\n",
      "200/200 [==============================] - 1s 5ms/step - loss: 0.0512 - accuracy: 0.9849 - val_loss: 0.9032 - val_accuracy: 0.8081\n",
      "Epoch 20/20\n",
      "200/200 [==============================] - 1s 5ms/step - loss: 0.0470 - accuracy: 0.9859 - val_loss: 0.9227 - val_accuracy: 0.8069\n"
     ]
    }
   ],
   "source": [
    "# 학습의 진행\n",
    "model_1dcnn.compile(optimizer='adam',\n",
    "              loss='binary_crossentropy',\n",
    "              metrics=['accuracy'])\n",
    "              \n",
    "epochs=20  # 몇 epoch를 훈련하면 좋을지 결과를 보면서 바꾸어 봅시다. \n",
    "\n",
    "history_1dcnn = model_1dcnn.fit(partial_x_train,\n",
    "                    partial_y_train,\n",
    "                    epochs=epochs,\n",
    "                    batch_size=512,\n",
    "                    validation_data=(x_val, y_val),\n",
    "                    verbose=1)"
   ]
  },
  {
   "cell_type": "code",
   "execution_count": 15,
   "id": "3b499c90",
   "metadata": {},
   "outputs": [
    {
     "name": "stdout",
     "output_type": "stream",
     "text": [
      "1532/1532 - 2s - loss: 0.9423 - accuracy: 0.8026\n",
      "[0.9423428773880005, 0.80255126953125]\n"
     ]
    }
   ],
   "source": [
    "results = model_1dcnn.evaluate(X_test,  y_test, verbose=2)\n",
    "\n",
    "print(results)"
   ]
  },
  {
   "cell_type": "code",
   "execution_count": 16,
   "id": "f3454334",
   "metadata": {},
   "outputs": [
    {
     "name": "stdout",
     "output_type": "stream",
     "text": [
      "dict_keys(['loss', 'accuracy', 'val_loss', 'val_accuracy'])\n"
     ]
    }
   ],
   "source": [
    "history_1dcnn_dict = history_1dcnn.history\n",
    "print(history_1dcnn_dict.keys()) # epoch에 따른 그래프를 그려볼 수 있는 항목들"
   ]
  },
  {
   "cell_type": "code",
   "execution_count": 17,
   "id": "4fc25abd",
   "metadata": {},
   "outputs": [
    {
     "data": {
      "image/png": "[encoded data removed]",
      "text/plain": [
       "<Figure size 1080x360 with 2 Axes>"
      ]
     },
     "metadata": {
      "needs_background": "light"
     },
     "output_type": "display_data"
    }
   ],
   "source": [
    "import matplotlib.pyplot as plt\n",
    "\n",
    "acc = history_1dcnn_dict['accuracy']\n",
    "val_acc = history_1dcnn_dict['val_accuracy']\n",
    "loss = history_1dcnn_dict['loss']\n",
    "val_loss = history_1dcnn_dict['val_loss']\n",
    "\n",
    "epochs = range(1, len(acc) + 1)\n",
    "\n",
    "\n",
    "plt.figure(figsize=(15, 5))\n",
    "plt.subplot(1, 2, 1)\n",
    "plt.plot(epochs, acc, 'bo', label='accuracy')\n",
    "plt.plot(epochs, val_acc, 'red', label='validation accuracy')\n",
    "plt.title('accuracy')\n",
    "plt.xlabel('Epochs')\n",
    "plt.ylabel('accuracy')\n",
    "plt.legend()\n",
    "\n",
    "plt.subplot(1, 2, 2)\n",
    "plt.plot(epochs, loss, 'bo', label='accuracy')\n",
    "plt.plot(epochs, val_loss, 'red', label='validation loss')\n",
    "plt.title('loss')\n",
    "plt.xlabel('Epochs')\n",
    "plt.ylabel('loss')\n",
    "plt.legend()\n",
    "\n",
    "plt.show()"
   ]
  },
  {
   "cell_type": "code",
   "execution_count": 18,
   "id": "add8875d",
   "metadata": {},
   "outputs": [
    {
     "name": "stdout",
     "output_type": "stream",
     "text": [
      "Model: \"sequential_2\"\n",
      "_________________________________________________________________\n",
      "Layer (type)                 Output Shape              Param #   \n",
      "=================================================================\n",
      "embedding_2 (Embedding)      (None, None, 16)          160000    \n",
      "_________________________________________________________________\n",
      "global_max_pooling1d_1 (Glob (None, 16)                0         \n",
      "_________________________________________________________________\n",
      "dense_4 (Dense)              (None, 8)                 136       \n",
      "_________________________________________________________________\n",
      "dense_5 (Dense)              (None, 1)                 9         \n",
      "=================================================================\n",
      "Total params: 160,145\n",
      "Trainable params: 160,145\n",
      "Non-trainable params: 0\n",
      "_________________________________________________________________\n"
     ]
    }
   ],
   "source": [
    "vocab_size = 10000  # 어휘 사전의 크기입니다(10개의 단어)\n",
    "word_vector_dim = 16   # 단어 하나를 표현하는 임베딩 벡터의 차원 수입니다. \n",
    "\n",
    "model_gmp = keras.Sequential()\n",
    "model_gmp.add(keras.layers.Embedding(vocab_size, word_vector_dim, input_shape=(None,)))\n",
    "model_gmp.add(keras.layers.GlobalMaxPooling1D())\n",
    "model_gmp.add(keras.layers.Dense(8, activation='relu'))\n",
    "model_gmp.add(keras.layers.Dense(1, activation='sigmoid'))  # 최종 출력은 긍정/부정을 나타내는 1dim 입니다.\n",
    "\n",
    "model_gmp.summary()"
   ]
  },
  {
   "cell_type": "code",
   "execution_count": 19,
   "id": "b7ee8914",
   "metadata": {},
   "outputs": [
    {
     "name": "stdout",
     "output_type": "stream",
     "text": [
      "Epoch 1/20\n",
      "200/200 [==============================] - 1s 4ms/step - loss: 0.6216 - accuracy: 0.7581 - val_loss: 0.4834 - val_accuracy: 0.8096\n",
      "Epoch 2/20\n",
      "200/200 [==============================] - 1s 4ms/step - loss: 0.4094 - accuracy: 0.8281 - val_loss: 0.3794 - val_accuracy: 0.8321\n",
      "Epoch 3/20\n",
      "200/200 [==============================] - 1s 4ms/step - loss: 0.3464 - accuracy: 0.8531 - val_loss: 0.3640 - val_accuracy: 0.8375\n",
      "Epoch 4/20\n",
      "200/200 [==============================] - 1s 4ms/step - loss: 0.3157 - accuracy: 0.8685 - val_loss: 0.3611 - val_accuracy: 0.8401\n",
      "Epoch 5/20\n",
      "200/200 [==============================] - 1s 4ms/step - loss: 0.2931 - accuracy: 0.8799 - val_loss: 0.3631 - val_accuracy: 0.8408\n",
      "Epoch 6/20\n",
      "200/200 [==============================] - 1s 4ms/step - loss: 0.2748 - accuracy: 0.8882 - val_loss: 0.3689 - val_accuracy: 0.8417\n",
      "Epoch 7/20\n",
      "200/200 [==============================] - 1s 4ms/step - loss: 0.2588 - accuracy: 0.8958 - val_loss: 0.3772 - val_accuracy: 0.8407\n",
      "Epoch 8/20\n",
      "200/200 [==============================] - 1s 4ms/step - loss: 0.2448 - accuracy: 0.9028 - val_loss: 0.3874 - val_accuracy: 0.8387\n",
      "Epoch 9/20\n",
      "200/200 [==============================] - 1s 4ms/step - loss: 0.2325 - accuracy: 0.9086 - val_loss: 0.3969 - val_accuracy: 0.8372\n",
      "Epoch 10/20\n",
      "200/200 [==============================] - 1s 4ms/step - loss: 0.2213 - accuracy: 0.9137 - val_loss: 0.4088 - val_accuracy: 0.8355\n",
      "Epoch 11/20\n",
      "200/200 [==============================] - 1s 4ms/step - loss: 0.2109 - accuracy: 0.9184 - val_loss: 0.4205 - val_accuracy: 0.8335\n",
      "Epoch 12/20\n",
      "200/200 [==============================] - 1s 4ms/step - loss: 0.2014 - accuracy: 0.9232 - val_loss: 0.4352 - val_accuracy: 0.8332\n",
      "Epoch 13/20\n",
      "200/200 [==============================] - 1s 4ms/step - loss: 0.1928 - accuracy: 0.9271 - val_loss: 0.4484 - val_accuracy: 0.8317\n",
      "Epoch 14/20\n",
      "200/200 [==============================] - 1s 4ms/step - loss: 0.1845 - accuracy: 0.9310 - val_loss: 0.4625 - val_accuracy: 0.8305\n",
      "Epoch 15/20\n",
      "200/200 [==============================] - 1s 4ms/step - loss: 0.1768 - accuracy: 0.9350 - val_loss: 0.4758 - val_accuracy: 0.8276\n",
      "Epoch 16/20\n",
      "200/200 [==============================] - 1s 4ms/step - loss: 0.1697 - accuracy: 0.9372 - val_loss: 0.4909 - val_accuracy: 0.8270\n",
      "Epoch 17/20\n",
      "200/200 [==============================] - 1s 4ms/step - loss: 0.1632 - accuracy: 0.9412 - val_loss: 0.5049 - val_accuracy: 0.8254\n",
      "Epoch 18/20\n",
      "200/200 [==============================] - 1s 4ms/step - loss: 0.1569 - accuracy: 0.9446 - val_loss: 0.5215 - val_accuracy: 0.8241\n",
      "Epoch 19/20\n",
      "200/200 [==============================] - 1s 4ms/step - loss: 0.1516 - accuracy: 0.9459 - val_loss: 0.5363 - val_accuracy: 0.8231\n",
      "Epoch 20/20\n",
      "200/200 [==============================] - 1s 4ms/step - loss: 0.1461 - accuracy: 0.9489 - val_loss: 0.5508 - val_accuracy: 0.8220\n"
     ]
    }
   ],
   "source": [
    "# 학습의 진행\n",
    "model_gmp.compile(optimizer='adam',\n",
    "              loss='binary_crossentropy',\n",
    "              metrics=['accuracy'])\n",
    "              \n",
    "epochs=20  # 몇 epoch를 훈련하면 좋을지 결과를 보면서 바꾸어 봅시다. \n",
    "\n",
    "history_gmp = model_gmp.fit(partial_x_train,\n",
    "                    partial_y_train,\n",
    "                    epochs=epochs,\n",
    "                    batch_size=512,\n",
    "                    validation_data=(x_val, y_val),\n",
    "                    verbose=1)"
   ]
  },
  {
   "cell_type": "code",
   "execution_count": 20,
   "id": "94e5a18b",
   "metadata": {},
   "outputs": [
    {
     "name": "stdout",
     "output_type": "stream",
     "text": [
      "1532/1532 - 2s - loss: 0.5593 - accuracy: 0.8189\n",
      "[0.5592678785324097, 0.8189406991004944]\n"
     ]
    }
   ],
   "source": [
    "results = model_gmp.evaluate(X_test,  y_test, verbose=2)\n",
    "\n",
    "print(results)"
   ]
  },
  {
   "cell_type": "code",
   "execution_count": 21,
   "id": "e8c640af",
   "metadata": {},
   "outputs": [
    {
     "name": "stdout",
     "output_type": "stream",
     "text": [
      "dict_keys(['loss', 'accuracy', 'val_loss', 'val_accuracy'])\n"
     ]
    }
   ],
   "source": [
    "history_gmp_dict = history_gmp.history\n",
    "print(history_gmp_dict.keys()) # epoch에 따른 그래프를 그려볼 수 있는 항목들"
   ]
  },
  {
   "cell_type": "code",
   "execution_count": 22,
   "id": "98e9fc07",
   "metadata": {},
   "outputs": [
    {
     "data": {
      "image/png": "[encoded data removed]",
      "text/plain": [
       "<Figure size 1080x360 with 2 Axes>"
      ]
     },
     "metadata": {
      "needs_background": "light"
     },
     "output_type": "display_data"
    }
   ],
   "source": [
    "import matplotlib.pyplot as plt\n",
    "\n",
    "acc = history_gmp_dict['accuracy']\n",
    "val_acc = history_gmp_dict['val_accuracy']\n",
    "loss = history_gmp_dict['loss']\n",
    "val_loss = history_gmp_dict['val_loss']\n",
    "\n",
    "epochs = range(1, len(acc) + 1)\n",
    "\n",
    "\n",
    "plt.figure(figsize=(15, 5))\n",
    "plt.subplot(1, 2, 1)\n",
    "plt.plot(epochs, acc, 'bo', label='accuracy')\n",
    "plt.plot(epochs, val_acc, 'red', label='validation accuracy')\n",
    "plt.title('accuracy')\n",
    "plt.xlabel('Epochs')\n",
    "plt.ylabel('accuracy')\n",
    "plt.legend()\n",
    "\n",
    "plt.subplot(1, 2, 2)\n",
    "plt.plot(epochs, loss, 'bo', label='accuracy')\n",
    "plt.plot(epochs, val_loss, 'red', label='validation loss')\n",
    "plt.title('loss')\n",
    "plt.xlabel('Epochs')\n",
    "plt.ylabel('loss')\n",
    "plt.legend()\n",
    "\n",
    "plt.show()"
   ]
  },
  {
   "cell_type": "code",
   "execution_count": 23,
   "id": "20780b70",
   "metadata": {},
   "outputs": [
    {
     "name": "stdout",
     "output_type": "stream",
     "text": [
      "(10000, 16)\n"
     ]
    }
   ],
   "source": [
    "import os\n",
    "import gensim\n",
    "from gensim.models.keyedvectors import Word2VecKeyedVectors\n",
    "from tensorflow.keras.initializers import Constant\n",
    "\n",
    "embedding_layer = model_rnn.layers[0]\n",
    "weights = embedding_layer.get_weights()[0]\n",
    "print(weights.shape)    # shape: (vocab_size, embedding_dim)"
   ]
  },
  {
   "cell_type": "code",
   "execution_count": 24,
   "id": "31bbee94",
   "metadata": {},
   "outputs": [],
   "source": [
    "# 학습한 Embedding 파라미터를 파일에 써서 저장합니다. \n",
    "word2vec_file_path = os.getenv('HOME')+'/aiffel/sentiment_classification/data/word2vec.txt'\n",
    "f = open(word2vec_file_path, 'w')\n",
    "f.write('{} {}\\n'.format(vocab_size-4, word_vector_dim))  # 몇개의 벡터를 얼마 사이즈로 기재할지 타이틀을 씁니다.\n",
    "\n",
    "# 단어 개수(에서 특수문자 4개는 제외하고)만큼의 워드 벡터를 파일에 기록합니다. \n",
    "vectors = model_rnn.get_weights()[0]\n",
    "for i in range(4,vocab_size):\n",
    "    f.write('{} {}\\n'.format(index_to_word[i], ' '.join(map(str, list(vectors[i, :])))))\n",
    "f.close()"
   ]
  },
  {
   "cell_type": "code",
   "execution_count": 25,
   "id": "c0e65b30",
   "metadata": {},
   "outputs": [
    {
     "data": {
      "text/plain": [
       "array([ 0.04293397, -0.00620962,  0.01167466, -0.10735663, -0.06107241,\n",
       "        0.16141713,  0.06476311,  0.07128425, -0.05947423, -0.09827703,\n",
       "        0.13039535,  0.09641946, -0.11708685,  0.03784399, -0.09062321,\n",
       "       -0.0613883 ], dtype=float32)"
      ]
     },
     "execution_count": 25,
     "metadata": {},
     "output_type": "execute_result"
    }
   ],
   "source": [
    "word_vectors = Word2VecKeyedVectors.load_word2vec_format(word2vec_file_path, binary=False)\n",
    "vector = word_vectors['사랑']\n",
    "vector"
   ]
  },
  {
   "cell_type": "code",
   "execution_count": 26,
   "id": "2f7de795",
   "metadata": {},
   "outputs": [
    {
     "data": {
      "text/plain": [
       "[('밖에', 0.9079948663711548),\n",
       " ('전해', 0.9078454971313477),\n",
       " ('순수', 0.899894654750824),\n",
       " ('눈물', 0.8950660228729248),\n",
       " ('통쾌', 0.8901728987693787),\n",
       " ('소름', 0.8899068832397461),\n",
       " ('더라구요', 0.889876663684845),\n",
       " ('천재', 0.886942446231842),\n",
       " ('힐링', 0.8821571469306946),\n",
       " ('최종', 0.8781214952468872)]"
      ]
     },
     "execution_count": 26,
     "metadata": {},
     "output_type": "execute_result"
    }
   ],
   "source": [
    "word_vectors.similar_by_word(\"사랑\")"
   ]
  },
  {
   "cell_type": "markdown",
   "id": "8f7a0a1f",
   "metadata": {},
   "source": [
    "! pip install --upgrade gensim==3.8.3"
   ]
  },
  {
   "cell_type": "code",
   "execution_count": 28,
   "id": "6c748318",
   "metadata": {},
   "outputs": [
    {
     "name": "stderr",
     "output_type": "stream",
     "text": [
      "/tmp/ipykernel_1497/1316910597.py:6: DeprecationWarning: Call to deprecated `__getitem__` (Method will be removed in 4.0.0, use self.wv.__getitem__() instead).\n",
      "  vector = word2vec['사랑']\n"
     ]
    },
    {
     "data": {
      "text/plain": [
       "array([-1.3740246 , -1.7353463 ,  3.3915305 , -2.569253  , -1.4016607 ,\n",
       "        1.4556127 ,  0.9414557 ,  1.9207907 ,  0.16471806,  0.4838317 ,\n",
       "       -0.8547181 ,  2.0879807 ,  0.86741775,  0.87539405, -0.09962013,\n",
       "        0.22928311, -1.1858722 ,  0.00858838,  1.4999928 , -0.16196461,\n",
       "       -0.35184434, -0.92390764,  1.0849575 ,  0.3025011 ,  2.7021565 ,\n",
       "       -1.0263684 ,  0.32864776, -0.76589465, -2.510981  , -0.66225356,\n",
       "        2.8434615 ,  0.50130975, -1.021874  , -1.4366034 ,  1.1110784 ,\n",
       "        0.5812605 , -0.5830406 , -0.5785423 ,  1.3634988 ,  2.3074338 ,\n",
       "       -1.4314893 ,  0.45745876,  1.1073523 , -3.2135262 , -0.2898375 ,\n",
       "       -1.1622221 ,  1.2369208 , -0.7622987 , -0.37757635,  1.1376442 ,\n",
       "        0.01065568, -0.69105595,  1.5159112 ,  1.1534518 , -1.0119992 ,\n",
       "       -0.5757404 ,  1.1349088 , -1.1289831 ,  0.13004152,  2.0451715 ,\n",
       "       -0.23940353,  1.3604902 ,  0.72700524,  0.32545742,  1.0612459 ,\n",
       "        0.42252553,  1.1442151 ,  2.8774905 ,  2.4377263 , -1.340305  ,\n",
       "        0.12629706, -0.07772489, -0.59053177, -0.19007324,  0.1396541 ,\n",
       "       -1.8655105 ,  0.9401054 ,  0.5150856 ,  0.7795373 , -0.86505556,\n",
       "        0.11842118, -1.8303713 ,  1.337177  , -1.0102932 , -0.37180334,\n",
       "        0.00893255, -0.49141577, -1.05802   , -2.5987291 ,  0.9731856 ,\n",
       "        0.34080654, -2.5973568 ,  1.0046519 , -1.3914212 , -0.6504351 ,\n",
       "       -0.9010805 , -1.1341541 ,  0.75565654,  1.2941337 ,  0.0880572 ,\n",
       "       -1.0341461 , -0.1750075 , -0.01880708, -1.0835075 , -2.0333962 ,\n",
       "        1.1372623 ,  1.0626172 , -1.8369784 , -2.2662086 , -3.382057  ,\n",
       "        1.6751666 , -0.2988223 , -0.25563756, -1.5594274 ,  0.6313433 ,\n",
       "       -1.2667153 , -1.6857744 , -1.0949599 ,  0.7742313 , -0.6095523 ,\n",
       "        3.19503   ,  0.13200459,  1.7937473 , -2.8782516 ,  1.3821276 ,\n",
       "        2.2895143 ,  0.0741943 , -0.41046414,  1.438796  ,  0.19373988,\n",
       "        1.4294034 ,  1.5025262 ,  1.4849502 ,  1.5754777 ,  2.7793512 ,\n",
       "       -0.6885003 , -0.30154693, -1.708323  ,  1.1030879 , -2.2597387 ,\n",
       "        1.1909146 ,  2.4399316 ,  0.3990314 ,  0.904154  ,  0.5454401 ,\n",
       "       -1.3235748 , -0.64812386,  0.22390233,  0.9657619 , -0.47360668,\n",
       "       -0.10278235, -1.0679734 , -0.91414386,  0.92069   ,  0.3549338 ,\n",
       "        0.32858834,  0.84870636,  3.596926  , -1.6651102 ,  0.23658653,\n",
       "        1.0515738 ,  0.40531915, -0.773514  , -0.93460965, -0.3946274 ,\n",
       "       -1.5657727 ,  1.183652  ,  2.5277    ,  0.57700926,  1.7051374 ,\n",
       "       -1.8249958 , -2.0328498 ,  0.6617798 ,  0.85747904,  0.31782728,\n",
       "       -1.1660796 ,  0.32923874,  2.2055087 , -0.12782003,  2.0455444 ,\n",
       "       -0.1724252 ,  0.46001154,  1.559042  , -1.6152996 , -0.84242785,\n",
       "        0.7553168 ,  0.39734274,  0.07714175,  0.05610155,  0.32837135,\n",
       "        1.0220716 ,  1.3816743 ,  0.8049544 ,  0.28728685, -0.97610044,\n",
       "        0.8861181 , -0.01250968, -1.4845604 , -1.5236791 , -1.5451258 ],\n",
       "      dtype=float32)"
      ]
     },
     "execution_count": 28,
     "metadata": {},
     "output_type": "execute_result"
    }
   ],
   "source": [
    "import gensim\n",
    "from gensim.models import KeyedVectors\n",
    "\n",
    "word2vec_path = os.getenv('HOME')+'/aiffel/sentiment_classification/data/ko.bin'\n",
    "word2vec = gensim.models.Word2Vec.load(word2vec_path)\n",
    "vector = word2vec['사랑']\n",
    "vector     # 무려 300dim의 워드 벡터입니다."
   ]
  },
  {
   "cell_type": "code",
   "execution_count": 35,
   "id": "d151d61e",
   "metadata": {},
   "outputs": [
    {
     "name": "stderr",
     "output_type": "stream",
     "text": [
      "/tmp/ipykernel_1497/1360476464.py:1: DeprecationWarning: Call to deprecated `similar_by_word` (Method will be removed in 4.0.0, use self.wv.similar_by_word() instead).\n",
      "  word2vec.similar_by_word(\"사랑\")\n"
     ]
    },
    {
     "data": {
      "text/plain": [
       "[('슬픔', 0.7216662764549255),\n",
       " ('행복', 0.6759077310562134),\n",
       " ('절망', 0.6468985080718994),\n",
       " ('기쁨', 0.6458414196968079),\n",
       " ('이별', 0.6334798336029053),\n",
       " ('추억', 0.6320937275886536),\n",
       " ('인생', 0.6216273307800293),\n",
       " ('애정', 0.6206069588661194),\n",
       " ('연인', 0.6186063289642334),\n",
       " ('유혹', 0.5965287685394287)]"
      ]
     },
     "execution_count": 35,
     "metadata": {},
     "output_type": "execute_result"
    }
   ],
   "source": [
    "word2vec.similar_by_word(\"사랑\")"
   ]
  },
  {
   "cell_type": "code",
   "execution_count": 36,
   "id": "52a08327",
   "metadata": {},
   "outputs": [
    {
     "name": "stderr",
     "output_type": "stream",
     "text": [
      "/tmp/ipykernel_1497/1195740980.py:1: DeprecationWarning: Call to deprecated `similar_by_word` (Method will be removed in 4.0.0, use self.wv.similar_by_word() instead).\n",
      "  word2vec.similar_by_word(\"이별\")\n"
     ]
    },
    {
     "data": {
      "text/plain": [
       "[('헤어지', 0.6900225877761841),\n",
       " ('슬픔', 0.6873862147331238),\n",
       " ('추억', 0.6457439661026001),\n",
       " ('슬프', 0.6412862539291382),\n",
       " ('재회', 0.6345380544662476),\n",
       " ('사랑', 0.6334798336029053),\n",
       " ('첫사랑', 0.6128619909286499),\n",
       " ('고독', 0.6117805242538452),\n",
       " ('절망', 0.5997450947761536),\n",
       " ('작별', 0.5857374668121338)]"
      ]
     },
     "execution_count": 36,
     "metadata": {},
     "output_type": "execute_result"
    }
   ],
   "source": [
    "word2vec.similar_by_word(\"이별\")"
   ]
  },
  {
   "cell_type": "code",
   "execution_count": 37,
   "id": "2c741806",
   "metadata": {},
   "outputs": [
    {
     "name": "stderr",
     "output_type": "stream",
     "text": [
      "/tmp/ipykernel_1497/1730871920.py:7: DeprecationWarning: Call to deprecated `__contains__` (Method will be removed in 4.0.0, use self.wv.__contains__() instead).\n",
      "  if index_to_word[i] in word2vec:\n",
      "/tmp/ipykernel_1497/1730871920.py:8: DeprecationWarning: Call to deprecated `__getitem__` (Method will be removed in 4.0.0, use self.wv.__getitem__() instead).\n",
      "  embedding_matrix[i] = word2vec[index_to_word[i]]\n"
     ]
    }
   ],
   "source": [
    "vocab_size = 10000    # 어휘 사전의 크기입니다(10,000개의 단어)\n",
    "word_vector_dim = 200  # 워드 벡터의 차원수\n",
    "embedding_matrix = np.random.rand(vocab_size, word_vector_dim)\n",
    "\n",
    "# embedding_matrix에 Word2Vec 워드 벡터를 단어 하나씩마다 차례차례 카피한다.\n",
    "for i in range(4,vocab_size):\n",
    "    if index_to_word[i] in word2vec:\n",
    "        embedding_matrix[i] = word2vec[index_to_word[i]]"
   ]
  },
  {
   "cell_type": "code",
   "execution_count": 39,
   "id": "466736fd",
   "metadata": {},
   "outputs": [
    {
     "name": "stdout",
     "output_type": "stream",
     "text": [
      "Model: \"sequential_4\"\n",
      "_________________________________________________________________\n",
      "Layer (type)                 Output Shape              Param #   \n",
      "=================================================================\n",
      "embedding_3 (Embedding)      (None, 36, 200)           2000000   \n",
      "_________________________________________________________________\n",
      "lstm_1 (LSTM)                (None, 128)               168448    \n",
      "_________________________________________________________________\n",
      "dense_6 (Dense)              (None, 8)                 1032      \n",
      "_________________________________________________________________\n",
      "dense_7 (Dense)              (None, 1)                 9         \n",
      "=================================================================\n",
      "Total params: 2,169,489\n",
      "Trainable params: 2,169,489\n",
      "Non-trainable params: 0\n",
      "_________________________________________________________________\n"
     ]
    }
   ],
   "source": [
    "# model 설계 - 딥러닝 모델 코드를 직접 작성해 주세요.\n",
    "model = keras.Sequential()\n",
    "model.add(keras.layers.Embedding(vocab_size, \n",
    "                                 word_vector_dim, \n",
    "                                 embeddings_initializer=Constant(embedding_matrix),\n",
    "                                 input_length=maxlen,\n",
    "                                 trainable=True))\n",
    "model.add(keras.layers.LSTM(128))   # 가장 널리 쓰이는 RNN인 LSTM 레이어를 사용하였습니다. 이때 LSTM state 벡터의 차원수는 8로 하였습니다. (변경 가능)\n",
    "model.add(keras.layers.Dense(8, activation='relu'))\n",
    "model.add(keras.layers.Dense(1, activation='sigmoid'))  # 최종 출력은 긍정/부정을 나타내는 1dim 입니다.\n",
    "\n",
    "model.summary()"
   ]
  },
  {
   "cell_type": "code",
   "execution_count": 40,
   "id": "2b5fc916",
   "metadata": {},
   "outputs": [
    {
     "name": "stdout",
     "output_type": "stream",
     "text": [
      "Epoch 1/20\n",
      "1595/1595 [==============================] - 11s 6ms/step - loss: 0.4412 - accuracy: 0.7784 - val_loss: 0.3488 - val_accuracy: 0.8464\n",
      "Epoch 2/20\n",
      "1595/1595 [==============================] - 10s 6ms/step - loss: 0.3104 - accuracy: 0.8659 - val_loss: 0.3321 - val_accuracy: 0.8548\n",
      "Epoch 3/20\n",
      "1595/1595 [==============================] - 10s 6ms/step - loss: 0.2629 - accuracy: 0.8892 - val_loss: 0.3310 - val_accuracy: 0.8588\n",
      "Epoch 4/20\n",
      "1595/1595 [==============================] - 10s 6ms/step - loss: 0.2212 - accuracy: 0.9084 - val_loss: 0.3464 - val_accuracy: 0.8556\n",
      "Epoch 5/20\n",
      "1595/1595 [==============================] - 10s 6ms/step - loss: 0.1824 - accuracy: 0.9273 - val_loss: 0.3841 - val_accuracy: 0.8563\n",
      "Epoch 6/20\n",
      "1595/1595 [==============================] - 10s 6ms/step - loss: 0.1468 - accuracy: 0.9433 - val_loss: 0.4308 - val_accuracy: 0.8530\n",
      "Epoch 7/20\n",
      "1595/1595 [==============================] - 10s 6ms/step - loss: 0.1170 - accuracy: 0.9563 - val_loss: 0.4785 - val_accuracy: 0.8499\n",
      "Epoch 8/20\n",
      "1595/1595 [==============================] - 10s 6ms/step - loss: 0.0948 - accuracy: 0.9656 - val_loss: 0.5283 - val_accuracy: 0.8504\n",
      "Epoch 9/20\n",
      "1595/1595 [==============================] - 10s 6ms/step - loss: 0.0795 - accuracy: 0.9715 - val_loss: 0.5749 - val_accuracy: 0.8471\n",
      "Epoch 10/20\n",
      "1595/1595 [==============================] - 10s 6ms/step - loss: 0.0683 - accuracy: 0.9756 - val_loss: 0.6324 - val_accuracy: 0.8459\n",
      "Epoch 11/20\n",
      "1595/1595 [==============================] - 10s 6ms/step - loss: 0.0598 - accuracy: 0.9789 - val_loss: 0.6439 - val_accuracy: 0.8413\n",
      "Epoch 12/20\n",
      "1595/1595 [==============================] - 10s 6ms/step - loss: 0.0544 - accuracy: 0.9806 - val_loss: 0.7350 - val_accuracy: 0.8417\n",
      "Epoch 13/20\n",
      "1595/1595 [==============================] - 10s 6ms/step - loss: 0.0488 - accuracy: 0.9823 - val_loss: 0.6830 - val_accuracy: 0.8420\n",
      "Epoch 14/20\n",
      "1595/1595 [==============================] - 10s 6ms/step - loss: 0.0446 - accuracy: 0.9839 - val_loss: 0.6985 - val_accuracy: 0.8411\n",
      "Epoch 15/20\n",
      "1595/1595 [==============================] - 10s 6ms/step - loss: 0.0430 - accuracy: 0.9848 - val_loss: 0.7428 - val_accuracy: 0.8428\n",
      "Epoch 16/20\n",
      "1595/1595 [==============================] - 10s 6ms/step - loss: 0.0387 - accuracy: 0.9860 - val_loss: 0.7689 - val_accuracy: 0.8443\n",
      "Epoch 17/20\n",
      "1595/1595 [==============================] - 10s 6ms/step - loss: 0.0383 - accuracy: 0.9860 - val_loss: 0.7823 - val_accuracy: 0.8432\n",
      "Epoch 18/20\n",
      "1595/1595 [==============================] - 10s 6ms/step - loss: 0.0337 - accuracy: 0.9879 - val_loss: 0.7744 - val_accuracy: 0.8438\n",
      "Epoch 19/20\n",
      "1595/1595 [==============================] - 10s 6ms/step - loss: 0.0341 - accuracy: 0.9875 - val_loss: 0.8061 - val_accuracy: 0.8425\n",
      "Epoch 20/20\n",
      "1595/1595 [==============================] - 10s 6ms/step - loss: 0.0338 - accuracy: 0.9876 - val_loss: 0.8210 - val_accuracy: 0.8409\n"
     ]
    }
   ],
   "source": [
    "model.compile(optimizer='adam',\n",
    "              loss='binary_crossentropy',\n",
    "              metrics=['accuracy'])\n",
    "              \n",
    "epochs=20  # 몇 epoch를 훈련하면 좋을지 결과를 보면서 바꾸어 봅시다. \n",
    "\n",
    "history = model.fit(partial_x_train,\n",
    "                    partial_y_train,\n",
    "                    epochs=epochs,\n",
    "                    batch_size=64,\n",
    "                    validation_data=(x_val, y_val),\n",
    "                    verbose=1)"
   ]
  },
  {
   "cell_type": "code",
   "execution_count": 41,
   "id": "76279c9b",
   "metadata": {},
   "outputs": [
    {
     "name": "stdout",
     "output_type": "stream",
     "text": [
      "1532/1532 - 3s - loss: 0.8354 - accuracy: 0.8375\n",
      "[0.8354032635688782, 0.8374528288841248]\n"
     ]
    }
   ],
   "source": [
    "results = model.evaluate(X_test,  y_test, verbose=2)\n",
    "\n",
    "print(results)"
   ]
  },
  {
   "cell_type": "code",
   "execution_count": 42,
   "id": "dbb6a638",
   "metadata": {},
   "outputs": [
    {
     "name": "stdout",
     "output_type": "stream",
     "text": [
      "dict_keys(['loss', 'accuracy', 'val_loss', 'val_accuracy'])\n"
     ]
    }
   ],
   "source": [
    "history_dict = history.history\n",
    "print(history_dict.keys()) # epoch에 따른 그래프를 그려볼 수 있는 항목들"
   ]
  },
  {
   "cell_type": "code",
   "execution_count": 43,
   "id": "a05573c9",
   "metadata": {},
   "outputs": [
    {
     "data": {
      "image/png": "[encoded data removed]",
      "text/plain": [
       "<Figure size 1080x360 with 2 Axes>"
      ]
     },
     "metadata": {
      "needs_background": "light"
     },
     "output_type": "display_data"
    }
   ],
   "source": [
    "import matplotlib.pyplot as plt\n",
    "\n",
    "acc = history_dict['accuracy']\n",
    "val_acc = history_dict['val_accuracy']\n",
    "loss = history_dict['loss']\n",
    "val_loss = history_dict['val_loss']\n",
    "\n",
    "epochs = range(1, len(acc) + 1)\n",
    "\n",
    "\n",
    "plt.figure(figsize=(15, 5))\n",
    "plt.subplot(1, 2, 1)\n",
    "plt.plot(epochs, acc, 'bo', label='accuracy')\n",
    "plt.plot(epochs, val_acc, 'red', label='validation accuracy')\n",
    "plt.title('accuracy')\n",
    "plt.xlabel('Epochs')\n",
    "plt.ylabel('accuracy')\n",
    "plt.legend()\n",
    "\n",
    "plt.subplot(1, 2, 2)\n",
    "plt.plot(epochs, loss, 'bo', label='accuracy')\n",
    "plt.plot(epochs, val_loss, 'red', label='validation loss')\n",
    "plt.title('loss')\n",
    "plt.xlabel('Epochs')\n",
    "plt.ylabel('loss')\n",
    "plt.legend()\n",
    "\n",
    "plt.show()"
   ]
  },
  {
   "cell_type": "code",
   "execution_count": null,
   "id": "b5e6fb2a",
   "metadata": {},
   "outputs": [],
   "source": []
  }
 ],
 "metadata": {
  "kernelspec": {
   "display_name": "Python 3 (ipykernel)",
   "language": "python",
   "name": "python3"
  },
  "language_info": {
   "codemirror_mode": {
    "name": "ipython",
    "version": 3
   },
   "file_extension": ".py",
   "mimetype": "text/x-python",
   "name": "python",
   "nbconvert_exporter": "python",
   "pygments_lexer": "ipython3",
   "version": "3.9.7"
  }
 },
 "nbformat": 4,
 "nbformat_minor": 5
}
